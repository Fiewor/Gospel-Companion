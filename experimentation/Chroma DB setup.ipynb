{
 "cells": [
  {
   "cell_type": "code",
   "execution_count": 37,
   "metadata": {},
   "outputs": [
    {
     "data": {
      "text/plain": [
       "True"
      ]
     },
     "execution_count": 37,
     "metadata": {},
     "output_type": "execute_result"
    }
   ],
   "source": [
    "import os\n",
    "\n",
    "# Add OpenAI library\n",
    "import openai\n",
    "\n",
    "# Get Configuration Settings\n",
    "from dotenv import load_dotenv\n",
    "load_dotenv()"
   ]
  },
  {
   "cell_type": "code",
   "execution_count": 38,
   "metadata": {},
   "outputs": [],
   "source": [
    "# Configure OpenAI API using Azure OpenAI\n",
    "openai.api_key = os.getenv(\"API_KEY\")\n",
    "openai.api_base = os.getenv(\"ENDPOINT\")\n",
    "openai.api_type = \"azure\"  # Necessary for using the OpenAI library with Azure OpenAI\n",
    "openai.api_version = \"2024-02-01\"  # Latest / target version of the API"
   ]
  },
  {
   "cell_type": "code",
   "execution_count": 39,
   "metadata": {},
   "outputs": [],
   "source": [
    "from langchain.vectorstores import DocArrayInMemorySearch\n",
    "from langchain.embeddings import OpenAIEmbeddings\n",
    "from langchain.text_splitter import RecursiveCharacterTextSplitter, CharacterTextSplitter\n",
    "from langchain.document_loaders import TextLoader"
   ]
  },
  {
   "cell_type": "code",
   "execution_count": 40,
   "metadata": {},
   "outputs": [],
   "source": [
    "# OpenAI Settings\n",
    "model_deployment = \"text-embedding-ada-002\"\n",
    "# SDK calls this \"engine\", but naming it \"deployment_name\" for clarity\n",
    "\n",
    "model_name = \"text-embedding-ada-002\""
   ]
  },
  {
   "cell_type": "code",
   "execution_count": 41,
   "metadata": {},
   "outputs": [],
   "source": [
    "openai_embeddings: OpenAIEmbeddings = OpenAIEmbeddings(\n",
    "    openai_api_version = os.getenv(\"OPENAI_API_VERSION\"), openai_api_key = os.getenv(\"API_KEY\"),\n",
    "    openai_api_base = os.getenv(\"ENDPOINT\"), openai_api_type = \"azure\"\n",
    ")"
   ]
  },
  {
   "cell_type": "markdown",
   "metadata": {},
   "source": [
    "## Add items to vector store"
   ]
  },
  {
   "cell_type": "code",
   "execution_count": 42,
   "metadata": {},
   "outputs": [],
   "source": [
    "from langchain_chroma import Chroma\n",
    "\n",
    "vector_store_senior = Chroma(\n",
    "    collection_name=\"Senior_Lessons\",\n",
    "    embedding_function=openai_embeddings,\n",
    "    persist_directory=\"/Users/mac/Documents/Gospel-Companion/chroma_afc_sunday_school_lessons_db\",  # Where to save data locally, remove if not neccesary\n",
    ")"
   ]
  },
  {
   "cell_type": "code",
   "execution_count": 43,
   "metadata": {},
   "outputs": [],
   "source": [
    "vector_store_junior = Chroma(\n",
    "    collection_name=\"Junior_Lessons\",\n",
    "    embedding_function=openai_embeddings,\n",
    "    persist_directory=\"/Users/mac/Documents/Gospel-Companion/chroma_afc_sunday_school_lessons_db\",  # Where to save data locally, remove if not neccesary\n",
    ")"
   ]
  },
  {
   "cell_type": "code",
   "execution_count": 44,
   "metadata": {},
   "outputs": [],
   "source": [
    "vector_store_elementary = Chroma(\n",
    "    collection_name=\"Elementary_Lessons\",\n",
    "    embedding_function=openai_embeddings,\n",
    "    persist_directory=\"/Users/mac/Documents/Gospel-Companion/chroma_afc_sunday_school_lessons_db\",  # Where to save data locally, remove if not neccesary\n",
    ")"
   ]
  },
  {
   "cell_type": "code",
   "execution_count": 45,
   "metadata": {},
   "outputs": [],
   "source": [
    "from uuid import uuid4\n",
    "\n",
    "from langchain_core.documents import Document"
   ]
  },
  {
   "cell_type": "code",
   "execution_count": 46,
   "metadata": {},
   "outputs": [],
   "source": [
    "def load_and_process_pdfs(txt_folder_path):\n",
    "    documents = []\n",
    "    for file in os.listdir(txt_folder_path):\n",
    "        if file.endswith('.txt'):\n",
    "            pdf_path = os.path.join(txt_folder_path, file)\n",
    "            loader = TextLoader(pdf_path)\n",
    "            documents.extend(loader.load())\n",
    "    text_splitter = RecursiveCharacterTextSplitter(chunk_size=1000, chunk_overlap=300)\n",
    "    splits = text_splitter.split_documents(documents)\n",
    "    return splits"
   ]
  },
  {
   "cell_type": "markdown",
   "metadata": {},
   "source": [
    "### Senior Lesssons"
   ]
  },
  {
   "cell_type": "code",
   "execution_count": 47,
   "metadata": {},
   "outputs": [],
   "source": [
    "txt_folder_path =  \"/Users/mac/Documents/Gospel-Companion/data/Senior/\"\n",
    "splits = load_and_process_pdfs(txt_folder_path)"
   ]
  },
  {
   "cell_type": "code",
   "execution_count": 48,
   "metadata": {},
   "outputs": [
    {
     "name": "stdout",
     "output_type": "stream",
     "text": [
      "III The Battle's Course and Outcome\n",
      "\n",
      "1. Israel is told that the tribes who responded did so willingly, without thought of financial gain, [JUG:5:19].\n",
      "\n",
      "2. They are also reminded that God fought and won the battle for them, [JUG:5:20-22]; [JUG:4:9], [JUG:5:14-15], [JUG:5:23].\n",
      "\n",
      "3. Jael's faithfulness to God's cause, in spite of a league with the ungodly, is commended, [JUG:5:24-27]; [JUG:4:11-12], [JUG:4:17-21].\n",
      "\n",
      "4. The carnal security of the ungodly, and its futility, is brought to Israel's attention, [JUG:5:28-30].\n",
      "\n",
      "5. A stirring benediction is given, [JUG:5:31]; [HEB:11:32-34], [HEB:11:39].\n",
      "\n",
      "The Song of Praise\n",
      "\n",
      "Practically the whole of Judges 5 is devoted to the song of Deborah and Barak, sung after their battle with the Canaanite army had ended. Its context reveals some deep and heart-searching truths, excellent for personal application today, even though the song was inspired and sung in a period more than 3,000 years ago.\n"
     ]
    }
   ],
   "source": [
    "print(splits[2].page_content)"
   ]
  },
  {
   "cell_type": "code",
   "execution_count": 49,
   "metadata": {},
   "outputs": [],
   "source": [
    "uuids = [str(uuid4()) for _ in range(len(splits))]"
   ]
  },
  {
   "cell_type": "code",
   "execution_count": 50,
   "metadata": {},
   "outputs": [],
   "source": [
    "# vector_store_senior.add_documents(documents=splits, ids=uuids)"
   ]
  },
  {
   "cell_type": "code",
   "execution_count": 51,
   "metadata": {},
   "outputs": [],
   "source": [
    "import time\n",
    "\n",
    "batch_size = 100  # Adjust this batch size based on your rate limit\n",
    "delay = 60  # Delay in seconds between batches\n",
    "\n",
    "for i in range(0, len(splits), batch_size):\n",
    "    batch = splits[i:i+batch_size]\n",
    "    uuids = [str(uuid4()) for _ in range(len(batch))]\n",
    "    vector_store_senior.add_documents(documents=batch, ids=uuids)\n",
    "    time.sleep(delay)  # Delay to prevent hitting rate limits\n"
   ]
  },
  {
   "cell_type": "markdown",
   "metadata": {},
   "source": [
    "### Junior Lessons"
   ]
  },
  {
   "cell_type": "code",
   "execution_count": 15,
   "metadata": {},
   "outputs": [],
   "source": [
    "txt_folder_path =  \"/Users/mac/Documents/Gospel-Companion/data/Junior/\"\n",
    "splits = load_and_process_pdfs(txt_folder_path)"
   ]
  },
  {
   "cell_type": "code",
   "execution_count": 39,
   "metadata": {},
   "outputs": [
    {
     "name": "stdout",
     "output_type": "stream",
     "text": [
      "Bible Text: [JHN:2:1-25].\n",
      "\n",
      "Lesson 28 - Junior\n",
      "\n",
      "Memory Verse: [JHN:2:1-25].\n",
      "\n",
      "Notes\"My house shall be called of all nations the house of prayer\"  (Mark 11:17).\n",
      "\n",
      "More Than a Man\n",
      "\n",
      "The public ministry of Jesus, our Lord, had apparently only begun when He revealed His supernatural power to the people.  He proved that He was more than a man who had come to live as an example to his fellow men. As we learned in our previous lesson, Jesus was equal with God in creating the world. All He had to do was to speak, and the earth was made. In comparison, it was a small matter for the Son of God to change water into wine, but it took the same divine power to perform the act.\n",
      "\n",
      "Tell Jesus\n"
     ]
    }
   ],
   "source": [
    "print(splits[0].page_content)"
   ]
  },
  {
   "cell_type": "code",
   "execution_count": 40,
   "metadata": {},
   "outputs": [],
   "source": [
    "uuids = [str(uuid4()) for _ in range(len(splits))]"
   ]
  },
  {
   "cell_type": "code",
   "execution_count": 41,
   "metadata": {},
   "outputs": [],
   "source": [
    "import time\n",
    "\n",
    "batch_size = 100  # Adjust this batch size based on your rate limit\n",
    "delay = 60  # Delay in seconds between batches\n",
    "\n",
    "for i in range(0, len(splits), batch_size):\n",
    "    batch = splits[i:i+batch_size]\n",
    "    uuids = [str(uuid4()) for _ in range(len(batch))]\n",
    "    vector_store_junior.add_documents(documents=batch, ids=uuids)\n",
    "    time.sleep(delay)  # Delay to prevent hitting rate limits\n"
   ]
  },
  {
   "cell_type": "markdown",
   "metadata": {},
   "source": [
    "### Elementary Lessons"
   ]
  },
  {
   "cell_type": "code",
   "execution_count": 20,
   "metadata": {},
   "outputs": [],
   "source": [
    "txt_folder_path =  \"/Users/mac/Documents/Gospel-Companion/data/Elementary/\"\n",
    "splits = load_and_process_pdfs(txt_folder_path)"
   ]
  },
  {
   "cell_type": "code",
   "execution_count": 21,
   "metadata": {},
   "outputs": [
    {
     "name": "stdout",
     "output_type": "stream",
     "text": [
      "Bible Text: [HEB:11:1-40].\n",
      "\n",
      "\n",
      "        \n",
      "                  [HEB:11:1-40].\n",
      "      \n",
      "  \n",
      "    \n",
      "\n",
      "\n",
      "Lesson 148 - Elementary\n",
      " \n",
      "Memory Verse\n",
      "\n",
      "\n",
      "\"Increase  our  faith\" (Luke 17:5).\n",
      "\n",
      "\n",
      "Notes\n",
      "\n",
      "\n",
      "Believing God's Word\n",
      "\n",
      "\n",
      "None of us have ever seen God; neither have we seen Heaven and the beautiful home Jesus has for us there. But we know that God and Jesus exist and that there is a place called Heaven. Some day we expect to go there to live forever. How do we know these things are true? Because Jesus has come into our heart and saved us. There is something way down in our heart that causes us to believe what the Bible teaches us, and that is called faith. All of us have some faith, and we need more. Do you know how to receive more faith? By listening carefully when the Bible is read to you.\n",
      "\n",
      "\n",
      "Let us talk about some men who lived a long time ago. They had a great deal of faith, and that is why the story of their lives is written in the Bible.\n",
      "\n",
      "\n",
      "Abraham\n"
     ]
    }
   ],
   "source": [
    "print(splits[0].page_content)"
   ]
  },
  {
   "cell_type": "code",
   "execution_count": 22,
   "metadata": {},
   "outputs": [],
   "source": [
    "uuids = [str(uuid4()) for _ in range(len(splits))]"
   ]
  },
  {
   "cell_type": "code",
   "execution_count": 23,
   "metadata": {},
   "outputs": [],
   "source": [
    "import time\n",
    "\n",
    "batch_size = 100  # Adjust this batch size based on your rate limit\n",
    "delay = 60  # Delay in seconds between batches\n",
    "\n",
    "for i in range(0, len(splits), batch_size):\n",
    "    batch = splits[i:i+batch_size]\n",
    "    uuids = [str(uuid4()) for _ in range(len(batch))]\n",
    "    vector_store_elementary.add_documents(documents=batch, ids=uuids)\n",
    "    time.sleep(delay)  # Delay to prevent hitting rate limits\n"
   ]
  },
  {
   "cell_type": "markdown",
   "metadata": {},
   "source": [
    "### Testing Similiary Search"
   ]
  },
  {
   "cell_type": "code",
   "execution_count": 42,
   "metadata": {},
   "outputs": [
    {
     "name": "stdout",
     "output_type": "stream",
     "text": [
      "* The Scripture also says that James and John left their father. Sometimes in these days Jesus requires His children to leave their parents and homes to work for Him; but He has promised, \"Every one that hath forsaken houses, or brethren, or sisters, or father, or mother, or wife, or children, or lands, for my name's sake, shall receive an hundredfold, and shall inherit everlasting life\" (Matthew 19:29).\n",
      "\n",
      "\"Come and See\" [{'source': '/Users/mac/Documents/Gospel-Companion/data/Junior/Lesson18_Junior.txt'}]\n",
      "* The Unwise Request\n",
      "\n",
      "The mother of James and John must have been very proud that Jesus had called her sons to walk close beside Him; and no doubt she thought that her request was reasonable when she said to Him: \"Grant that these my two sons may sit, the one on thy right hand, and the other on the left, in thy kingdom.\"\n",
      "\n",
      "Jesus realised that they did not understand what they were asking. In their minds they could see the kingdoms of the earth which honoured a man as king, and honoured other men who were the king's knights and lords. The carnal nature wants to be praised and looked up to. But Jesus wanted a different spirit in the hearts of His followers. He wanted to show by His life how He expected them to live.\n",
      "\n",
      "A Servant [{'source': '/Users/mac/Documents/Gospel-Companion/data/Junior/Lesson184_Junior.txt'}]\n"
     ]
    }
   ],
   "source": [
    "results = vector_store_junior.similarity_search(\n",
    "    \"What is the name of the mother of James?\",\n",
    "    k=2,\n",
    ")\n",
    "for res in results:\n",
    "    print(f\"* {res.page_content} [{res.metadata}]\")"
   ]
  },
  {
   "cell_type": "code",
   "execution_count": 1,
   "metadata": {},
   "outputs": [
    {
     "ename": "NameError",
     "evalue": "name 'vector_store_junior' is not defined",
     "output_type": "error",
     "traceback": [
      "\u001b[0;31m---------------------------------------------------------------------------\u001b[0m",
      "\u001b[0;31mNameError\u001b[0m                                 Traceback (most recent call last)",
      "Cell \u001b[0;32mIn[1], line 1\u001b[0m\n\u001b[0;32m----> 1\u001b[0m retriever \u001b[38;5;241m=\u001b[39m \u001b[43mvector_store_junior\u001b[49m\u001b[38;5;241m.\u001b[39mas_retriever(search_kwargs\u001b[38;5;241m=\u001b[39m{\u001b[38;5;124m'\u001b[39m\u001b[38;5;124mk\u001b[39m\u001b[38;5;124m'\u001b[39m: \u001b[38;5;241m5\u001b[39m,})\n",
      "\u001b[0;31mNameError\u001b[0m: name 'vector_store_junior' is not defined"
     ]
    }
   ],
   "source": [
    "retriever = vector_store_junior.as_retriever(search_kwargs={'k': 5,})"
   ]
  },
  {
   "cell_type": "markdown",
   "metadata": {},
   "source": [
    "### Testing Chroma DB"
   ]
  },
  {
   "cell_type": "code",
   "execution_count": 45,
   "metadata": {},
   "outputs": [],
   "source": [
    "from langchain.memory import ConversationBufferMemory, ConversationSummaryBufferMemory, ConversationBufferWindowMemory\n",
    "from langchain import PromptTemplate"
   ]
  },
  {
   "cell_type": "code",
   "execution_count": 46,
   "metadata": {},
   "outputs": [],
   "source": [
    "template = \"\"\"\n",
    "Use the following context (delimited by <ctx></ctx>) and the chat history (delimited by <hs></hs>) to answer the user's question. \n",
    "All bible texts are to referenced with King James Version. You can give info on bible texts.\n",
    "If you don't know the answer, just say that you don't know, don't try to make up an answer.\n",
    "------\n",
    "<ctx>\n",
    "{context}\n",
    "</ctx>\n",
    "------\n",
    "<hs>\n",
    "{history}\n",
    "</hs>\n",
    "------\n",
    "{question}\n",
    "Answer:\n",
    "\"\"\"\n",
    "prompt = PromptTemplate(\n",
    "    input_variables=[\"history\", \"context\", \"question\"],\n",
    "    template=template,\n",
    ")"
   ]
  },
  {
   "cell_type": "code",
   "execution_count": 48,
   "metadata": {},
   "outputs": [],
   "source": [
    "from langchain.chains import RetrievalQA\n",
    "from langchain.chat_models import ChatOpenAI\n",
    "from langchain.chains import LLMChain\n",
    "from langchain.llms import OpenAI"
   ]
  },
  {
   "cell_type": "code",
   "execution_count": 49,
   "metadata": {},
   "outputs": [
    {
     "name": "stderr",
     "output_type": "stream",
     "text": [
      "/Users/mac/Documents/Gospel-Companion/lib/python3.11/site-packages/langchain_core/_api/deprecation.py:139: LangChainDeprecationWarning: The class `ChatOpenAI` was deprecated in LangChain 0.0.10 and will be removed in 0.3.0. An updated version of the class exists in the langchain-openai package and should be used instead. To use it run `pip install -U langchain-openai` and import as `from langchain_openai import ChatOpenAI`.\n",
      "  warn_deprecated(\n",
      "WARNING! engine is not default parameter.\n",
      "                    engine was transferred to model_kwargs.\n",
      "                    Please confirm that engine is what you intended.\n"
     ]
    }
   ],
   "source": [
    "llm = ChatOpenAI(temperature = 0.6, openai_api_key = os.getenv(\"API_KEY\"), openai_api_base = os.getenv(\"ENDPOINT\"), model_name=\"gpt-35-turbo\", engine=\"Voicetask\")"
   ]
  },
  {
   "cell_type": "code",
   "execution_count": 55,
   "metadata": {},
   "outputs": [],
   "source": [
    "qa_stuff = RetrievalQA.from_chain_type(\n",
    "    llm=llm, \n",
    "    chain_type=\"stuff\", \n",
    "    retriever=retriever, \n",
    "    verbose=True,\n",
    "    chain_type_kwargs={\n",
    "        \"verbose\": True,\n",
    "        \"prompt\": prompt,\n",
    "        \"memory\": ConversationBufferWindowMemory(\n",
    "            k = 10,\n",
    "            memory_key=\"history\",\n",
    "            input_key=\"question\"),\n",
    "            }\n",
    "    )"
   ]
  },
  {
   "cell_type": "code",
   "execution_count": 56,
   "metadata": {},
   "outputs": [],
   "source": [
    "import langchain\n",
    "langchain.verbose = True"
   ]
  },
  {
   "cell_type": "code",
   "execution_count": 57,
   "metadata": {},
   "outputs": [
    {
     "name": "stdout",
     "output_type": "stream",
     "text": [
      "\n",
      "\n",
      "\u001b[1m> Entering new RetrievalQA chain...\u001b[0m\n",
      "\n",
      "\n",
      "\u001b[1m> Entering new StuffDocumentsChain chain...\u001b[0m\n",
      "\n",
      "\n",
      "\u001b[1m> Entering new LLMChain chain...\u001b[0m\n",
      "Prompt after formatting:\n",
      "\u001b[32;1m\u001b[1;3m\n",
      "Use the following context (delimited by <ctx></ctx>) and the chat history (delimited by <hs></hs>) to answer the user's question. \n",
      "All bible texts are to referenced with King James Version. You can give info on bible texts.\n",
      "If you don't know the answer, just say that you don't know, don't try to make up an answer.\n",
      "------\n",
      "<ctx>\n",
      "1. How did the world come into existence?   How do we know?\n",
      "\n",
      "2. What did God do on the first day?\n",
      "\n",
      "3. What did God say at the close of every day of creation?\n",
      "\n",
      "4. Why did God create the world?\n",
      "\n",
      "5. Why does the ocean stay within its bounds?\n",
      "\n",
      "6. What different kinds of flesh are there?\n",
      "\n",
      "First, God spoke the heavens and the earth into existence, apparently a mass of substance, hidden in darkness.  Then He began to bring order out of that which was without form.  Thoughtfully He did all this for you and me.\n",
      "\n",
      "The First Day\n",
      "\n",
      "On the first day God made light.  There were no sun, moon, nor stars but God could make light without them, for He is light.  Jesus said,  \"I am the light of the world\" (John 8:12).  \"That was the true Light, which lighteth every man that cometh into the world\" (John 1:9).\n",
      "\n",
      "God formed these original animals out of the earth, but they reproduced themselves after their kind, and no more were made out of the earth.\n",
      "\n",
      "What a beautiful world it now was! Every morning the sun came up to shine upon the fields and plains.  Animals grassed peacefully in the forests and meadows, while birds chirped as they flitted above.  The rivers, well stocked with fish, flowed merrily down to the sea.  The great sea monsters and the tiny herring played together in the great depths of the oceans.  And the peace of God reigned upon it all.  All this God had made as a place of habitation for His crowning creation -- man.  This was the scene upon which the first man, Adam, looked when he first beheld the light of day.\n",
      "\n",
      "1. How did the world come into existence?   How do we know?\n",
      "\n",
      "2. What did God do on the first day?\n",
      "\n",
      "3. What did God say at the close of every day of creation?\n",
      "\n",
      "4. Why did God create the world?\n",
      "\n",
      "5. Why does the ocean stay within its bounds?\n",
      "\n",
      "There are still other writers who start at the fourth day of creation, after the sun was made (Genesis 1: 16 19). These so called scientists teach that the sun was a mass of melted rock revolving so fast that a piece flew off. Going around at a high rate of speed would tend to make the piece round. As it cooled off and slowed down it became the earth. Neither do these men tell of the origin of the sun; but the Bible tells us that God said, \"Let there be lights in the firmament of the heaven\" (Genesis 1: 14), and \"God made two great lights; the greater light to rule the day\" (Genesis 1: 16).\n",
      "</ctx>\n",
      "------\n",
      "<hs>\n",
      "\n",
      "</hs>\n",
      "------\n",
      "What are the steps to creation? Answer in bullet form using the days and the creation\n",
      "Answer:\n",
      "\u001b[0m\n",
      "\n",
      "\u001b[1m> Finished chain.\u001b[0m\n",
      "\n",
      "\u001b[1m> Finished chain.\u001b[0m\n",
      "\n",
      "\u001b[1m> Finished chain.\u001b[0m\n",
      "- Day 1: God made light\n",
      "- Day 2: God made the firmament (sky)\n",
      "- Day 3: God separated the waters and made dry land, then created plants and trees\n",
      "- Day 4: God created the sun, moon, and stars\n",
      "- Day 5: God created sea creatures and birds\n",
      "- Day 6: God created land animals and then created man\n",
      "- Day 7: God rested and blessed the seventh day\n"
     ]
    }
   ],
   "source": [
    "query = \"What are the steps to creation? Answer in bullet form using the days and the creation\"\n",
    "# response = qa_stuff.run(query)\n",
    "print(qa_stuff.run(query))"
   ]
  },
  {
   "cell_type": "code",
   "execution_count": 58,
   "metadata": {},
   "outputs": [
    {
     "name": "stdout",
     "output_type": "stream",
     "text": [
      "\n",
      "\n",
      "\u001b[1m> Entering new RetrievalQA chain...\u001b[0m\n",
      "\n",
      "\n",
      "\u001b[1m> Entering new StuffDocumentsChain chain...\u001b[0m\n",
      "\n",
      "\n",
      "\u001b[1m> Entering new LLMChain chain...\u001b[0m\n",
      "Prompt after formatting:\n",
      "\u001b[32;1m\u001b[1;3m\n",
      "Use the following context (delimited by <ctx></ctx>) and the chat history (delimited by <hs></hs>) to answer the user's question. \n",
      "All bible texts are to referenced with King James Version. You can give info on bible texts.\n",
      "If you don't know the answer, just say that you don't know, don't try to make up an answer.\n",
      "------\n",
      "<ctx>\n",
      "The Angel's Message to Mary\n",
      "\n",
      "That was not the only message Gabriel had to tell. Five months later he came to earth again. This time he appeared to a young Jewish maiden who was of the tribe of Judah. And what a message he had to give to her! She was to become the mother of the Messiah! Every Jewish girl, through the long, weary years of waiting for God's promise to be fulfilled, had hoped that she might be the mother of Israel's King who would sit upon the throne of David. This honour was now granted to Mary. She was of the kingly lineage of David; but through the centuries of Babylonians captivity and Roman oppression, the royal splendour of Israel had faded. Our Lord's mother had no fortune nor fame of this world, but she was rich toward God. She had lived to please Him; and now the angel told her: \"Hail, thou that art highly favoured, the Lord is with thee: blessed art thou among women.... thou hast found favour with God.\"\n",
      "\n",
      "Mary and Martha were the sisters of Lazarus ([JHN:11:1-2]). Undoubtedly they were happy to have Jesus in their home. They did not act alike though, after Jesus had accepted their invitation. Let us look into this home to see how they treated Jesus.\n",
      "\n",
      "Sitting at the Feet of Jesus\n",
      "\n",
      "The one sister, Mary, seemed to think that this was an opportunity to listen to the words of the Master. No doubt Jesus knew her desires to hear His teachings. \"Blessed are they which do hunger and thirst after righteousness: for they shall be filled\" (Matthew 5:6). Mary seemed to lose sight of everything else but her chance to receive teachings from the Great Teacher.\n",
      "\n",
      "\"Sitting at the feet of Jesus,\n",
      "\n",
      "O what words I hear Him say!\n",
      "\n",
      "Happy place! So near, so precious!\n",
      "\n",
      "May it find me there each day.\n",
      "\n",
      "Sitting at the feet of Jesus,\n",
      "\n",
      "I would look upon the past;\n",
      "\n",
      "For His love has been so gracious,\n",
      "\n",
      "It has won my heart at last.\n",
      "\n",
      "\"Sitting at the feet of Jesus,\n",
      "\n",
      "Where can mortal be more blest?\n",
      "\n",
      "The Scripture also says that James and John left their father. Sometimes in these days Jesus requires His children to leave their parents and homes to work for Him; but He has promised, \"Every one that hath forsaken houses, or brethren, or sisters, or father, or mother, or wife, or children, or lands, for my name's sake, shall receive an hundredfold, and shall inherit everlasting life\" (Matthew 19:29).\n",
      "\n",
      "\"Come and See\"\n",
      "\n",
      "Think how thrilled Mary must have been to hear such words from the mouth of the angel of God! God had seen her years of faithful worship, her purity and holiness. He had noticed her when she perhaps never thought He might be watching. He had seen everything she had done \" and she had found favour in His sight.\n",
      "\n",
      "May all our works be such that will be pleasing to the Lord! Let us always remember that Jesus sees everything we do. When He has a special work to be done, He knows whom to choose, who will be prepared for the task.\n",
      "\n",
      "Because the life of Mary was pleasing to God, He chose her to become the mother of the Messiah. Heaven was bending low, and Mary's Son was the Son of God. God was sending His Son to earth in the flesh.\n",
      "\n",
      "Joseph's Visitor\n",
      "</ctx>\n",
      "------\n",
      "<hs>\n",
      "Human: What are the steps to creation? Answer in bullet form using the days and the creation\n",
      "AI: - Day 1: God made light\n",
      "- Day 2: God made the firmament (sky)\n",
      "- Day 3: God separated the waters and made dry land, then created plants and trees\n",
      "- Day 4: God created the sun, moon, and stars\n",
      "- Day 5: God created sea creatures and birds\n",
      "- Day 6: God created land animals and then created man\n",
      "- Day 7: God rested and blessed the seventh day\n",
      "</hs>\n",
      "------\n",
      "Is Mary, the mother of Jesus, the mother of James as well?\n",
      "Answer:\n",
      "\u001b[0m\n"
     ]
    },
    {
     "name": "stdout",
     "output_type": "stream",
     "text": [
      "\n",
      "\u001b[1m> Finished chain.\u001b[0m\n",
      "\n",
      "\u001b[1m> Finished chain.\u001b[0m\n",
      "\n",
      "\u001b[1m> Finished chain.\u001b[0m\n",
      "Yes, Mary is believed to be the mother of James, as he is referred to as \"James the son of Mary\" in Mark 15:40.\n"
     ]
    }
   ],
   "source": [
    "query = \"Is Mary, the mother of Jesus, the mother of James as well?\"\n",
    "# response = qa_stuff.run(query)\n",
    "print(qa_stuff.run(query))"
   ]
  },
  {
   "cell_type": "code",
   "execution_count": 61,
   "metadata": {},
   "outputs": [
    {
     "name": "stdout",
     "output_type": "stream",
     "text": [
      "\n",
      "\n",
      "\u001b[1m> Entering new RetrievalQA chain...\u001b[0m\n",
      "\n",
      "\n",
      "\u001b[1m> Entering new StuffDocumentsChain chain...\u001b[0m\n",
      "\n",
      "\n",
      "\u001b[1m> Entering new LLMChain chain...\u001b[0m\n",
      "Prompt after formatting:\n",
      "\u001b[32;1m\u001b[1;3m\n",
      "Use the following context (delimited by <ctx></ctx>) and the chat history (delimited by <hs></hs>) to answer the user's question. \n",
      "All bible texts are to referenced with King James Version. You can give info on bible texts.\n",
      "If you don't know the answer, just say that you don't know, don't try to make up an answer.\n",
      "------\n",
      "<ctx>\n",
      "1. Where was Jesus crucified?  With whom?\n",
      "\n",
      "2. Who bore the cross up the mountain?\n",
      "\n",
      "3. What happened between noon and three o'clock?\n",
      "\n",
      "4. What time did Jesus die, and what else happened at the same hour?\n",
      "\n",
      "5. How must we pray to the Father for salvation?\n",
      "\n",
      "Convulsions of Nature\n",
      "\n",
      "Jesus was nailed to the cross at nine o'clock in the morning, and at noon darkness came upon the earth. From noon until three in the afternoon it was very dark. People who passed and saw the sign on the cross  \"THIS IS JESUS THE KING OF THE JEWS,\" laughed at Him and taunted Him with the words, \"He saved others; himself he cannot save.\" Jesus had the power to save Himself, but He would not have fulfilled redemptions plan if He had come down from the cross.  Jesus was the Son of God, and for that reason He stayed on the cross to pay the price to redeem us to God.  He alone could pay that price.\n",
      "\n",
      "That We Might Live\n",
      "\n",
      "When the mob came to the top of Mt. Calvary, they laid Jesus on the cross and drove the nails through His hands and feet to fasten Him to it.  Then they lifted the cross upright, and Jesus hung there with the Blood running from His hands and feet.  After a while, a soldier thrust his spear into Jesus' side, and Blood and water ran out.  When the water ran out it showed that all the Blood was gone - it had all been shed for our sins.  Now we can come to Jesus and ask Him to wash away our sins with that Blood that was shed on Calvary.  Was not Jesus good to us?\n",
      "\n",
      "It made God feel very sad that men were so cruel to Jesus, so He let darkness come upon the earth right in the middle of the day.  It was dark for three hours -- and there was an earthquake, too.  That frightened the people, and some of the unbelievers said, \"Truly this was the Son of God.\"\n",
      "\n",
      "Jesus Laid in a Tomb\n",
      "\n",
      "At the time of Jesus' crucifixion and death, His followers had been scattered. Peter denied that he knew Jesus (Matthew 26:70\"72). Others stood afar off beholding the things, which happened. Some were very timid lest it be known that they were Jesus' followers. Perhaps they feared that a similar death was awaiting them if they claimed to be Jesus' dis­ciples. Since it was the day to prepare for the Feast of the Passover and no body could remain on the cross on the Sabbath Day (John 19:31), what would become of the body of Christ?\n",
      "</ctx>\n",
      "------\n",
      "<hs>\n",
      "Human: What are the steps to creation? Answer in bullet form using the days and the creation\n",
      "AI: - Day 1: God made light\n",
      "- Day 2: God made the firmament (sky)\n",
      "- Day 3: God separated the waters and made dry land, then created plants and trees\n",
      "- Day 4: God created the sun, moon, and stars\n",
      "- Day 5: God created sea creatures and birds\n",
      "- Day 6: God created land animals and then created man\n",
      "- Day 7: God rested and blessed the seventh day\n",
      "Human: Is Mary, the mother of Jesus, the mother of James as well?\n",
      "AI: Yes, Mary is believed to be the mother of James, as he is referred to as \"James the son of Mary\" in Mark 15:40.\n",
      "Human: Who was Rhoda in the Bible\n",
      "AI: Rhoda was a servant girl in the house of Mary, the mother of John Mark, as mentioned in Acts 12:12-17. When Peter was miraculously released from prison and came to Mary's house, Rhoda was the one who answered the door and recognized Peter's voice. She was so overjoyed that she left Peter standing outside and ran back to tell the others, who did not believe her at first.\n",
      "Human: Who was Rhoda\n",
      "AI: Rhoda was a servant girl in the house of Mary, the mother of John Mark, as mentioned in Acts 12:12-17. When Peter was miraculously released from prison and came to Mary's house, Rhoda was the one who answered the door and recognized Peter's voice. She was so overjoyed that she left Peter standing outside and ran back to tell the others, who did not believe her at first.\n",
      "</hs>\n",
      "------\n",
      "What time in current day did Jesus die?\n",
      "Answer:\n",
      "\u001b[0m\n",
      "\n",
      "\u001b[1m> Finished chain.\u001b[0m\n",
      "\n",
      "\u001b[1m> Finished chain.\u001b[0m\n",
      "\n",
      "\u001b[1m> Finished chain.\u001b[0m\n",
      "It is not possible to determine the exact time of day in current times when Jesus died, as the context provided refers to events that took place over 2000 years ago. However, according to the context, Jesus died at the ninth hour, which was around 3 pm in the Jewish time system of that era.\n"
     ]
    }
   ],
   "source": [
    "query = \"What time in current day did Jesus die?\"\n",
    "# response = qa_stuff.run(query)\n",
    "print(qa_stuff.run(query))"
   ]
  },
  {
   "cell_type": "code",
   "execution_count": null,
   "metadata": {},
   "outputs": [],
   "source": []
  }
 ],
 "metadata": {
  "kernelspec": {
   "display_name": "Gospel-Companion",
   "language": "python",
   "name": "python3"
  },
  "language_info": {
   "codemirror_mode": {
    "name": "ipython",
    "version": 3
   },
   "file_extension": ".py",
   "mimetype": "text/x-python",
   "name": "python",
   "nbconvert_exporter": "python",
   "pygments_lexer": "ipython3",
   "version": "3.11.5"
  }
 },
 "nbformat": 4,
 "nbformat_minor": 2
}
