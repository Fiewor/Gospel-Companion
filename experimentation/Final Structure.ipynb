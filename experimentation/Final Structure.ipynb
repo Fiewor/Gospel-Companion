{
 "cells": [
  {
   "cell_type": "code",
   "execution_count": 68,
   "metadata": {},
   "outputs": [
    {
     "data": {
      "text/plain": [
       "True"
      ]
     },
     "execution_count": 68,
     "metadata": {},
     "output_type": "execute_result"
    }
   ],
   "source": [
    "import os\n",
    "\n",
    "# Add OpenAI library\n",
    "import openai\n",
    "\n",
    "# Get Configuration Settings\n",
    "from dotenv import load_dotenv\n",
    "load_dotenv()"
   ]
  },
  {
   "cell_type": "code",
   "execution_count": 69,
   "metadata": {},
   "outputs": [],
   "source": [
    "# Configure OpenAI API using Azure OpenAI\n",
    "openai.api_key = os.getenv(\"API_KEY\")\n",
    "openai.api_base = os.getenv(\"ENDPOINT\")\n",
    "openai.api_type = \"azure\"  # Necessary for using the OpenAI library with Azure OpenAI\n",
    "openai.api_version = os.getenv(\"OPENAI_API_VERSION\")  # Latest / target version of the API"
   ]
  },
  {
   "cell_type": "code",
   "execution_count": 70,
   "metadata": {},
   "outputs": [],
   "source": [
    "from langchain.embeddings import OpenAIEmbeddings"
   ]
  },
  {
   "cell_type": "code",
   "execution_count": 71,
   "metadata": {},
   "outputs": [],
   "source": [
    "# OpenAI Settings\n",
    "model_deployment = \"text-embedding-ada-002\"\n",
    "# SDK calls this \"engine\", but naming it \"deployment_name\" for clarity\n",
    "\n",
    "model_name = \"text-embedding-ada-002\""
   ]
  },
  {
   "cell_type": "code",
   "execution_count": 72,
   "metadata": {},
   "outputs": [],
   "source": [
    "openai_embeddings: OpenAIEmbeddings = OpenAIEmbeddings(\n",
    "    openai_api_version = os.getenv(\"OPENAI_API_VERSION\"), openai_api_key = os.getenv(\"API_KEY\"),\n",
    "    openai_api_base = os.getenv(\"ENDPOINT\"), openai_api_type = \"azure\"\n",
    ")"
   ]
  },
  {
   "cell_type": "markdown",
   "metadata": {},
   "source": [
    "### Sample with Junior Lessons"
   ]
  },
  {
   "cell_type": "code",
   "execution_count": 73,
   "metadata": {},
   "outputs": [],
   "source": [
    "from langchain_chroma import Chroma"
   ]
  },
  {
   "cell_type": "code",
   "execution_count": 74,
   "metadata": {},
   "outputs": [],
   "source": [
    "# Junior\n",
    "vector_store_junior = Chroma(\n",
    "    collection_name=\"Junior_Lessons\",\n",
    "    embedding_function=openai_embeddings,\n",
    "    persist_directory=\"/Users/mac/Documents/Gospel-Companion/chroma_afc_sunday_school_lessons_db\",  # Where to save data locally, remove if not neccesary\n",
    ")"
   ]
  },
  {
   "cell_type": "code",
   "execution_count": 75,
   "metadata": {},
   "outputs": [],
   "source": [
    "from langchain.memory import ConversationBufferMemory, ConversationSummaryBufferMemory, ConversationBufferWindowMemory\n",
    "from langchain import PromptTemplate"
   ]
  },
  {
   "cell_type": "code",
   "execution_count": 76,
   "metadata": {},
   "outputs": [],
   "source": [
    "template_j = \"\"\"\n",
    "Use the following context (delimited by <ctx></ctx>) and the chat history (delimited by <hs></hs>) to answer the user's question. \n",
    "All bible texts are to referenced with King James Version. You can give info on bible texts.\n",
    "If you don't know the answer, just say that you don't know, don't try to make up an answer. Refer to the context provided as \"the Junior Sunday school lessons\".\n",
    "------\n",
    "<ctx>\n",
    "{context}\n",
    "</ctx>\n",
    "------\n",
    "<hs>\n",
    "{history}\n",
    "</hs>\n",
    "------\n",
    "{question}\n",
    "Answer:\n",
    "\"\"\"\n",
    "prompt = PromptTemplate(\n",
    "    input_variables=[\"history\", \"context\", \"question\"],\n",
    "    template=template_j,\n",
    ")"
   ]
  },
  {
   "cell_type": "code",
   "execution_count": 77,
   "metadata": {},
   "outputs": [],
   "source": [
    "# print(prompt.format(history=\"The lesson was about the story of the Good Samaritan.\", context=\"The Junior Sunday school lessons\", question=\"What is the story of the Good Samaritan?\"))"
   ]
  },
  {
   "cell_type": "code",
   "execution_count": 78,
   "metadata": {},
   "outputs": [],
   "source": [
    "from langchain.chains import RetrievalQA\n",
    "from langchain.chat_models import ChatOpenAI"
   ]
  },
  {
   "cell_type": "code",
   "execution_count": 79,
   "metadata": {},
   "outputs": [],
   "source": [
    "import langchain\n",
    "langchain.verbose = True"
   ]
  },
  {
   "cell_type": "code",
   "execution_count": 80,
   "metadata": {},
   "outputs": [
    {
     "name": "stderr",
     "output_type": "stream",
     "text": [
      "WARNING! engine is not default parameter.\n",
      "                    engine was transferred to model_kwargs.\n",
      "                    Please confirm that engine is what you intended.\n"
     ]
    }
   ],
   "source": [
    "llm = ChatOpenAI(temperature = 0.6, openai_api_key = os.getenv(\"API_KEY\"), openai_api_base = os.getenv(\"ENDPOINT\"), model_name=\"gpt-35-turbo\", engine=\"Voicetask\")"
   ]
  },
  {
   "cell_type": "code",
   "execution_count": 195,
   "metadata": {},
   "outputs": [],
   "source": [
    "def context_document_retreival_similarity(question_summary):\n",
    "    results = vector_store_junior.similarity_search(question_summary, k=5)\n",
    "    context = \"\"\n",
    "    sources = []\n",
    "    for result in results:\n",
    "        context += result.page_content + \"\\n\"\n",
    "        new_source = result.metadata['source'].split(\"/\")[-1]\n",
    "        if new_source not in sources:\n",
    "            sources.append(new_source)\n",
    "    return context, sources"
   ]
  },
  {
   "cell_type": "code",
   "execution_count": 196,
   "metadata": {},
   "outputs": [
    {
     "name": "stdout",
     "output_type": "stream",
     "text": [
      "['Lesson1_Junior.txt', 'Lesson92_Junior.txt']\n"
     ]
    }
   ],
   "source": [
    "print(context_document_retreival_similarity(\"What are the steps to creation? Answer in bullet form using the days and the creation\")[1])"
   ]
  },
  {
   "cell_type": "markdown",
   "metadata": {},
   "source": [
    "### Conversation history summary"
   ]
  },
  {
   "cell_type": "code",
   "execution_count": 238,
   "metadata": {},
   "outputs": [],
   "source": [
    "from langchain.prompts import PromptTemplate\n",
    "def conversation_history_prompt(history, question):\n",
    "    # Define the template string for summarizing conversation history\n",
    "    template_summary = \"\"\"\n",
    "    \"Given a chat history (delimited by <hs></hs>) and the latest user question \\\n",
    "    which might reference context in the chat history, formulate a standalone question \\\n",
    "    which can be understood without the chat history. Do NOT answer the question, \\\n",
    "    just reformulate it if needed and otherwise return it as is.\n",
    "    ------\n",
    "    <hs>\n",
    "    {history}\n",
    "    </hs>\n",
    "    ------\n",
    "    Question: {question}\n",
    "    Summary:\n",
    "    \"\"\"\n",
    "\n",
    "    # Create a PromptTemplate object\n",
    "    prompt = PromptTemplate(\n",
    "        input_variables=[\"history\", \"question\"],\n",
    "        template=template_summary,\n",
    "    )\n",
    "\n",
    "    return prompt.format(history=history, question=question)"
   ]
  },
  {
   "cell_type": "code",
   "execution_count": 239,
   "metadata": {},
   "outputs": [],
   "source": [
    "def get_conversation_summary(history, question):\n",
    "    # Get the conversation summary prompt\n",
    "    formatted_prompt = conversation_history_prompt(history, question)\n",
    "\n",
    "    # Query the Azure OpenAI LLM with the formatted prompt\n",
    "    response = openai.ChatCompletion.create(\n",
    "        engine=\"Voicetask\",  # Replace with your Azure OpenAI deployment name\n",
    "        # prompt=formatted_prompt,\n",
    "        messages=[\n",
    "            {\"role\": \"system\", \"content\": \"You are a helpful assistant.\"},\n",
    "            {\"role\": \"user\", \"content\": formatted_prompt}\n",
    "        ],\n",
    "        # max_tokens=50,\n",
    "        temperature=0.5\n",
    "    )\n",
    "    \n",
    "    # Extract and return the summary from the response\n",
    "    return response.choices[0].message['content']"
   ]
  },
  {
   "cell_type": "code",
   "execution_count": 240,
   "metadata": {},
   "outputs": [],
   "source": [
    "history = \"\"\"\n",
    "Human: What are the steps to creation? Answer in bullet form using the days and the creation\n",
    "AI: - Day 1: God created light\n",
    "- Day 2: God divided the waters and created the sky\n",
    "- Day 3: God created dry land and vegetation\n",
    "- Day 4: God created the sun, moon, and stars\n",
    "- Day 5: God created sea creatures and birds\n",
    "- Day 6: God created land animals and humans\n",
    "- Day 7: God rested\n",
    "Human: What is the proof that God actually rested on the 7th day of creation\n",
    "AI: The proof that God rested on the seventh day of creation is found in Genesis 2:2-3 in which it is stated that \"And on the seventh day God ended his work which he had made; and he rested on the seventh day from all his work which he had made. And God blessed the seventh day, and sanctified it: because that in it he had rested from all his work which God created and made.\"\n",
    "Human: What really is then the reason Christians worship on Sunday? And is this correct according to the bible as soon groups still say that the Sabbath day, as in the day for worship, Saturday.\n",
    "AI: According to the Junior Sunday School lessons, Christians worship on Sunday because it is the day on which Jesus rose from the dead, the day on which he made His appearances to the disciples, the day on which the Holy Ghost was given, and the day on which the disciples met to break bread in commemoration of the Lord's Supper and brought their offerings to the Lord. It has been observed by all true Christians from that time down to the present day. The Bible also mentions keeping the Sabbath day holy, which is the seventh day of the week, but it is important to note that the Sabbath day was given specifically to the Children of Israel, and the first day of the week, Sunday, became accepted as the day of worship immediately after Jesus' resurrection. Ultimately, the decision of which day to worship on is a matter of interpretation and personal belief.\n",
    "Human: What are some of the most controversial and debated doctrines of the Bible?\n",
    "AI: Some of the most controversial and debated doctrines of the Bible include the interpretation of the creation story, the nature of God (such as the Trinity), the concept of salvation and grace, the role of women in the church, and the interpretation of prophecy and end times.\n",
    "Human: What about eternal Salvation, when one believes that once he is born again, he can continue in sin but he still remians born again.\n",
    "AI: According to the Junior Sunday School lessons, being saved at one time does not necessarily mean that a person will always be saved. Unless a person lives for Jesus and does not permit sin to enter their life, they will lose their right to eternal life. The scripture in Ezekiel 18:26 states, \"When a righteous man turneth away from his righteousness, and committeth iniquity, and dieth in them; for his iniquity that he hath done shall he die.\" In order to be ready to go to Heaven, old things must pass away and the sinful nature must be purged, and all things must become new in our lives. Therefore, it is not possible for a person to continue in sin and still remain born again.\n",
    "Human: What can you tell me about the book of Hebrews that a new Christian should know?\n",
    "AI: The book of Hebrews was written by the Apostle Paul to the Hebrew Christians, those who had believed on Jesus. They had been brought up to obey the Law of Moses, and they knew all about the sacrifices that should be made. But those sacrifices had been given as pictures to show the people in Old Testament times that Jesus would some day come to shed His Blood to redeem mankind from sin. When Jesus came, He did just as the sacrifices had pictured: He was crucified on Calvary, shedding His Blood. After that there was no need to sacrifice any more animals. Additionally, the book of Hebrews provides instructions on how to be prepared to meet Jesus and encourage Christians to hold fast until Jesus comes.\n",
    "\"\"\""
   ]
  },
  {
   "cell_type": "code",
   "execution_count": 241,
   "metadata": {},
   "outputs": [],
   "source": [
    "new_question = get_conversation_summary(history, \"What sacrifices did they make?\")"
   ]
  },
  {
   "cell_type": "code",
   "execution_count": 242,
   "metadata": {},
   "outputs": [
    {
     "data": {
      "text/plain": [
       "\"What sacrifices did they make according to the chat history's reference to the Law of Moses and the sacrifices mentioned in the book of Hebrews?\""
      ]
     },
     "execution_count": 242,
     "metadata": {},
     "output_type": "execute_result"
    }
   ],
   "source": [
    "new_question"
   ]
  },
  {
   "cell_type": "code",
   "execution_count": 243,
   "metadata": {},
   "outputs": [],
   "source": [
    "documents, sources = context_document_retreival_similarity(new_question)"
   ]
  },
  {
   "cell_type": "code",
   "execution_count": 244,
   "metadata": {},
   "outputs": [],
   "source": [
    "# print(prompt.format(history=history, question=new_question, context=documents))\n",
    "full_prompt = prompt.format(history=history, question=new_question, context=documents)"
   ]
  },
  {
   "cell_type": "code",
   "execution_count": 245,
   "metadata": {},
   "outputs": [
    {
     "name": "stdout",
     "output_type": "stream",
     "text": [
      "\n",
      "Use the following context (delimited by <ctx></ctx>) and the chat history (delimited by <hs></hs>) to answer the user's question. \n",
      "All bible texts are to referenced with King James Version. You can give info on bible texts.\n",
      "If you don't know the answer, just say that you don't know, don't try to make up an answer. Refer to the context provided as \"the Junior Sunday school lessons\".\n",
      "------\n",
      "<ctx>\n",
      "Bible Text: [HEB:1:1-14].\n",
      "\n",
      "Lesson 432 - Junior\n",
      "\n",
      "Memory Verse: [HEB:1:1-14].\n",
      "\n",
      "Notes\"Go ye therefore, and teach all nations, baptizing them in the name of the Father, and of the Son, and of the Holy  Ghost\" (Matthew 28:19).\n",
      "\n",
      "The Sacrifices Fulfilled\n",
      "\n",
      "The Book of Hebrews was written by the Apostle Paul to the Hebrew Christians, those who had believed on Jesus. They had been brought up to obey the Law of Moses, and they knew all about the sacrifices that should be made. But those sacrifices had been given as pictures to show the people in Old Testament times that Jesus would some day come to shed His Blood to redeem mankind from sin. When Jesus came, He did just as the sacrifices had pictured: He was crucified on Calvary, shedding His Blood. After that there was no need to sacrifice any more animals.\n",
      "The Old Testament Sacrifices\n",
      "\n",
      "Jesus said:  \"Think not that I am come to destroy the law, or the prophets:  I am not come to destroy, but to fulfil\" (Matthew 5:17). All the blood that had been shed in sacrifices, all the temple ceremonies that the Israelites observed as part of the Law, pointed in one way or another to the time when Jesus would come and shed His Blood for our salvation.  All this was an example of spiritual things, a pattern of heavenly things to come.\n",
      "\n",
      "When Jesus died on Calvary He had fulfilled all the sacrificial laws, and there was no more need for the Jews to keep them.  We learned that Jesus was our Paschal Lamb (\n",
      "\n",
      "Lesson 56\n",
      "\n",
      "We shall learn much in future lessons about the tabernacle worship and the sacrifices and ceremonies that pointed to Jesus, all of which He fulfilled in His life, death, and ascension.\n",
      "\n",
      "1. Where was the Law given?  Why?\n",
      "\n",
      "2. Who heard God speak?\n",
      "\n",
      "3. Why did the people draw back?\n",
      "\n",
      "4. Name the Ten Commandments.\n",
      "The Law commanded the Israelites to bring animals to the Tabernacle to be killed as a sacrifice to God. By faith we bring our own heart and will and give them to God. The Psalmist said: \"The sacrifices of God are a broken spirit: a broken and a contrite heart, O God, thou wilt not despise\" [PS:51:17]). We cannot see the \"broken heart\" but we certainly can feel it when one is sorry for his sins and wants the Lord to forgive him.\n",
      "\n",
      "Many things in the Old Testament Law were pictures of New Testament truths. All the animals that were offered as sacrifices under the Law represented Jesus' coming to die for our sins, shedding His Blood on the Cross of Calvary to make atonement for the people.\n",
      "The Israelites' Offerings\n",
      "\n",
      "God had told the Israelites to offer sacrifices in their Tabernacle worship to show them that the Messiah, or Lamb of God, would some day offer Himself as the great Sacrifice to wash away their sins. With their offerings, they were supposed to pray from their heart, and believe in Him who was to come. But too many times they did not pray from the heart. They killed the animals and held special feasts for their own pleasures. One time in their history, God startled them by crying against them: \"I am full of the burnt offerings of rams, and the fat of fed beasts; and I delight not in the blood of bullocks, or of lambs, or of he goats. . . . Your new moons and your appointed feasts my soul hateth. . . . When ye make many prayers, I will not hear\" (Isaiah 1:11-15).\n",
      "The Law\n",
      "\n",
      "On Mount Sinai, God gave the Law to Moses for the Children of Israel. A part of the Law is known as the Ten Commandments [EXO:20:3-17]). The Law told them what was right and what was wrong. When the Children of Israel sinned, they brought offerings to God, according to the Law, and God forgave their sins. Many people obeyed the Law and lived a life pleasing to God.\n",
      "\n",
      "As time went on, some of the people were careless about offering sacrifices to God. Then there were others who changed the Law. There were times when the Children of Israel were captives and could not worship in the Temple as God had directed. There were times when there was no Temple, which was their church, for, it had been destroyed by enemies. But the Law and the sacrifices pointed to Jesus, who was to come, One who can change the heart so a person can be good.\n",
      "\n",
      "Jesus\n",
      "\n",
      "</ctx>\n",
      "------\n",
      "<hs>\n",
      "\n",
      "Human: What are the steps to creation? Answer in bullet form using the days and the creation\n",
      "AI: - Day 1: God created light\n",
      "- Day 2: God divided the waters and created the sky\n",
      "- Day 3: God created dry land and vegetation\n",
      "- Day 4: God created the sun, moon, and stars\n",
      "- Day 5: God created sea creatures and birds\n",
      "- Day 6: God created land animals and humans\n",
      "- Day 7: God rested\n",
      "Human: What is the proof that God actually rested on the 7th day of creation\n",
      "AI: The proof that God rested on the seventh day of creation is found in Genesis 2:2-3 in which it is stated that \"And on the seventh day God ended his work which he had made; and he rested on the seventh day from all his work which he had made. And God blessed the seventh day, and sanctified it: because that in it he had rested from all his work which God created and made.\"\n",
      "Human: What really is then the reason Christians worship on Sunday? And is this correct according to the bible as soon groups still say that the Sabbath day, as in the day for worship, Saturday.\n",
      "AI: According to the Junior Sunday School lessons, Christians worship on Sunday because it is the day on which Jesus rose from the dead, the day on which he made His appearances to the disciples, the day on which the Holy Ghost was given, and the day on which the disciples met to break bread in commemoration of the Lord's Supper and brought their offerings to the Lord. It has been observed by all true Christians from that time down to the present day. The Bible also mentions keeping the Sabbath day holy, which is the seventh day of the week, but it is important to note that the Sabbath day was given specifically to the Children of Israel, and the first day of the week, Sunday, became accepted as the day of worship immediately after Jesus' resurrection. Ultimately, the decision of which day to worship on is a matter of interpretation and personal belief.\n",
      "Human: What are some of the most controversial and debated doctrines of the Bible?\n",
      "AI: Some of the most controversial and debated doctrines of the Bible include the interpretation of the creation story, the nature of God (such as the Trinity), the concept of salvation and grace, the role of women in the church, and the interpretation of prophecy and end times.\n",
      "Human: What about eternal Salvation, when one believes that once he is born again, he can continue in sin but he still remians born again.\n",
      "AI: According to the Junior Sunday School lessons, being saved at one time does not necessarily mean that a person will always be saved. Unless a person lives for Jesus and does not permit sin to enter their life, they will lose their right to eternal life. The scripture in Ezekiel 18:26 states, \"When a righteous man turneth away from his righteousness, and committeth iniquity, and dieth in them; for his iniquity that he hath done shall he die.\" In order to be ready to go to Heaven, old things must pass away and the sinful nature must be purged, and all things must become new in our lives. Therefore, it is not possible for a person to continue in sin and still remain born again.\n",
      "Human: What can you tell me about the book of Hebrews that a new Christian should know?\n",
      "AI: The book of Hebrews was written by the Apostle Paul to the Hebrew Christians, those who had believed on Jesus. They had been brought up to obey the Law of Moses, and they knew all about the sacrifices that should be made. But those sacrifices had been given as pictures to show the people in Old Testament times that Jesus would some day come to shed His Blood to redeem mankind from sin. When Jesus came, He did just as the sacrifices had pictured: He was crucified on Calvary, shedding His Blood. After that there was no need to sacrifice any more animals. Additionally, the book of Hebrews provides instructions on how to be prepared to meet Jesus and encourage Christians to hold fast until Jesus comes.\n",
      "\n",
      "</hs>\n",
      "------\n",
      "What sacrifices did they make according to the chat history's reference to the Law of Moses and the sacrifices mentioned in the book of Hebrews?\n",
      "Answer:\n",
      "\n"
     ]
    }
   ],
   "source": [
    "print(full_prompt)"
   ]
  },
  {
   "cell_type": "code",
   "execution_count": 246,
   "metadata": {},
   "outputs": [],
   "source": [
    "def qa_response(prompt):\n",
    "\n",
    "    # Query the Azure OpenAI LLM with the formatted prompt\n",
    "    response = openai.ChatCompletion.create(\n",
    "        engine=\"Voicetask\",  # Replace with your Azure OpenAI deployment name\n",
    "        # prompt=formatted_prompt,\n",
    "        messages=[\n",
    "            {\"role\": \"system\", \"content\": \"You are a helpful assistant vast in the Bible and its Doctrines.\"},\n",
    "            {\"role\": \"user\", \"content\": prompt}\n",
    "        ],\n",
    "        # max_tokens=50,\n",
    "        temperature=0.5\n",
    "    )\n",
    "    \n",
    "    # Extract and return the summary from the response\n",
    "    return response.choices[0].message['content']"
   ]
  },
  {
   "cell_type": "code",
   "execution_count": 247,
   "metadata": {},
   "outputs": [
    {
     "name": "stdout",
     "output_type": "stream",
     "text": [
      "According to the chat history's reference to the Law of Moses and the sacrifices mentioned in the book of Hebrews, the Israelites were commanded to bring animals to the Tabernacle to be killed as a sacrifice to God. These sacrifices were meant to show the people in Old Testament times that Jesus would some day come to shed His Blood to redeem mankind from sin. The animals that were offered as sacrifices under the Law represented Jesus' coming to die for our sins, shedding His Blood on the Cross of Calvary to make atonement for the people. However, when Jesus died on Calvary, He had fulfilled all the sacrificial laws, and there was no more need for the Jews to keep them.\n"
     ]
    }
   ],
   "source": [
    "print(qa_response(full_prompt))"
   ]
  },
  {
   "cell_type": "code",
   "execution_count": 251,
   "metadata": {},
   "outputs": [],
   "source": [
    "import requests\n",
    "from bs4 import BeautifulSoup as bs\n",
    "\n",
    "base_link = \"https://apostolicfaithweca.org\""
   ]
  },
  {
   "cell_type": "code",
   "execution_count": 266,
   "metadata": {},
   "outputs": [],
   "source": [
    "def get_lesson_link_junior(lessson_number):\n",
    "    base_link_junior = f\"https://apostolicfaithweca.org/sunday-school-lesson-library?llang=1&slc=2&title=&Slno={lessson_number}\"\n",
    "    r_j = requests.get(base_link_junior)\n",
    "    soup_j = bs(r_j.content)\n",
    "    junior_suffix = soup_j.find_all(class_ = \"views-field views-field-title\")[1].a['href']\n",
    "    junior_title = soup_j.find_all(class_ = \"views-field views-field-title\")[1].a.text\n",
    "    return junior_title, base_link+junior_suffix\n"
   ]
  },
  {
   "cell_type": "code",
   "execution_count": 267,
   "metadata": {},
   "outputs": [],
   "source": [
    "def package_sources(source_names):\n",
    "    source_names = source_names[:3]\n",
    "    lesson_links = []\n",
    "    for soure_name in source_names:\n",
    "        lesson_number = soure_name.split(\"Lesson\")[-1].split(\"_\")[0]\n",
    "        lesson_links.append(get_lesson_link_junior(lesson_number))\n",
    "\n",
    "    return lesson_links\n",
    "    "
   ]
  },
  {
   "cell_type": "code",
   "execution_count": 268,
   "metadata": {},
   "outputs": [
    {
     "data": {
      "text/plain": [
       "['Lesson432_Junior.txt',\n",
       " 'Lesson61_Junior.txt',\n",
       " 'Lesson398_Junior.txt',\n",
       " 'Lesson181_Junior.txt',\n",
       " 'Lesson382_Junior.txt']"
      ]
     },
     "execution_count": 268,
     "metadata": {},
     "output_type": "execute_result"
    }
   ],
   "source": [
    "sources"
   ]
  },
  {
   "cell_type": "code",
   "execution_count": 269,
   "metadata": {},
   "outputs": [
    {
     "name": "stdout",
     "output_type": "stream",
     "text": [
      "[('JESUS, OUR REDEEMER', 'https://apostolicfaithweca.org/ssl/jesus-our-redeemer'), ('THE TEN COMMANDMENTS', 'https://apostolicfaithweca.org/node/3223'), ('THE LAW, A SCHOOLMASTER', 'https://apostolicfaithweca.org/ssl/law-schoolmaster-0')]\n"
     ]
    }
   ],
   "source": [
    "print(package_sources(sources))"
   ]
  },
  {
   "cell_type": "code",
   "execution_count": null,
   "metadata": {},
   "outputs": [],
   "source": []
  },
  {
   "cell_type": "code",
   "execution_count": null,
   "metadata": {},
   "outputs": [],
   "source": []
  }
 ],
 "metadata": {
  "kernelspec": {
   "display_name": "Gospel-Companion",
   "language": "python",
   "name": "python3"
  },
  "language_info": {
   "codemirror_mode": {
    "name": "ipython",
    "version": 3
   },
   "file_extension": ".py",
   "mimetype": "text/x-python",
   "name": "python",
   "nbconvert_exporter": "python",
   "pygments_lexer": "ipython3",
   "version": "3.11.5"
  }
 },
 "nbformat": 4,
 "nbformat_minor": 2
}
