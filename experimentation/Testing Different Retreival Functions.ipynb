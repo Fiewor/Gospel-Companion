{
 "cells": [
  {
   "cell_type": "code",
   "execution_count": 1,
   "metadata": {},
   "outputs": [
    {
     "data": {
      "text/plain": [
       "True"
      ]
     },
     "execution_count": 1,
     "metadata": {},
     "output_type": "execute_result"
    }
   ],
   "source": [
    "import os\n",
    "\n",
    "# Add OpenAI library\n",
    "import openai\n",
    "\n",
    "# Get Configuration Settings\n",
    "from dotenv import load_dotenv\n",
    "load_dotenv()"
   ]
  },
  {
   "cell_type": "code",
   "execution_count": 2,
   "metadata": {},
   "outputs": [],
   "source": [
    "# Configure OpenAI API using Azure OpenAI\n",
    "openai.api_key = os.getenv(\"API_KEY\")\n",
    "openai.api_base = os.getenv(\"ENDPOINT\")\n",
    "openai.api_type = \"azure\"  # Necessary for using the OpenAI library with Azure OpenAI\n",
    "openai.api_version = \"2024-02-01\"  # Latest / target version of the API"
   ]
  },
  {
   "cell_type": "code",
   "execution_count": 10,
   "metadata": {},
   "outputs": [],
   "source": [
    "from langchain.vectorstores import DocArrayInMemorySearch\n",
    "from langchain.embeddings import OpenAIEmbeddings\n",
    "from langchain.text_splitter import RecursiveCharacterTextSplitter, CharacterTextSplitter\n",
    "from langchain.document_loaders import TextLoader"
   ]
  },
  {
   "cell_type": "code",
   "execution_count": 4,
   "metadata": {},
   "outputs": [],
   "source": [
    "# OpenAI Settings\n",
    "model_deployment = \"text-embedding-ada-002\"\n",
    "# SDK calls this \"engine\", but naming it \"deployment_name\" for clarity\n",
    "\n",
    "model_name = \"text-embedding-ada-002\""
   ]
  },
  {
   "cell_type": "code",
   "execution_count": 5,
   "metadata": {},
   "outputs": [
    {
     "name": "stderr",
     "output_type": "stream",
     "text": [
      "/Users/mac/Documents/Gospel-Companion/lib/python3.11/site-packages/langchain_core/_api/deprecation.py:139: LangChainDeprecationWarning: The class `OpenAIEmbeddings` was deprecated in LangChain 0.0.9 and will be removed in 0.3.0. An updated version of the class exists in the langchain-openai package and should be used instead. To use it run `pip install -U langchain-openai` and import as `from langchain_openai import OpenAIEmbeddings`.\n",
      "  warn_deprecated(\n"
     ]
    }
   ],
   "source": [
    "openai_embeddings: OpenAIEmbeddings = OpenAIEmbeddings(\n",
    "    openai_api_version = os.getenv(\"OPENAI_API_VERSION\"), openai_api_key = os.getenv(\"API_KEY\"),\n",
    "    openai_api_base = os.getenv(\"ENDPOINT\"), openai_api_type = \"azure\"\n",
    ")"
   ]
  },
  {
   "cell_type": "markdown",
   "metadata": {},
   "source": [
    "### Loading Junior and Senior Lesson Embeddings"
   ]
  },
  {
   "cell_type": "code",
   "execution_count": 6,
   "metadata": {},
   "outputs": [],
   "source": [
    "from langchain_chroma import Chroma"
   ]
  },
  {
   "cell_type": "code",
   "execution_count": 7,
   "metadata": {},
   "outputs": [],
   "source": [
    "# Junior\n",
    "vector_store_junior = Chroma(\n",
    "    collection_name=\"Junior_Lessons\",\n",
    "    embedding_function=openai_embeddings,\n",
    "    persist_directory=\"/Users/mac/Documents/Gospel-Companion/chroma_afc_sunday_school_lessons_db\",  # Where to save data locally, remove if not neccesary\n",
    ")\n"
   ]
  },
  {
   "cell_type": "code",
   "execution_count": 8,
   "metadata": {},
   "outputs": [],
   "source": [
    "# Senior\n",
    "vector_store_senior = Chroma(\n",
    "    collection_name=\"Senior_Lessons\",\n",
    "    embedding_function=openai_embeddings,\n",
    "    persist_directory=\"/Users/mac/Documents/Gospel-Companion/chroma_afc_sunday_school_lessons_db\",  # Where to save data locally, remove if not neccesary\n",
    ")"
   ]
  },
  {
   "cell_type": "markdown",
   "metadata": {},
   "source": [
    "### Prompt Structure"
   ]
  },
  {
   "cell_type": "code",
   "execution_count": 11,
   "metadata": {},
   "outputs": [],
   "source": [
    "from langchain.memory import ConversationBufferMemory, ConversationSummaryBufferMemory, ConversationBufferWindowMemory\n",
    "from langchain import PromptTemplate"
   ]
  },
  {
   "cell_type": "code",
   "execution_count": 119,
   "metadata": {},
   "outputs": [],
   "source": [
    "template = \"\"\"\n",
    "Use the following context (delimited by <ctx></ctx>) and the chat history (delimited by <hs></hs>) to answer the user's question. \n",
    "All bible texts are to referenced with King James Version. You can give info on bible texts.\n",
    "If you don't know the answer, just say that you don't know, don't try to make up an answer. \n",
    "------\n",
    "<ctx>\n",
    "{context}\n",
    "</ctx>\n",
    "------\n",
    "<hs>\n",
    "{history}\n",
    "</hs>\n",
    "------\n",
    "{question}\n",
    "Answer:\n",
    "\"\"\"\n",
    "prompt = PromptTemplate(\n",
    "    input_variables=[\"history\", \"context\", \"question\"],\n",
    "    template=template,\n",
    ")"
   ]
  },
  {
   "cell_type": "markdown",
   "metadata": {},
   "source": [
    "### Retrieval QA"
   ]
  },
  {
   "cell_type": "code",
   "execution_count": 120,
   "metadata": {},
   "outputs": [],
   "source": [
    "from langchain.chains import RetrievalQA\n",
    "from langchain.chat_models import ChatOpenAI\n",
    "from langchain.chains import LLMChain\n",
    "from langchain.llms import OpenAI"
   ]
  },
  {
   "cell_type": "code",
   "execution_count": 121,
   "metadata": {},
   "outputs": [],
   "source": [
    "import langchain\n",
    "langchain.verbose = True"
   ]
  },
  {
   "cell_type": "code",
   "execution_count": 122,
   "metadata": {},
   "outputs": [
    {
     "name": "stderr",
     "output_type": "stream",
     "text": [
      "WARNING! engine is not default parameter.\n",
      "                    engine was transferred to model_kwargs.\n",
      "                    Please confirm that engine is what you intended.\n"
     ]
    }
   ],
   "source": [
    "llm = ChatOpenAI(temperature = 0.4, openai_api_key = os.getenv(\"API_KEY\"), openai_api_base = os.getenv(\"ENDPOINT\"), model_name=\"gpt-35-turbo\", engine=\"Voicetask\")"
   ]
  },
  {
   "cell_type": "markdown",
   "metadata": {},
   "source": [
    "## Junior Lessons"
   ]
  },
  {
   "cell_type": "code",
   "execution_count": 123,
   "metadata": {},
   "outputs": [],
   "source": [
    "retriever_j = vector_store_junior.as_retriever(search_kwargs={'k': 5})"
   ]
  },
  {
   "cell_type": "markdown",
   "metadata": {},
   "source": [
    "### Similarity Search"
   ]
  },
  {
   "cell_type": "code",
   "execution_count": 124,
   "metadata": {},
   "outputs": [],
   "source": [
    "qa_stuff = RetrievalQA.from_chain_type(\n",
    "    llm = llm, \n",
    "    chain_type = \"stuff\", \n",
    "    retriever = retriever_j, \n",
    "    verbose = True,\n",
    "    chain_type_kwargs = {\n",
    "        \"verbose\": True,\n",
    "        \"prompt\": prompt,\n",
    "        \"memory\": ConversationBufferWindowMemory(\n",
    "                k = 10,\n",
    "                memory_key = \"history\",\n",
    "                input_key = \"question\"),\n",
    "                }\n",
    "    )"
   ]
  },
  {
   "cell_type": "code",
   "execution_count": 125,
   "metadata": {},
   "outputs": [
    {
     "name": "stdout",
     "output_type": "stream",
     "text": [
      "\n",
      "\n",
      "\u001b[1m> Entering new RetrievalQA chain...\u001b[0m\n",
      "\n",
      "\n",
      "\u001b[1m> Entering new StuffDocumentsChain chain...\u001b[0m\n",
      "\n",
      "\n",
      "\u001b[1m> Entering new LLMChain chain...\u001b[0m\n",
      "Prompt after formatting:\n",
      "\u001b[32;1m\u001b[1;3m\n",
      "Use the following context (delimited by <ctx></ctx>) and the chat history (delimited by <hs></hs>) to answer the user's question. \n",
      "All bible texts are to referenced with King James Version. You can give info on bible texts.\n",
      "If you don't know the answer, just say that you don't know, don't try to make up an answer. Refer to the context given as \"the Junior Sunday school lessons\". \n",
      "------\n",
      "<ctx>\n",
      "1. How did the world come into existence?   How do we know?\n",
      "\n",
      "2. What did God do on the first day?\n",
      "\n",
      "3. What did God say at the close of every day of creation?\n",
      "\n",
      "4. Why did God create the world?\n",
      "\n",
      "5. Why does the ocean stay within its bounds?\n",
      "\n",
      "6. What different kinds of flesh are there?\n",
      "\n",
      "First, God spoke the heavens and the earth into existence, apparently a mass of substance, hidden in darkness.  Then He began to bring order out of that which was without form.  Thoughtfully He did all this for you and me.\n",
      "\n",
      "The First Day\n",
      "\n",
      "On the first day God made light.  There were no sun, moon, nor stars but God could make light without them, for He is light.  Jesus said,  \"I am the light of the world\" (John 8:12).  \"That was the true Light, which lighteth every man that cometh into the world\" (John 1:9).\n",
      "\n",
      "God formed these original animals out of the earth, but they reproduced themselves after their kind, and no more were made out of the earth.\n",
      "\n",
      "What a beautiful world it now was! Every morning the sun came up to shine upon the fields and plains.  Animals grassed peacefully in the forests and meadows, while birds chirped as they flitted above.  The rivers, well stocked with fish, flowed merrily down to the sea.  The great sea monsters and the tiny herring played together in the great depths of the oceans.  And the peace of God reigned upon it all.  All this God had made as a place of habitation for His crowning creation -- man.  This was the scene upon which the first man, Adam, looked when he first beheld the light of day.\n",
      "\n",
      "1. How did the world come into existence?   How do we know?\n",
      "\n",
      "2. What did God do on the first day?\n",
      "\n",
      "3. What did God say at the close of every day of creation?\n",
      "\n",
      "4. Why did God create the world?\n",
      "\n",
      "5. Why does the ocean stay within its bounds?\n",
      "\n",
      "There are still other writers who start at the fourth day of creation, after the sun was made (Genesis 1: 16 19). These so called scientists teach that the sun was a mass of melted rock revolving so fast that a piece flew off. Going around at a high rate of speed would tend to make the piece round. As it cooled off and slowed down it became the earth. Neither do these men tell of the origin of the sun; but the Bible tells us that God said, \"Let there be lights in the firmament of the heaven\" (Genesis 1: 14), and \"God made two great lights; the greater light to rule the day\" (Genesis 1: 16).\n",
      "\n",
      "Some people have the idea that each day of creation was a period of thousands of years The day was divided into Day and Night ([GEN:1:4-5]); and according to their idea that would mean many years of light and then many years of darkness. How could such a teaching be correct? The plants would not have lived in a long period of darkness. Yet, on the other hand, if the plants had lived many years without the animals and man to eat them and keep them in control, the earth would have been covered with a tangle of plants. If each day had been an age, think how old Adam would have been when he lived in the Garden of Eden.\n",
      "\n",
      "Division of the Water\n",
      "</ctx>\n",
      "------\n",
      "<hs>\n",
      "\n",
      "</hs>\n",
      "------\n",
      "What are the steps to creation? Answer in bullet form using the days and the creation\n",
      "Answer:\n",
      "\u001b[0m\n"
     ]
    },
    {
     "name": "stdout",
     "output_type": "stream",
     "text": [
      "\n",
      "\u001b[1m> Finished chain.\u001b[0m\n",
      "\n",
      "\u001b[1m> Finished chain.\u001b[0m\n",
      "\n",
      "\u001b[1m> Finished chain.\u001b[0m\n",
      "1. God spoke the heavens and the earth into existence\n",
      "2. On the first day, God made light\n",
      "3. On the second day, God divided the waters above from the waters below to create the sky\n",
      "4. On the third day, God created dry land and vegetation\n",
      "5. On the fourth day, God created the sun, moon, and stars\n",
      "6. On the fifth day, God created sea creatures and birds\n",
      "7. On the sixth day, God created land animals and humans\n",
      "8. On the seventh day, God rested.\n"
     ]
    }
   ],
   "source": [
    "query = \"What are the steps to creation? Answer in bullet form using the days and the creation\"\n",
    "# response = qa_stuff.run(query)\n",
    "print(qa_stuff.run(query))"
   ]
  },
  {
   "cell_type": "code",
   "execution_count": 126,
   "metadata": {},
   "outputs": [
    {
     "name": "stdout",
     "output_type": "stream",
     "text": [
      "\n",
      "\n",
      "\u001b[1m> Entering new RetrievalQA chain...\u001b[0m\n",
      "\n",
      "\n",
      "\u001b[1m> Entering new StuffDocumentsChain chain...\u001b[0m\n",
      "\n",
      "\n",
      "\u001b[1m> Entering new LLMChain chain...\u001b[0m\n",
      "Prompt after formatting:\n",
      "\u001b[32;1m\u001b[1;3m\n",
      "Use the following context (delimited by <ctx></ctx>) and the chat history (delimited by <hs></hs>) to answer the user's question. \n",
      "All bible texts are to referenced with King James Version. You can give info on bible texts.\n",
      "If you don't know the answer, just say that you don't know, don't try to make up an answer. Refer to the context given as \"the Junior Sunday school lessons\". \n",
      "------\n",
      "<ctx>\n",
      "While God, with the completion of the creation, rested on the seventh day and hallowed it, yet it was not given to the Israelites to observe this day until the Law was written, when the seventh day was established as a Sabbath in commemoration of their deliverance out of bondage ([DEU:5:15]).  Jesus emphasised the necessity of Christians observing in spirit all the other laws given in the Ten Commandments but He never repeated the command to observe the Sabbath.\n",
      "\n",
      "The Day of Rest\n",
      "\n",
      "God said He made the sabbath for man.  He realised that a person cannot work all the time and live a healthy life.  He ordered him to rest on every seventh day. Later God commanded:  \"Remember the sabbath day, to keep it holy\" (Exodus 20:8).  Our sabbath today is the Lord's Day, the first day of the week, and we must remember to keep it holy.  How much happier our world would be if everyone honoured God on the first day of the week!\n",
      "\n",
      "Was not the manna an unusual food?  For forty years enough manna fell every day, except the Sabbath, to feed that great company of people.  Another reason why we know it was supernatural food was that in spite of the fact that it could not be kept overnight without spoiling (except for the Sabbath), God told Moses to save a pot of it to show future generations what had kept them alive during their wanderings in the wilderness, and it did not spoil.\n",
      "\n",
      "Our Manna\n",
      "\n",
      "God said that He would prove His people through giving them this food, to see if they would obey His Law. But it seems there were some who disobeyed Him every chance they had.  First He told them to gather no more than they could eat in one day; but some people were greedy and probably did not believe that God would send more the next day, so they took as much as they could.  But it did not do them any good.  The manna spoiled and bred worms. Then came the day before the Sabbath; and God told them they could gather enough for two days on that day, and it would not spoil.  But again some people disobeyed and went out on the Sabbath morning to gather, when God had told them not to go out \" and they found no manna.\n",
      "\n",
      "The Day of Rest\n",
      "\n",
      "Sabbath\n",
      "\n",
      "When the Children of Israel started their journey to Canaan God told them to rest every seventh day.  That day was called the Sabbath.  God fed the people by sending manna, which they gathered off the ground every morning except the Sabbath.  On the sixth day there was enough manna on the ground so they could gather enough for two days -\" and it would not spoil as it did any other day when they gathered more than they needed for that day.  God had told the people they must keep the Sabbath Day holy, and He insisted that no work be done on that day.\n",
      "\n",
      "When God had made all the different kinds of beautiful and interesting birds and fishes, He saw that it was good.  He told them to multiply so that there would be an abundance of them in all parts of the world.  So closed the fifth day.\n",
      "\n",
      "The Sixth Day\n",
      "\n",
      "On the sixth day, God said:  \"Let the earth bring forth the living creature after his kind, cattle, and creeping thing, and beast of the earth after his kind,\" and it was so.  There are as many miracles of creation in the tiny insects as there are in the huge bears and elephants.\n",
      "\n",
      "God formed these original animals out of the earth, but they reproduced themselves after their kind, and no more were made out of the earth.\n",
      "</ctx>\n",
      "------\n",
      "<hs>\n",
      "Human: What are the steps to creation? Answer in bullet form using the days and the creation\n",
      "AI: 1. God spoke the heavens and the earth into existence\n",
      "2. On the first day, God made light\n",
      "3. On the second day, God divided the waters above from the waters below to create the sky\n",
      "4. On the third day, God created dry land and vegetation\n",
      "5. On the fourth day, God created the sun, moon, and stars\n",
      "6. On the fifth day, God created sea creatures and birds\n",
      "7. On the sixth day, God created land animals and humans\n",
      "8. On the seventh day, God rested.\n",
      "</hs>\n",
      "------\n",
      "What is the proof that God actually rested on the 7th day of creation\n",
      "Answer:\n",
      "\u001b[0m\n"
     ]
    },
    {
     "name": "stdout",
     "output_type": "stream",
     "text": [
      "\n",
      "\u001b[1m> Finished chain.\u001b[0m\n",
      "\n",
      "\u001b[1m> Finished chain.\u001b[0m\n",
      "\n",
      "\u001b[1m> Finished chain.\u001b[0m\n",
      "The Bible states that God rested on the seventh day of creation and hallowed it, but there is no physical proof of this event. It is a matter of faith and belief in the biblical account of creation. The Junior Sunday school lessons explain that the Sabbath was not given to the Israelites to observe until the Law was written, and Jesus never repeated the command to observe the Sabbath.\n"
     ]
    }
   ],
   "source": [
    "query = \"What is the proof that God actually rested on the 7th day of creation\"\n",
    "# response = qa_stuff.run(query)\n",
    "print(qa_stuff.run(query))"
   ]
  },
  {
   "cell_type": "code",
   "execution_count": 127,
   "metadata": {},
   "outputs": [
    {
     "name": "stdout",
     "output_type": "stream",
     "text": [
      "\n",
      "\n",
      "\u001b[1m> Entering new RetrievalQA chain...\u001b[0m\n",
      "\n",
      "\n",
      "\u001b[1m> Entering new StuffDocumentsChain chain...\u001b[0m\n",
      "\n",
      "\n",
      "\u001b[1m> Entering new LLMChain chain...\u001b[0m\n",
      "Prompt after formatting:\n",
      "\u001b[32;1m\u001b[1;3m\n",
      "Use the following context (delimited by <ctx></ctx>) and the chat history (delimited by <hs></hs>) to answer the user's question. \n",
      "All bible texts are to referenced with King James Version. You can give info on bible texts.\n",
      "If you don't know the answer, just say that you don't know, don't try to make up an answer. Refer to the context given as \"the Junior Sunday school lessons\". \n",
      "------\n",
      "<ctx>\n",
      "The Lord's Day\n",
      "\n",
      "One more instruction given in this lesson is to keep the Sabbath Day holy. One of the Ten Commandments given to the Children of Israel many years before the time of Isaiah was: \"Remember the Sabbath day, to keep it holy\" [EXO:20:8]). The first day of the week became accepted as the day of worship immediately after Jesus' resurrection, and has been observed by all true Christians from that time down to the present day. It is the day on which Jesus rose from the dead; it is the day on which he made His appearances to the disciples; it is the day on which the Holy Ghost was given, when the true Church was founded; it is the day on which the disciples met to break bread in commemoration of the Lord's Supper, and brought their offerings to the Lord.\n",
      "\n",
      "Christ arose on the first day of the week. Several times He met with the disciples on the first day of the week. The disciples met on Sunday to break bread together [ACT:20:7]) and to bring their offerings unto the Lord [1CO:16:2]). The Lord gave His approval of the first day by blessing His people who worshiped on Sunday and by sending His Spirit on the first day of the week upon those who were praying in an upper room on the Day of Pentecost, fifty days after Christ's resurrection. It was accepted as the day of worship immediately after the resurrection of Christ and has been observed by all true Christians from that time down to the present day.\n",
      "\n",
      "When the Pharisees asked Jesus if it was lawful to heal on the Sabbath. He answered, \"It is lawful to do well on the Sabbath days\" [MAT:12:12]). Jesus reminded them that they would work to get one of their sheep out of a pit on the Sabbath. Then how much better is a man than a sheep that one would show mercy on the Sabbath?\n",
      "\n",
      "In these days when many people show no respect for God and the Lord's Day, the danger for most people is not in being too strict, as the Pharisees were, but in being too lax. Let us, as Christians, be examples to others by keeping the Lord's Day holy.\n",
      "\n",
      "1. What is the Lord's Day?\n",
      "\n",
      "2. What is the Christian's day of rest and worship?\n",
      "\n",
      "3. How do we keep the Lord's Day holy?\n",
      "\n",
      "4. What does a Christian do on Sunday?\n",
      "\n",
      "5. What does he not do on Sunday?\n",
      "\n",
      "6. What day is dedicated to the honour and glory of God?\n",
      "\n",
      "7. How can one prepare for Sunday?\n",
      "\n",
      "8. What pleasure can one find on Sunday?\n",
      "\n",
      "9. What can a child do on Sunday that will honour the Lord?\n",
      "\n",
      "The Jewish people kept the Sabbath Day, the seventh day of the week. Under the Law, it was a day of worship and rest, dedicated to honour God. The Sabbath was the day set aside in which to worship the Lord. Under the Law, the Jewish Sabbath was Saturday. God is to be served and honoured each day, but this one-day is dedicated particularly to the honour of God.\n",
      "\n",
      "For Man\n",
      "\n",
      "Jesus taught that, \"the Sabbath was made for man, and not man for the Sabbath\" [MAK:2:27]). Man was made before the Sabbath. Man was made by God and for God -\" to honour and serve God [COL:1:16]). The Lord hallowed and sanctified the Sabbath for the good and benefit of man. A day of rest and worship is profitable to both the body and the soul of man.\n",
      "\n",
      "4. What does a Christian do on Sunday?\n",
      "\n",
      "5. What does he not do on Sunday?\n",
      "\n",
      "6. What day is dedicated to the honour and glory of God?\n",
      "\n",
      "7. How can one prepare for Sunday?\n",
      "\n",
      "8. What pleasure can one find on Sunday?\n",
      "\n",
      "9. What can a child do on Sunday that will honour the Lord?\n",
      "\n",
      "10. What did Jesus mean when He said, \"The Sabbath was made for man, and not man for the Sabbath\"?\n",
      "</ctx>\n",
      "------\n",
      "<hs>\n",
      "Human: What are the steps to creation? Answer in bullet form using the days and the creation\n",
      "AI: 1. God spoke the heavens and the earth into existence\n",
      "2. On the first day, God made light\n",
      "3. On the second day, God divided the waters above from the waters below to create the sky\n",
      "4. On the third day, God created dry land and vegetation\n",
      "5. On the fourth day, God created the sun, moon, and stars\n",
      "6. On the fifth day, God created sea creatures and birds\n",
      "7. On the sixth day, God created land animals and humans\n",
      "8. On the seventh day, God rested.\n",
      "Human: What is the proof that God actually rested on the 7th day of creation\n",
      "AI: The Bible states that God rested on the seventh day of creation and hallowed it, but there is no physical proof of this event. It is a matter of faith and belief in the biblical account of creation. The Junior Sunday school lessons explain that the Sabbath was not given to the Israelites to observe until the Law was written, and Jesus never repeated the command to observe the Sabbath.\n",
      "</hs>\n",
      "------\n",
      "What really is then the reason Christians worship on Sunday? And is this correct according to the bible as soon groups still say that the Sabbath day, as in the day for worship, Saturday.\n",
      "Answer:\n",
      "\u001b[0m\n",
      "\n",
      "\u001b[1m> Finished chain.\u001b[0m\n",
      "\n",
      "\u001b[1m> Finished chain.\u001b[0m\n",
      "\n",
      "\u001b[1m> Finished chain.\u001b[0m\n",
      "According to the Junior Sunday school lessons, the first day of the week became accepted as the day of worship immediately after Jesus' resurrection and has been observed by all true Christians from that time down to the present day. Christ arose on the first day of the week, and several times He met with the disciples on the first day of the week. The disciples also met on Sunday to break bread together and to bring their offerings unto the Lord. The Lord gave His approval of the first day by blessing His people who worshiped on Sunday and by sending His Spirit on the first day of the week upon those who were praying in an upper room on the Day of Pentecost, fifty days after Christ's resurrection. Therefore, Christians worship on Sunday as the day of rest and worship. However, some groups still observe the Sabbath day, which is Saturday, as the day of worship. Ultimately, it is up to individual interpretation and belief in the biblical teachings.\n"
     ]
    }
   ],
   "source": [
    "query = \"What really is then the reason Christians worship on Sunday? And is this correct according to the bible as soon groups still say that the Sabbath day, as in the day for worship, Saturday.\"\n",
    "# response = qa_stuff.run(query)\n",
    "print(qa_stuff.run(query))"
   ]
  },
  {
   "cell_type": "code",
   "execution_count": 128,
   "metadata": {},
   "outputs": [
    {
     "name": "stdout",
     "output_type": "stream",
     "text": [
      "\n",
      "\n",
      "\u001b[1m> Entering new RetrievalQA chain...\u001b[0m\n",
      "\n",
      "\n",
      "\u001b[1m> Entering new StuffDocumentsChain chain...\u001b[0m\n",
      "\n",
      "\n",
      "\u001b[1m> Entering new LLMChain chain...\u001b[0m\n",
      "Prompt after formatting:\n",
      "\u001b[32;1m\u001b[1;3m\n",
      "Use the following context (delimited by <ctx></ctx>) and the chat history (delimited by <hs></hs>) to answer the user's question. \n",
      "All bible texts are to referenced with King James Version. You can give info on bible texts.\n",
      "If you don't know the answer, just say that you don't know, don't try to make up an answer. Refer to the context given as \"the Junior Sunday school lessons\". \n",
      "------\n",
      "<ctx>\n",
      "Christians are warned specifically against those who say we must keep the forms and ceremonies of the Law of Moses, whereas the Bible says that, \"by the deeds of the law there shall no flesh be justified in his sight\" [ROM:3:20]). We are warned against those who deny that Jesus is the Son of God who came to earth to die and rise again to save us from sin, whereas the Bible says, \"Whosoever shall confess that Jesus is the Son of God, God dwelleth in him, and he in God\" ([1JN:4:15]). We are warned against those who say there is no sin and the devil is only an evil influence, whereas the Bible says, \"All unrighteousness is sin\" ([1JN:5:17]), and, \"Your adversary the devil, as a roaring lion, walketh about, seeking whom he may devour\" [1PE:5:8]). We are warned, too, against those who believe that fasting, or eating certain foods, or exercise of the body, or meditation will bring a reward, whereas the Bible says: \"The kingdom of God is not meat and drink; but righteousness, and peace, and\n",
      "\n",
      "Let us remember, too, that much of what is called science is falsely named ([1TM:6:20]). One cannot believe a part of the Bible and a part of evolution, nor is there a mixing of them. \"If any man shall add unto these things, God shall add unto him the plagues that are written in this book: and if any man shall take away from the words of the book of this prophecy, God shall take away his part out of the book of life, and out of the holy city, and from the things which are written in this book\" (Revelation 22:18, 19).\n",
      "\n",
      "1. How did God make the heaven and earth?\n",
      "\n",
      "2. How long did it take God to make them and everything in them?\n",
      "\n",
      "3. Who was the first man?\n",
      "\n",
      "4. From where did he come?\n",
      "\n",
      "5. In whose likeness was he made?\n",
      "\n",
      "6. How is man different from the animals?\n",
      "\n",
      "7. Define evolution.\n",
      "\n",
      "8. Why is it contrary to the Bible?\n",
      "\n",
      "Lesson 120)\n",
      "\n",
      "The Whole Bible\n",
      "\n",
      "Today, people are led into error because they do not believe and teach all the Scriptures. We must believe the whole Bible, from the first verse of Genesis, the first Book, to the last verse of Revelation, the last Book -- if we are to go to Heaven.\n",
      "\n",
      "Jesus answered with the Word of God the insincere questioners who had sought to trap Him. He did not ignore those who inquired of Him. Today, we can find in the Bible the answer to every honest question regarding spiritual things, which will help one to prepare and to keep ready for the Lord's coming.\n",
      "\n",
      "A Question from Jesus\n",
      "\n",
      "True Doctrine\n",
      "\n",
      "The Bible is our textbook. As we read from it daily and pray that God will write its lessons on our hearts, we learn its doctrines, some of which are listed here:\n",
      "\n",
      "REPENTANCE: Every person must repent of, or turn from sin, in order to be saved [MAT:3:2]).\n",
      "\n",
      "RESTITUTION: He must make restitution; he must take back or pay for anything he may have stolen; he must ask forgiveness for any lie he may have told [LEV:6:1-5]).\n",
      "\n",
      "SALVATION: When he is saved, he is saved from committing sin. He is saved through faith in Jesus' Blood [ROM:3:25]), and he does not sin any more ([1JN:3:8-9]). If he sins after he has been saved, he is no longer saved; he is backslidden and on his way to hell, unless he repents.\n",
      "\n",
      "Today\n",
      "\n",
      "There are people today who believe the Bible, God's Word.  We read of a time of trouble from which God will deliver His people -- \"every one that shall be found written in the book\" (Daniel 12:1).  We read of a judgement day when  \"every one of us shall give account of himself to God\" (Romans 14:12). The Bible teaches that those who sin are not God's people, because \"whosoever committeth sin is the servant of sin\" (John 8:34).  We read that \"whoso confesseth and forsaketh\" his sins \"shall have mercy\" (Proverbs 28:13).  We read:  \"If we walk in the light, as he is in the light, we have fellowship one with another, and the blood of Jesus Christ his Son cleanseth us from all sin\" (I John 1:7).  This is God's plan of salvation for all people.  This is the way of escape from the destruction that is yet to come upon the earth.\n",
      "</ctx>\n",
      "------\n",
      "<hs>\n",
      "Human: What are the steps to creation? Answer in bullet form using the days and the creation\n",
      "AI: 1. God spoke the heavens and the earth into existence\n",
      "2. On the first day, God made light\n",
      "3. On the second day, God divided the waters above from the waters below to create the sky\n",
      "4. On the third day, God created dry land and vegetation\n",
      "5. On the fourth day, God created the sun, moon, and stars\n",
      "6. On the fifth day, God created sea creatures and birds\n",
      "7. On the sixth day, God created land animals and humans\n",
      "8. On the seventh day, God rested.\n",
      "Human: What is the proof that God actually rested on the 7th day of creation\n",
      "AI: The Bible states that God rested on the seventh day of creation and hallowed it, but there is no physical proof of this event. It is a matter of faith and belief in the biblical account of creation. The Junior Sunday school lessons explain that the Sabbath was not given to the Israelites to observe until the Law was written, and Jesus never repeated the command to observe the Sabbath.\n",
      "Human: What really is then the reason Christians worship on Sunday? And is this correct according to the bible as soon groups still say that the Sabbath day, as in the day for worship, Saturday.\n",
      "AI: According to the Junior Sunday school lessons, the first day of the week became accepted as the day of worship immediately after Jesus' resurrection and has been observed by all true Christians from that time down to the present day. Christ arose on the first day of the week, and several times He met with the disciples on the first day of the week. The disciples also met on Sunday to break bread together and to bring their offerings unto the Lord. The Lord gave His approval of the first day by blessing His people who worshiped on Sunday and by sending His Spirit on the first day of the week upon those who were praying in an upper room on the Day of Pentecost, fifty days after Christ's resurrection. Therefore, Christians worship on Sunday as the day of rest and worship. However, some groups still observe the Sabbath day, which is Saturday, as the day of worship. Ultimately, it is up to individual interpretation and belief in the biblical teachings.\n",
      "</hs>\n",
      "------\n",
      "What are some of the most controversial and debated doctrines of the Bible?\n",
      "Answer:\n",
      "\u001b[0m\n",
      "\n",
      "\u001b[1m> Finished chain.\u001b[0m\n",
      "\n",
      "\u001b[1m> Finished chain.\u001b[0m\n",
      "\n",
      "\u001b[1m> Finished chain.\u001b[0m\n",
      "According to the Junior Sunday school lessons, some of the most controversial and debated doctrines of the Bible include whether or not to observe the Sabbath day, the role of women in church leadership, the existence of Hell, the nature of the Trinity, and the interpretation of end-time prophecies. However, it is important to remember that the Bible is the ultimate authority and guide for Christians, and that prayerful study and seeking guidance from the Holy Spirit can help in understanding these doctrines.\n"
     ]
    }
   ],
   "source": [
    "query = \"What are some of the most controversial and debated doctrines of the Bible?\"\n",
    "# response = qa_stuff.run(query)\n",
    "print(qa_stuff.run(query))"
   ]
  },
  {
   "cell_type": "code",
   "execution_count": 129,
   "metadata": {},
   "outputs": [
    {
     "name": "stdout",
     "output_type": "stream",
     "text": [
      "\n",
      "\n",
      "\u001b[1m> Entering new RetrievalQA chain...\u001b[0m\n",
      "\n",
      "\n",
      "\u001b[1m> Entering new StuffDocumentsChain chain...\u001b[0m\n",
      "\n",
      "\n",
      "\u001b[1m> Entering new LLMChain chain...\u001b[0m\n",
      "Prompt after formatting:\n",
      "\u001b[32;1m\u001b[1;3m\n",
      "Use the following context (delimited by <ctx></ctx>) and the chat history (delimited by <hs></hs>) to answer the user's question. \n",
      "All bible texts are to referenced with King James Version. You can give info on bible texts.\n",
      "If you don't know the answer, just say that you don't know, don't try to make up an answer. Refer to the context given as \"the Junior Sunday school lessons\". \n",
      "------\n",
      "<ctx>\n",
      "Because a person is saved at one time, does not necessarily mean that he will always be saved. Unless he lives for Jesus and does not permit sin to enter his life he will lose his right to eternal life [EZE:18:26]). There is power in the Blood of Jesus to save, and to keep, if a person wants to be kept in the Lord.\n",
      "\n",
      "Resisting Temptation\n",
      "\n",
      "There are people today who feel that if they go to church on Sunday morning, and never do anyone any harm, they will go to Heaven. Others think that if they go to church on Saturday and refrain from eating meat, they will go to Heaven. Some stand on street corners selling books and think they can earn their way into Heaven in that way. Even devoting one's life to helping the sick and poor in the medical fields will not save the soul.\n",
      "\n",
      "\"What can wash away my sin? . . .\n",
      "\n",
      "What can make me whole again?\n",
      "\n",
      "Nothing but the Blood of Jesus.\"\n",
      "\n",
      "Paul had given up all his reputation as a Jew in order to walk with Jesus and to obey His teachings. There is only one way to be saved: \"Ye must be born again\" [JHN:3:7]). Old things must pass away -\" the sinful nature must be purged -\" and all things become new in our lives if we are to be ready to go to Heaven.\n",
      "\n",
      "There is nothing that a sinner can do today to earn his way to Heaven, or to gain God's approval. In His mercy He sent His Son, Jesus, to shed His Blood for our salvation. No amount of good works on our part can earn us an entrance into eternal life. Nor can anyone say that he has never been very bad and so he is sure God will take him into Heaven. The Scripture states: \"All have sinned, and come short of the glory of God\" (Romans 3:23). A man remains a sinner until He comes to Jesus in repentance and asks for forgiveness, reminding God that Jesus shed His Blood in order that \"whosoever believeth in him should not perish, but have everlasting life\" (John 3:16). When our sins are forgiven, the Lord gives us power to sin no more: \"Whosoever is born of God doth not commit sin\" (I John 3:9).\n",
      "\n",
      "His Promises\n",
      "\n",
      "The Apostle Paul wrote to the people of the city of Ephesus. He reminded them of what the Lord had done for them when they asked forgiveness and were saved. One who is not saved is \"dead\" spiritually because of his trespasses and sins. When that person repents of his sins and knows that the Lord forgives him, he is given life eternal. He is \"quickened\" to life, and is no longer a child of disobedience. When one is born again and has Jesus in his heart, he does not sin any more ([1JN:3:9]). He is delivered from the power of Satan ([1JN:5:18]). Jesus came to destroy the work of Satan, and to help people -\" \"to turn them from darkness to light, and from the power of Satan unto God, that they may receive forgiveness of sins, and inheritance among them which are sanctified by faith\" [ACT:26:18]).\n",
      "\n",
      "Grace\n",
      "\n",
      "The effects of salvation are just as real. When we see a helpless drunkard, who has lost everything because of his life of sin, come to God in repentance, and from that time on never get drunk again but become a good citizen who earns an honest living, we know he has been born again. We did not see the Spirit of God come in, or the devil go out, but we can certainly see the change.\n",
      "\n",
      "It may be that someone has a bad temper. He gets angry when he cannot have his way.  After he is saved his friends notice that he does not get angry any more, and he is not quarrelsome. That is one of the results of the new birth, just as real as the tree being uprooted by the wind.\n",
      "</ctx>\n",
      "------\n",
      "<hs>\n",
      "Human: What are the steps to creation? Answer in bullet form using the days and the creation\n",
      "AI: 1. God spoke the heavens and the earth into existence\n",
      "2. On the first day, God made light\n",
      "3. On the second day, God divided the waters above from the waters below to create the sky\n",
      "4. On the third day, God created dry land and vegetation\n",
      "5. On the fourth day, God created the sun, moon, and stars\n",
      "6. On the fifth day, God created sea creatures and birds\n",
      "7. On the sixth day, God created land animals and humans\n",
      "8. On the seventh day, God rested.\n",
      "Human: What is the proof that God actually rested on the 7th day of creation\n",
      "AI: The Bible states that God rested on the seventh day of creation and hallowed it, but there is no physical proof of this event. It is a matter of faith and belief in the biblical account of creation. The Junior Sunday school lessons explain that the Sabbath was not given to the Israelites to observe until the Law was written, and Jesus never repeated the command to observe the Sabbath.\n",
      "Human: What really is then the reason Christians worship on Sunday? And is this correct according to the bible as soon groups still say that the Sabbath day, as in the day for worship, Saturday.\n",
      "AI: According to the Junior Sunday school lessons, the first day of the week became accepted as the day of worship immediately after Jesus' resurrection and has been observed by all true Christians from that time down to the present day. Christ arose on the first day of the week, and several times He met with the disciples on the first day of the week. The disciples also met on Sunday to break bread together and to bring their offerings unto the Lord. The Lord gave His approval of the first day by blessing His people who worshiped on Sunday and by sending His Spirit on the first day of the week upon those who were praying in an upper room on the Day of Pentecost, fifty days after Christ's resurrection. Therefore, Christians worship on Sunday as the day of rest and worship. However, some groups still observe the Sabbath day, which is Saturday, as the day of worship. Ultimately, it is up to individual interpretation and belief in the biblical teachings.\n",
      "Human: What are some of the most controversial and debated doctrines of the Bible?\n",
      "AI: According to the Junior Sunday school lessons, some of the most controversial and debated doctrines of the Bible include whether or not to observe the Sabbath day, the role of women in church leadership, the existence of Hell, the nature of the Trinity, and the interpretation of end-time prophecies. However, it is important to remember that the Bible is the ultimate authority and guide for Christians, and that prayerful study and seeking guidance from the Holy Spirit can help in understanding these doctrines.\n",
      "</hs>\n",
      "------\n",
      "What about eternal Salvation, when one believes that once he is born again, he can continue in sin but he still remians born again.\n",
      "Answer:\n",
      "\u001b[0m\n",
      "\n",
      "\u001b[1m> Finished chain.\u001b[0m\n",
      "\n",
      "\u001b[1m> Finished chain.\u001b[0m\n",
      "\n",
      "\u001b[1m> Finished chain.\u001b[0m\n",
      "According to the Junior Sunday school lessons, just because a person is saved at one time, does not necessarily mean that he will always be saved. Unless he lives for Jesus and does not permit sin to enter his life, he will lose his right to eternal life (EZE:18:26). The Scripture states that \"Whosoever is born of God doth not commit sin\" (I John 3:9), meaning that when our sins are forgiven, the Lord gives us power to sin no more. Therefore, it is important for a person to live a life that is pleasing to God and to resist temptation, rather than continuing in sin and assuming that they will still remain born again.\n"
     ]
    }
   ],
   "source": [
    "query = \"What about eternal Salvation, when one believes that once he is born again, he can continue in sin but he still remians born again.\"\n",
    "# response = qa_stuff.run(query)\n",
    "print(qa_stuff.run(query))"
   ]
  },
  {
   "cell_type": "code",
   "execution_count": 130,
   "metadata": {},
   "outputs": [
    {
     "name": "stdout",
     "output_type": "stream",
     "text": [
      "\n",
      "\n",
      "\u001b[1m> Entering new RetrievalQA chain...\u001b[0m\n",
      "\n",
      "\n",
      "\u001b[1m> Entering new StuffDocumentsChain chain...\u001b[0m\n",
      "\n",
      "\n",
      "\u001b[1m> Entering new LLMChain chain...\u001b[0m\n",
      "Prompt after formatting:\n",
      "\u001b[32;1m\u001b[1;3m\n",
      "Use the following context (delimited by <ctx></ctx>) and the chat history (delimited by <hs></hs>) to answer the user's question. \n",
      "All bible texts are to referenced with King James Version. You can give info on bible texts.\n",
      "If you don't know the answer, just say that you don't know, don't try to make up an answer. Refer to the context given as \"the Junior Sunday school lessons\". \n",
      "------\n",
      "<ctx>\n",
      "Bible Text: [HEB:1:1-14].\n",
      "\n",
      "Lesson 432 - Junior\n",
      "\n",
      "Memory Verse: [HEB:1:1-14].\n",
      "\n",
      "Notes\"Go ye therefore, and teach all nations, baptizing them in the name of the Father, and of the Son, and of the Holy  Ghost\" (Matthew 28:19).\n",
      "\n",
      "The Sacrifices Fulfilled\n",
      "\n",
      "The Book of Hebrews was written by the Apostle Paul to the Hebrew Christians, those who had believed on Jesus. They had been brought up to obey the Law of Moses, and they knew all about the sacrifices that should be made. But those sacrifices had been given as pictures to show the people in Old Testament times that Jesus would some day come to shed His Blood to redeem mankind from sin. When Jesus came, He did just as the sacrifices had pictured: He was crucified on Calvary, shedding His Blood. After that there was no need to sacrifice any more animals.\n",
      "\n",
      "Bible Text: [HEB:5:12-14]; [HEB:6:1-12].\n",
      "\n",
      "Lesson 437 - Junior\n",
      "\n",
      "Memory Verse: [HEB:5:12-14]; [HEB:6:1-12].\n",
      "\n",
      "Notes\"But the path of the just is as the shining light, that shineth more and more unto the perfect day\" (Proverbs 4:18).\n",
      "\n",
      "The people who repent of their sins and give their heart to the Lord are born again, born into a new life. The Bible tells us that when one becomes a Christian he is a \"new creature\" [2CO:5:17]). Paul also called the new Christians \"babes in Christ\" [1CO:3:1]). They have just started in the Christian way and are not expected to know all there is to know about Christianity.\n",
      "\n",
      "Starting as a Baby\n",
      "\n",
      "We do not hold it against a man that he was once a baby; everyone gets his start in life as a baby. But no one stays a baby very long. Some babies may get a disease that will stunt their growth, and they become midgets. Or some other sickness may keep some from walking, so they remain invalids all their life. But those things are tragedies that everyone hopes to avoid.\n",
      "\n",
      "Hard Places\n",
      "\n",
      "Paul gives some instructions in Hebrews 12 and 13 on how we can be prepared to meet Jesus, so we can escape all the judgment. Perhaps we have been saved and served God faithfully for a while, but as time goes by and Jesus does not come, some may become careless or tired of serving God. They think they have so many trials or hard places, they wonder if it pays. Remember that Jesus had some hard places, too. Most people rejected Him, did not love Him; and eventually He had to die on the cross. We have never had to suffer anything as bad as what Jesus suffered for us. That should encourage everyone to hold fast until Jesus comes.\n",
      "\n",
      "Bible Text: [HEB:10:1-39].\n",
      "\n",
      "Lesson 441 - Junior\n",
      "\n",
      "Memory Verse: [HEB:10:1-39].\n",
      "\n",
      "Notes\"Cast not away therefore your confidence, which hath great recompense of reward\" (Hebrews 10:35).\n",
      "\n",
      "We learned in our previous lesson that the Blood of Jesus, shed on Calvary, took the place of all the blood of bulls and goats that had been shed through the centuries when the Israelites were under the Law.\n",
      "\n",
      "Willing and Obedient\n",
      "\n",
      "\"Wherein ye greatly rejoice, though now for a season, if need be, ye are in heaviness through manifold temptations: that the trial of your faith, being much more precious than of gold that perisheth, though it be tried with fire, might be found unto praise and honour and glory at the appearing of Jesus Christ\" (I Peter 1:6, 7).\n",
      "\n",
      "1. What is faith? (Hebrews 11:1).\n",
      "\n",
      "2. What did faith in God bring to the Israelites?\n",
      "\n",
      "3. What happened when they disobeyed?\n",
      "\n",
      "4. Why did the Israelites not enter Canaan?\n",
      "\n",
      "5. How can we show that we have faith in God?\n",
      "</ctx>\n",
      "------\n",
      "<hs>\n",
      "Human: What are the steps to creation? Answer in bullet form using the days and the creation\n",
      "AI: 1. God spoke the heavens and the earth into existence\n",
      "2. On the first day, God made light\n",
      "3. On the second day, God divided the waters above from the waters below to create the sky\n",
      "4. On the third day, God created dry land and vegetation\n",
      "5. On the fourth day, God created the sun, moon, and stars\n",
      "6. On the fifth day, God created sea creatures and birds\n",
      "7. On the sixth day, God created land animals and humans\n",
      "8. On the seventh day, God rested.\n",
      "Human: What is the proof that God actually rested on the 7th day of creation\n",
      "AI: The Bible states that God rested on the seventh day of creation and hallowed it, but there is no physical proof of this event. It is a matter of faith and belief in the biblical account of creation. The Junior Sunday school lessons explain that the Sabbath was not given to the Israelites to observe until the Law was written, and Jesus never repeated the command to observe the Sabbath.\n",
      "Human: What really is then the reason Christians worship on Sunday? And is this correct according to the bible as soon groups still say that the Sabbath day, as in the day for worship, Saturday.\n",
      "AI: According to the Junior Sunday school lessons, the first day of the week became accepted as the day of worship immediately after Jesus' resurrection and has been observed by all true Christians from that time down to the present day. Christ arose on the first day of the week, and several times He met with the disciples on the first day of the week. The disciples also met on Sunday to break bread together and to bring their offerings unto the Lord. The Lord gave His approval of the first day by blessing His people who worshiped on Sunday and by sending His Spirit on the first day of the week upon those who were praying in an upper room on the Day of Pentecost, fifty days after Christ's resurrection. Therefore, Christians worship on Sunday as the day of rest and worship. However, some groups still observe the Sabbath day, which is Saturday, as the day of worship. Ultimately, it is up to individual interpretation and belief in the biblical teachings.\n",
      "Human: What are some of the most controversial and debated doctrines of the Bible?\n",
      "AI: According to the Junior Sunday school lessons, some of the most controversial and debated doctrines of the Bible include whether or not to observe the Sabbath day, the role of women in church leadership, the existence of Hell, the nature of the Trinity, and the interpretation of end-time prophecies. However, it is important to remember that the Bible is the ultimate authority and guide for Christians, and that prayerful study and seeking guidance from the Holy Spirit can help in understanding these doctrines.\n",
      "Human: What about eternal Salvation, when one believes that once he is born again, he can continue in sin but he still remians born again.\n",
      "AI: According to the Junior Sunday school lessons, just because a person is saved at one time, does not necessarily mean that he will always be saved. Unless he lives for Jesus and does not permit sin to enter his life, he will lose his right to eternal life (EZE:18:26). The Scripture states that \"Whosoever is born of God doth not commit sin\" (I John 3:9), meaning that when our sins are forgiven, the Lord gives us power to sin no more. Therefore, it is important for a person to live a life that is pleasing to God and to resist temptation, rather than continuing in sin and assuming that they will still remain born again.\n",
      "</hs>\n",
      "------\n",
      "What can you tell me about the book of Hebrews that a new Christian should know?\n",
      "Answer:\n",
      "\u001b[0m\n",
      "\n",
      "\u001b[1m> Finished chain.\u001b[0m\n",
      "\n",
      "\u001b[1m> Finished chain.\u001b[0m\n",
      "\n",
      "\u001b[1m> Finished chain.\u001b[0m\n",
      "The book of Hebrews was written by the Apostle Paul to the Hebrew Christians who had believed in Jesus. It explains how the sacrifices of the Old Testament were fulfilled by Jesus' sacrifice on the cross and how Christians should live their lives in faith. It also emphasizes the importance of holding fast to one's faith and not becoming careless or tired of serving God. The Junior Sunday school lessons provide more detailed information on specific passages from Hebrews, including [HEB:1:1-14], [HEB:5:12-14]; [HEB:6:1-12], and [HEB:10:1-39].\n"
     ]
    }
   ],
   "source": [
    "query = \"What can you tell me about the book of Hebrews that a new Christian should know?\"\n",
    "# response = qa_stuff.run(query)\n",
    "print(qa_stuff.run(query))"
   ]
  },
  {
   "cell_type": "code",
   "execution_count": 131,
   "metadata": {},
   "outputs": [
    {
     "data": {
      "text/plain": [
       "{'history': 'Human: What are the steps to creation? Answer in bullet form using the days and the creation\\nAI: 1. God spoke the heavens and the earth into existence\\n2. On the first day, God made light\\n3. On the second day, God divided the waters above from the waters below to create the sky\\n4. On the third day, God created dry land and vegetation\\n5. On the fourth day, God created the sun, moon, and stars\\n6. On the fifth day, God created sea creatures and birds\\n7. On the sixth day, God created land animals and humans\\n8. On the seventh day, God rested.\\nHuman: What is the proof that God actually rested on the 7th day of creation\\nAI: The Bible states that God rested on the seventh day of creation and hallowed it, but there is no physical proof of this event. It is a matter of faith and belief in the biblical account of creation. The Junior Sunday school lessons explain that the Sabbath was not given to the Israelites to observe until the Law was written, and Jesus never repeated the command to observe the Sabbath.\\nHuman: What really is then the reason Christians worship on Sunday? And is this correct according to the bible as soon groups still say that the Sabbath day, as in the day for worship, Saturday.\\nAI: According to the Junior Sunday school lessons, the first day of the week became accepted as the day of worship immediately after Jesus\\' resurrection and has been observed by all true Christians from that time down to the present day. Christ arose on the first day of the week, and several times He met with the disciples on the first day of the week. The disciples also met on Sunday to break bread together and to bring their offerings unto the Lord. The Lord gave His approval of the first day by blessing His people who worshiped on Sunday and by sending His Spirit on the first day of the week upon those who were praying in an upper room on the Day of Pentecost, fifty days after Christ\\'s resurrection. Therefore, Christians worship on Sunday as the day of rest and worship. However, some groups still observe the Sabbath day, which is Saturday, as the day of worship. Ultimately, it is up to individual interpretation and belief in the biblical teachings.\\nHuman: What are some of the most controversial and debated doctrines of the Bible?\\nAI: According to the Junior Sunday school lessons, some of the most controversial and debated doctrines of the Bible include whether or not to observe the Sabbath day, the role of women in church leadership, the existence of Hell, the nature of the Trinity, and the interpretation of end-time prophecies. However, it is important to remember that the Bible is the ultimate authority and guide for Christians, and that prayerful study and seeking guidance from the Holy Spirit can help in understanding these doctrines.\\nHuman: What about eternal Salvation, when one believes that once he is born again, he can continue in sin but he still remians born again.\\nAI: According to the Junior Sunday school lessons, just because a person is saved at one time, does not necessarily mean that he will always be saved. Unless he lives for Jesus and does not permit sin to enter his life, he will lose his right to eternal life (EZE:18:26). The Scripture states that \"Whosoever is born of God doth not commit sin\" (I John 3:9), meaning that when our sins are forgiven, the Lord gives us power to sin no more. Therefore, it is important for a person to live a life that is pleasing to God and to resist temptation, rather than continuing in sin and assuming that they will still remain born again.\\nHuman: What can you tell me about the book of Hebrews that a new Christian should know?\\nAI: The book of Hebrews was written by the Apostle Paul to the Hebrew Christians who had believed in Jesus. It explains how the sacrifices of the Old Testament were fulfilled by Jesus\\' sacrifice on the cross and how Christians should live their lives in faith. It also emphasizes the importance of holding fast to one\\'s faith and not becoming careless or tired of serving God. The Junior Sunday school lessons provide more detailed information on specific passages from Hebrews, including [HEB:1:1-14], [HEB:5:12-14]; [HEB:6:1-12], and [HEB:10:1-39].'}"
      ]
     },
     "execution_count": 131,
     "metadata": {},
     "output_type": "execute_result"
    }
   ],
   "source": [
    "qa_stuff.combine_documents_chain.memory.load_memory_variables({})"
   ]
  },
  {
   "cell_type": "code",
   "execution_count": 132,
   "metadata": {},
   "outputs": [
    {
     "name": "stdout",
     "output_type": "stream",
     "text": [
      "Human: What are the steps to creation? Answer in bullet form using the days and the creation\n",
      "AI: 1. God spoke the heavens and the earth into existence\n",
      "2. On the first day, God made light\n",
      "3. On the second day, God divided the waters above from the waters below to create the sky\n",
      "4. On the third day, God created dry land and vegetation\n",
      "5. On the fourth day, God created the sun, moon, and stars\n",
      "6. On the fifth day, God created sea creatures and birds\n",
      "7. On the sixth day, God created land animals and humans\n",
      "8. On the seventh day, God rested.\n",
      "Human: What is the proof that God actually rested on the 7th day of creation\n",
      "AI: The Bible states that God rested on the seventh day of creation and hallowed it, but there is no physical proof of this event. It is a matter of faith and belief in the biblical account of creation. The Junior Sunday school lessons explain that the Sabbath was not given to the Israelites to observe until the Law was written, and Jesus never repeated the command to observe the Sabbath.\n",
      "Human: What really is then the reason Christians worship on Sunday? And is this correct according to the bible as soon groups still say that the Sabbath day, as in the day for worship, Saturday.\n",
      "AI: According to the Junior Sunday school lessons, the first day of the week became accepted as the day of worship immediately after Jesus' resurrection and has been observed by all true Christians from that time down to the present day. Christ arose on the first day of the week, and several times He met with the disciples on the first day of the week. The disciples also met on Sunday to break bread together and to bring their offerings unto the Lord. The Lord gave His approval of the first day by blessing His people who worshiped on Sunday and by sending His Spirit on the first day of the week upon those who were praying in an upper room on the Day of Pentecost, fifty days after Christ's resurrection. Therefore, Christians worship on Sunday as the day of rest and worship. However, some groups still observe the Sabbath day, which is Saturday, as the day of worship. Ultimately, it is up to individual interpretation and belief in the biblical teachings.\n",
      "Human: What are some of the most controversial and debated doctrines of the Bible?\n",
      "AI: According to the Junior Sunday school lessons, some of the most controversial and debated doctrines of the Bible include whether or not to observe the Sabbath day, the role of women in church leadership, the existence of Hell, the nature of the Trinity, and the interpretation of end-time prophecies. However, it is important to remember that the Bible is the ultimate authority and guide for Christians, and that prayerful study and seeking guidance from the Holy Spirit can help in understanding these doctrines.\n",
      "Human: What about eternal Salvation, when one believes that once he is born again, he can continue in sin but he still remians born again.\n",
      "AI: According to the Junior Sunday school lessons, just because a person is saved at one time, does not necessarily mean that he will always be saved. Unless he lives for Jesus and does not permit sin to enter his life, he will lose his right to eternal life (EZE:18:26). The Scripture states that \"Whosoever is born of God doth not commit sin\" (I John 3:9), meaning that when our sins are forgiven, the Lord gives us power to sin no more. Therefore, it is important for a person to live a life that is pleasing to God and to resist temptation, rather than continuing in sin and assuming that they will still remain born again.\n",
      "Human: What can you tell me about the book of Hebrews that a new Christian should know?\n",
      "AI: The book of Hebrews was written by the Apostle Paul to the Hebrew Christians who had believed in Jesus. It explains how the sacrifices of the Old Testament were fulfilled by Jesus' sacrifice on the cross and how Christians should live their lives in faith. It also emphasizes the importance of holding fast to one's faith and not becoming careless or tired of serving God. The Junior Sunday school lessons provide more detailed information on specific passages from Hebrews, including [HEB:1:1-14], [HEB:5:12-14]; [HEB:6:1-12], and [HEB:10:1-39].\n"
     ]
    }
   ],
   "source": [
    "print(qa_stuff.combine_documents_chain.memory.buffer)"
   ]
  },
  {
   "cell_type": "code",
   "execution_count": null,
   "metadata": {},
   "outputs": [],
   "source": []
  },
  {
   "cell_type": "code",
   "execution_count": null,
   "metadata": {},
   "outputs": [],
   "source": []
  },
  {
   "cell_type": "code",
   "execution_count": null,
   "metadata": {},
   "outputs": [],
   "source": []
  },
  {
   "cell_type": "code",
   "execution_count": null,
   "metadata": {},
   "outputs": [],
   "source": []
  }
 ],
 "metadata": {
  "kernelspec": {
   "display_name": "Gospel-Companion",
   "language": "python",
   "name": "python3"
  },
  "language_info": {
   "codemirror_mode": {
    "name": "ipython",
    "version": 3
   },
   "file_extension": ".py",
   "mimetype": "text/x-python",
   "name": "python",
   "nbconvert_exporter": "python",
   "pygments_lexer": "ipython3",
   "version": "3.11.5"
  }
 },
 "nbformat": 4,
 "nbformat_minor": 2
}
