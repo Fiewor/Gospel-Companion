{
 "cells": [
  {
   "cell_type": "code",
   "execution_count": 1,
   "metadata": {},
   "outputs": [],
   "source": [
    "import os\n",
    "\n",
    "from langchain.chains import RetrievalQA\n",
    "from langchain.chat_models import ChatOpenAI\n",
    "from langchain.chains import LLMChain\n",
    "from langchain.llms import OpenAI"
   ]
  },
  {
   "cell_type": "code",
   "execution_count": 2,
   "metadata": {},
   "outputs": [],
   "source": [
    "import langchain\n",
    "langchain.verbose = True"
   ]
  },
  {
   "cell_type": "code",
   "execution_count": 3,
   "metadata": {},
   "outputs": [],
   "source": [
    "# Add OpenAI library\n",
    "import openai"
   ]
  },
  {
   "cell_type": "code",
   "execution_count": 4,
   "metadata": {},
   "outputs": [
    {
     "data": {
      "text/plain": [
       "True"
      ]
     },
     "execution_count": 4,
     "metadata": {},
     "output_type": "execute_result"
    }
   ],
   "source": [
    "# Get Configuration Settings\n",
    "from dotenv import load_dotenv\n",
    "load_dotenv()"
   ]
  },
  {
   "cell_type": "code",
   "execution_count": 5,
   "metadata": {},
   "outputs": [],
   "source": [
    "# Configure OpenAI API using Azure OpenAI\n",
    "openai.api_key = os.getenv(\"API_KEY\")\n",
    "openai.api_base = os.getenv(\"ENDPOINT\")\n",
    "openai.api_type = \"azure\"  # Necessary for using the OpenAI library with Azure OpenAI\n",
    "openai.api_version = \"2024-02-01\"  # Latest / target version of the API"
   ]
  },
  {
   "cell_type": "markdown",
   "metadata": {},
   "source": [
    "## Initial tests without a Cloud Vector Store"
   ]
  },
  {
   "cell_type": "code",
   "execution_count": 6,
   "metadata": {},
   "outputs": [],
   "source": [
    "from langchain.vectorstores import DocArrayInMemorySearch\n",
    "from langchain.embeddings import OpenAIEmbeddings\n",
    "from langchain.text_splitter import RecursiveCharacterTextSplitter, CharacterTextSplitter\n",
    "from langchain.document_loaders import TextLoader"
   ]
  },
  {
   "cell_type": "code",
   "execution_count": 7,
   "metadata": {},
   "outputs": [],
   "source": [
    "def load_and_process_pdfs(txt_folder_path):\n",
    "    documents = []\n",
    "    for file in os.listdir(txt_folder_path):\n",
    "        if file.endswith('.txt'):\n",
    "            pdf_path = os.path.join(txt_folder_path, file)\n",
    "            loader = TextLoader(pdf_path)\n",
    "            documents.extend(loader.load())\n",
    "    text_splitter = RecursiveCharacterTextSplitter(chunk_size=1000, chunk_overlap=300)\n",
    "    splits = text_splitter.split_documents(documents)\n",
    "    return splits\n",
    "\n",
    "txt_folder_path =  \"/Users/mac/Documents/Gospel-Companion/data/Senior/\"\n",
    "splits = load_and_process_pdfs(txt_folder_path)"
   ]
  },
  {
   "cell_type": "code",
   "execution_count": 8,
   "metadata": {},
   "outputs": [
    {
     "data": {
      "text/plain": [
       "[Document(page_content='Bible Text: [JUG:5:1-31].\\n\\nLesson 191 - Senior\\n\\nMemory Verse: [JUG:5:1-31].\\n\\nCross References\"I, even I, will sing unto the LORD; I will sing praise to the LORD God of Israel\" (Judges 5:3).\\n\\nI The Preamble to Deborah and Barak\\'s Song\\n\\n1. Praise is given to God for His deliverance, [JUG:5:1-3].', metadata={'source': '/Users/mac/Documents/Gospel-Companion/data/Senior/Lesson191_Senior.txt'}),\n",
       " Document(page_content=\"1. Praise is given to God for His deliverance, [JUG:5:1-3].\\n\\n2. God's glory, majesty, and power, manifested in Israel's behalf, is recounted, [JUG:5:4-5]; [DEU:33:2]; [PS:68:7-8]; [HAB:3:3-4].\\n\\n3. Israel's shameful condition, because of idolatry, is stated, [JUG:5:6-8].\", metadata={'source': '/Users/mac/Documents/Gospel-Companion/data/Senior/Lesson191_Senior.txt'}),\n",
       " Document(page_content='4. Commendation is given the faithful governors of Israel, [JUG:5:9].\\n\\n5. Israel\\'s future of peace, righteousness, and just government is revealed -\" speaking, perhaps, also of the Millennium, [JUG:5:10-11]; [ISA:2:1-4], [ISA:10-21].\\n\\nII Commendation for Willing Service; Denunciation for Laxity', metadata={'source': '/Users/mac/Documents/Gospel-Companion/data/Senior/Lesson191_Senior.txt'}),\n",
       " Document(page_content='II Commendation for Willing Service; Denunciation for Laxity\\n\\n1. The call to leadership and responsibility is repeated, [JUG:5:12-13].\\n\\n2. Ephraim, Benjamin, Manasseh (Machir), Sebulun, Issachar, and Napthtali are commended for willing service, [JUG:5:14-15], [JUG:5:18].', metadata={'source': '/Users/mac/Documents/Gospel-Companion/data/Senior/Lesson191_Senior.txt'}),\n",
       " Document(page_content=\"3. Reuben, Gad (Gilead), Dan, and Asher are denounced for their self-interest and laxity, [JUG:5:15-17]; [GEN:49:3-4].\\n\\n4. The people of Meroz are cursed by God for their apathy and indolence, [JUG:5:23].\\n\\nIII The Battle's Course and Outcome\", metadata={'source': '/Users/mac/Documents/Gospel-Companion/data/Senior/Lesson191_Senior.txt'}),\n",
       " Document(page_content=\"III The Battle's Course and Outcome\\n\\n1. Israel is told that the tribes who responded did so willingly, without thought of financial gain, [JUG:5:19].\\n\\n2. They are also reminded that God fought and won the battle for them, [JUG:5:20-22]; [JUG:4:9], [JUG:5:14-15], [JUG:5:23].\", metadata={'source': '/Users/mac/Documents/Gospel-Companion/data/Senior/Lesson191_Senior.txt'}),\n",
       " Document(page_content=\"3. Jael's faithfulness to God's cause, in spite of a league with the ungodly, is commended, [JUG:5:24-27]; [JUG:4:11-12], [JUG:4:17-21].\\n\\n4. The carnal security of the ungodly, and its futility, is brought to Israel's attention, [JUG:5:28-30].\", metadata={'source': '/Users/mac/Documents/Gospel-Companion/data/Senior/Lesson191_Senior.txt'}),\n",
       " Document(page_content='5. A stirring benediction is given, [JUG:5:31]; [HEB:11:32-34], [HEB:11:39].\\n\\nThe Song of Praise', metadata={'source': '/Users/mac/Documents/Gospel-Companion/data/Senior/Lesson191_Senior.txt'}),\n",
       " Document(page_content='Practically the whole of Judges 5 is devoted to the song of Deborah and Barak, sung after their battle with the Canaanite army had ended. Its context reveals some deep and heart-searching truths, excellent for personal application today, even though the song was inspired and sung in a period more', metadata={'source': '/Users/mac/Documents/Gospel-Companion/data/Senior/Lesson191_Senior.txt'}),\n",
       " Document(page_content='today, even though the song was inspired and sung in a period more than 3,000 years ago.', metadata={'source': '/Users/mac/Documents/Gospel-Companion/data/Senior/Lesson191_Senior.txt'})]"
      ]
     },
     "execution_count": 8,
     "metadata": {},
     "output_type": "execute_result"
    }
   ],
   "source": [
    "splits[0:10]"
   ]
  },
  {
   "cell_type": "code",
   "execution_count": 9,
   "metadata": {},
   "outputs": [],
   "source": [
    "# SOURCE_FILE_NAME = \"/Users/mac/Documents/Gospel-Companion/data/Senior/Lesson1_Senior.txt\""
   ]
  },
  {
   "cell_type": "code",
   "execution_count": 10,
   "metadata": {},
   "outputs": [],
   "source": [
    "# loader = TextLoader(SOURCE_FILE_NAME)\n",
    "# documents = loader.load()\n",
    "# text_splitter = CharacterTextSplitter(chunk_size=150, chunk_overlap=50)\n",
    "# docs = text_splitter.split_documents(documents)"
   ]
  },
  {
   "cell_type": "code",
   "execution_count": 11,
   "metadata": {},
   "outputs": [],
   "source": [
    "# docs"
   ]
  },
  {
   "cell_type": "code",
   "execution_count": 12,
   "metadata": {},
   "outputs": [],
   "source": [
    "# OpenAI Settings\n",
    "model_deployment = \"text-embedding-ada-002\"\n",
    "# SDK calls this \"engine\", but naming it \"deployment_name\" for clarity\n",
    "\n",
    "model_name = \"text-embedding-ada-002\""
   ]
  },
  {
   "cell_type": "code",
   "execution_count": 13,
   "metadata": {},
   "outputs": [
    {
     "name": "stderr",
     "output_type": "stream",
     "text": [
      "/Users/mac/Documents/Gospel-Companion/lib/python3.11/site-packages/langchain_core/_api/deprecation.py:139: LangChainDeprecationWarning: The class `OpenAIEmbeddings` was deprecated in LangChain 0.0.9 and will be removed in 0.3.0. An updated version of the class exists in the langchain-openai package and should be used instead. To use it run `pip install -U langchain-openai` and import as `from langchain_openai import OpenAIEmbeddings`.\n",
      "  warn_deprecated(\n"
     ]
    }
   ],
   "source": [
    "openai_embeddings: OpenAIEmbeddings = OpenAIEmbeddings(\n",
    "    openai_api_version = os.getenv(\"OPENAI_API_VERSION\"), openai_api_key = os.getenv(\"API_KEY\"),\n",
    "    openai_api_base = os.getenv(\"ENDPOINT\"), openai_api_type = \"azure\"\n",
    ")"
   ]
  },
  {
   "cell_type": "code",
   "execution_count": 14,
   "metadata": {},
   "outputs": [
    {
     "name": "stderr",
     "output_type": "stream",
     "text": [
      "/Users/mac/Documents/Gospel-Companion/lib/python3.11/site-packages/pydantic/_migration.py:283: UserWarning: `pydantic.error_wrappers:ValidationError` has been moved to `pydantic:ValidationError`.\n",
      "  warnings.warn(f'`{import_path}` has been moved to `{new_location}`.')\n",
      "Retrying langchain_community.embeddings.openai.embed_with_retry.<locals>._embed_with_retry in 4.0 seconds as it raised APIConnectionError: Error communicating with OpenAI: ('Connection aborted.', ConnectionResetError(54, 'Connection reset by peer')).\n",
      "Retrying langchain_community.embeddings.openai.embed_with_retry.<locals>._embed_with_retry in 4.0 seconds as it raised RateLimitError: Requests to the Embeddings_Create Operation under Azure OpenAI API version 2023-03-15-preview have exceeded call rate limit of your current OpenAI S0 pricing tier. Please retry after 1 second. Please go here: https://aka.ms/oai/quotaincrease if you would like to further increase the default rate limit..\n",
      "Retrying langchain_community.embeddings.openai.embed_with_retry.<locals>._embed_with_retry in 4.0 seconds as it raised APIConnectionError: Error communicating with OpenAI: HTTPSConnectionPool(host='voicetask-demo.openai.azure.com', port=443): Read timed out..\n"
     ]
    }
   ],
   "source": [
    "db = DocArrayInMemorySearch.from_documents(\n",
    "    splits, \n",
    "    openai_embeddings\n",
    ")"
   ]
  },
  {
   "cell_type": "code",
   "execution_count": 15,
   "metadata": {},
   "outputs": [],
   "source": [
    "query = \"What are the steps to creation?\"\n",
    "docs = db.similarity_search(query)"
   ]
  },
  {
   "cell_type": "code",
   "execution_count": 16,
   "metadata": {},
   "outputs": [
    {
     "data": {
      "text/plain": [
       "[Document(page_content='Steps of Creation', metadata={'source': '/Users/mac/Documents/Gospel-Companion/data/Senior/Lesson1_Senior.txt'}),\n",
       " Document(page_content='1. Why were all the other steps in creation taken before the creation of man?\\n\\n2. What is said about the creation of man, which distinguishes and separates him from the other creatures?', metadata={'source': '/Users/mac/Documents/Gospel-Companion/data/Senior/Lesson2_Senior.txt'}),\n",
       " Document(page_content=\"The steps of creation day by day are most wonderful. God's great purpose was to provide this world for man. In order that man should be sustained here in life, it was necessary that the earth be prepared for the creating of life. The successive creative acts reveal great wisdom and order. God first\", metadata={'source': '/Users/mac/Documents/Gospel-Companion/data/Senior/Lesson1_Senior.txt'}),\n",
       " Document(page_content='Preparation', metadata={'source': '/Users/mac/Documents/Gospel-Companion/data/Senior/Lesson164_Senior.txt'})]"
      ]
     },
     "execution_count": 16,
     "metadata": {},
     "output_type": "execute_result"
    }
   ],
   "source": [
    "docs"
   ]
  },
  {
   "cell_type": "code",
   "execution_count": 17,
   "metadata": {},
   "outputs": [],
   "source": [
    "retriever = db.as_retriever()"
   ]
  },
  {
   "cell_type": "code",
   "execution_count": 30,
   "metadata": {},
   "outputs": [
    {
     "name": "stderr",
     "output_type": "stream",
     "text": [
      "WARNING! engine is not default parameter.\n",
      "                    engine was transferred to model_kwargs.\n",
      "                    Please confirm that engine is what you intended.\n"
     ]
    }
   ],
   "source": [
    "llm = ChatOpenAI(temperature = 0.6, openai_api_key = os.getenv(\"API_KEY\"), openai_api_base = os.getenv(\"ENDPOINT\"), model_name=\"gpt-35-turbo\", engine=\"Voicetask\")"
   ]
  },
  {
   "cell_type": "markdown",
   "metadata": {},
   "source": [
    "## Usnig ConversationBufferMemory"
   ]
  },
  {
   "cell_type": "code",
   "execution_count": 31,
   "metadata": {},
   "outputs": [],
   "source": [
    "from langchain.memory import ConversationBufferMemory, ConversationSummaryBufferMemory, ConversationBufferWindowMemory\n",
    "from langchain import PromptTemplate"
   ]
  },
  {
   "cell_type": "code",
   "execution_count": 32,
   "metadata": {},
   "outputs": [],
   "source": [
    "template = \"\"\"\n",
    "Use the following context (delimited by <ctx></ctx>) and the chat history (delimited by <hs></hs>) to answer the user's question. \n",
    "All bible texts are to referenced with King James Version. You can give info on bible texts.\n",
    "If you don't know the answer, just say that you don't know, don't try to make up an answer.\n",
    "------\n",
    "<ctx>\n",
    "{context}\n",
    "</ctx>\n",
    "------\n",
    "<hs>\n",
    "{history}\n",
    "</hs>\n",
    "------\n",
    "{question}\n",
    "Answer:\n",
    "\"\"\"\n",
    "prompt = PromptTemplate(\n",
    "    input_variables=[\"history\", \"context\", \"question\"],\n",
    "    template=template,\n",
    ")"
   ]
  },
  {
   "cell_type": "code",
   "execution_count": 33,
   "metadata": {},
   "outputs": [],
   "source": [
    "qa_stuff = RetrievalQA.from_chain_type(\n",
    "    llm=llm, \n",
    "    chain_type=\"stuff\", \n",
    "    retriever=retriever, \n",
    "    verbose=True,\n",
    "    chain_type_kwargs={\n",
    "        \"verbose\": True,\n",
    "        \"prompt\": prompt,\n",
    "        \"memory\": ConversationBufferWindowMemory(\n",
    "            k = 2,\n",
    "            memory_key=\"history\",\n",
    "            input_key=\"question\"),\n",
    "            }\n",
    "    )"
   ]
  },
  {
   "cell_type": "code",
   "execution_count": 45,
   "metadata": {},
   "outputs": [
    {
     "ename": "TypeError",
     "evalue": "'NoneType' object is not callable",
     "output_type": "error",
     "traceback": [
      "\u001b[0;31m---------------------------------------------------------------------------\u001b[0m",
      "\u001b[0;31mTypeError\u001b[0m                                 Traceback (most recent call last)",
      "Cell \u001b[0;32mIn[45], line 1\u001b[0m\n\u001b[0;32m----> 1\u001b[0m \u001b[43mqa_stuff\u001b[49m\u001b[38;5;241;43m.\u001b[39;49m\u001b[43mmemory\u001b[49m\u001b[43m(\u001b[49m\u001b[38;5;124;43m'\u001b[39;49m\u001b[38;5;124;43mhistory\u001b[39;49m\u001b[38;5;124;43m'\u001b[39;49m\u001b[43m)\u001b[49m\n\u001b[1;32m      2\u001b[0m \u001b[38;5;66;03m# load_memory_variables({})[\"history\"]\u001b[39;00m\n",
      "\u001b[0;31mTypeError\u001b[0m: 'NoneType' object is not callable"
     ]
    }
   ],
   "source": [
    "qa_stuff.memory('history')\n",
    "# load_memory_variables({})[\"history\"]"
   ]
  },
  {
   "cell_type": "code",
   "execution_count": 47,
   "metadata": {},
   "outputs": [
    {
     "ename": "AttributeError",
     "evalue": "'PromptTemplate' object has no attribute 'context'",
     "output_type": "error",
     "traceback": [
      "\u001b[0;31m---------------------------------------------------------------------------\u001b[0m",
      "\u001b[0;31mAttributeError\u001b[0m                            Traceback (most recent call last)",
      "Cell \u001b[0;32mIn[47], line 1\u001b[0m\n\u001b[0;32m----> 1\u001b[0m \u001b[43mprompt\u001b[49m\u001b[38;5;241;43m.\u001b[39;49m\u001b[43mcontext\u001b[49m()\n",
      "\u001b[0;31mAttributeError\u001b[0m: 'PromptTemplate' object has no attribute 'context'"
     ]
    }
   ],
   "source": [
    "prompt"
   ]
  },
  {
   "cell_type": "code",
   "execution_count": 35,
   "metadata": {},
   "outputs": [
    {
     "name": "stdout",
     "output_type": "stream",
     "text": [
      "\n",
      "\n",
      "\u001b[1m> Entering new RetrievalQA chain...\u001b[0m\n",
      "\n",
      "\n",
      "\u001b[1m> Entering new StuffDocumentsChain chain...\u001b[0m\n",
      "\n",
      "\n",
      "\u001b[1m> Entering new LLMChain chain...\u001b[0m\n",
      "Prompt after formatting:\n",
      "\u001b[32;1m\u001b[1;3m\n",
      "Use the following context (delimited by <ctx></ctx>) and the chat history (delimited by <hs></hs>) to answer the user's question. \n",
      "All bible texts are to referenced with King James Version. You can give info on bible texts.\n",
      "If you don't know the answer, just say that you don't know, don't try to make up an answer.\n",
      "------\n",
      "<ctx>\n",
      "Steps of Creation\n",
      "\n",
      "The steps of creation day by day are most wonderful. God's great purpose was to provide this world for man. In order that man should be sustained here in life, it was necessary that the earth be prepared for the creating of life. The successive creative acts reveal great wisdom and order. God first\n",
      "\n",
      "6. Name what He created each successive day.\n",
      "\n",
      "7. What was God's comment as He surveyed His completed work?\n",
      "\n",
      "8. What school of so-called scientists denies in these days the Biblical account of the creation?\n",
      "\n",
      "I The Work of Creation on the First and Second Days\n",
      "\n",
      "1. God is the Creator of Heaven and earth (the universe), [GEN:1:1].\n",
      "\n",
      "2. In the first creative act the earth was without form, without light, and void -- all a shapeless mass, [GEN:1:2].\n",
      "</ctx>\n",
      "------\n",
      "<hs>\n",
      "\n",
      "</hs>\n",
      "------\n",
      "What are the steps to creation? Answer in bullet form using the days and the creation\n",
      "Answer:\n",
      "\u001b[0m\n",
      "\n",
      "\u001b[1m> Finished chain.\u001b[0m\n",
      "\n",
      "\u001b[1m> Finished chain.\u001b[0m\n",
      "\n",
      "\u001b[1m> Finished chain.\u001b[0m\n",
      "1. Day 1: God created light and separated it from darkness.\n",
      "2. Day 2: God created the sky and separated the waters.\n",
      "3. Day 3: God created dry land and plants.\n",
      "4. Day 4: God created the sun, moon, and stars.\n",
      "5. Day 5: God created sea creatures and birds.\n",
      "6. Day 6: God created land animals and humans.\n",
      "7. God's comment after surveying His completed work was that it was good.\n",
      "8. Some members of the scientific community deny the Biblical account of creation.\n"
     ]
    }
   ],
   "source": [
    "query = \"What are the steps to creation? Answer in bullet form using the days and the creation\"\n",
    "# response = qa_stuff.run(query)\n",
    "print(qa_stuff.run(query))"
   ]
  },
  {
   "cell_type": "code",
   "execution_count": 41,
   "metadata": {},
   "outputs": [
    {
     "data": {
      "text/plain": [
       "ConversationBufferWindowMemory(chat_memory=InMemoryChatMessageHistory(messages=[HumanMessage(content='What are the steps to creation? Answer in bullet form using the days and the creation'), AIMessage(content=\"1. Day 1: God created light and separated it from darkness.\\n2. Day 2: God created the sky and separated the waters.\\n3. Day 3: God created dry land and plants.\\n4. Day 4: God created the sun, moon, and stars.\\n5. Day 5: God created sea creatures and birds.\\n6. Day 6: God created land animals and humans.\\n7. God's comment after surveying His completed work was that it was good.\\n8. Some members of the scientific community deny the Biblical account of creation.\")]), input_key='question', k=2)"
      ]
     },
     "execution_count": 41,
     "metadata": {},
     "output_type": "execute_result"
    }
   ],
   "source": [
    "qa_stuff.combine_documents_chain.memory\n",
    "# print(response)"
   ]
  },
  {
   "cell_type": "code",
   "execution_count": 42,
   "metadata": {},
   "outputs": [
    {
     "data": {
      "text/plain": [
       "VectorStoreRetriever(tags=['DocArrayInMemorySearch'], vectorstore=<langchain_community.vectorstores.docarray.in_memory.DocArrayInMemorySearch object at 0x10f5de850>)"
      ]
     },
     "execution_count": 42,
     "metadata": {},
     "output_type": "execute_result"
    }
   ],
   "source": [
    "retriever"
   ]
  },
  {
   "cell_type": "code",
   "execution_count": 38,
   "metadata": {},
   "outputs": [
    {
     "name": "stdout",
     "output_type": "stream",
     "text": [
      "\n",
      "\n",
      "\u001b[1m> Entering new RetrievalQA chain...\u001b[0m\n",
      "\n",
      "\n",
      "\u001b[1m> Entering new StuffDocumentsChain chain...\u001b[0m\n",
      "\n",
      "\n",
      "\u001b[1m> Entering new LLMChain chain...\u001b[0m\n",
      "Prompt after formatting:\n",
      "\u001b[32;1m\u001b[1;3m\n",
      "Use the following context (delimited by <ctx></ctx>) and the chat history (delimited by <hs></hs>) to answer the user's question. \n",
      "All bible texts are to referenced with King James Version. You can give info on bible texts.\n",
      "If you don't know the answer, just say that you don't know, don't try to make up an answer.\n",
      "------\n",
      "<ctx>\n",
      "While no declaration that God makes needs to be substantiated by evidence or argument, yet other portions of His wonderful Book, touching upon the subject of creation, serve greatly to strengthen one's faith in what here is declared -- as, for example, the words of the Psalmist: \"The heavens declare the glory of God; and the firmament sheweth his handiwork. Day unto day uttereth speech, and night unto night sheweth knowledge. There is no speech nor language, where their voice is not heard\" [PS:19:1-3]). The heavens, and the earth too, are declaring to man by innumerable evidences -- by the stars, by the seas, by the mountains, by the trees -- that God is the Creator of all that is.\n",
      "\n",
      "The first verse of the inspired Word declares, \"In the beginning God created the heaven and the earth.\" These words thus pronounce God the Creator of the universe; and for him who believes the Bible this statement settles the issue -- God is the Creator of the universe and all that is in it.\n",
      "\n",
      "Science has made some remarkable discoveries, but science still falls short of a satisfactory explanation of the creation, outside of God. The scientist sees the handiwork of God, but too often he overlooks or denies God as the Creator. No, the universe with all its intricate designs and precision did not evolve out of some nebulous mass, any more than a fine watch could evolve itself out of the dust of the earth. \"By the word of God the heavens were of old, and the earth standing out of the water and in the water\" [2PE:3:5]). Happy is the man who has faith in God, for in Him are the answers to questions that otherwise are unanswerable.\n",
      "\n",
      "6. Name what He created each successive day.\n",
      "\n",
      "7. What was God's comment as He surveyed His completed work?\n",
      "</ctx>\n",
      "------\n",
      "<hs>\n",
      "Human: What are the steps to creation? Answer in bullet form using the days and the creation\n",
      "AI: - Day 1: God created the earth, which was without form and void\n",
      "- Day 2: God commanded light into existence\n",
      "- Day 3: God created the firmament, separating the vaporous waters above from the condensed waters below, and created grass, fruits, and herbs with seed after their kind\n",
      "- Day 4: God created the sun to rule by day and the moon to rule by night, along with the planets and stars\n",
      "- Day 5: God created sea creatures and birds\n",
      "- Day 6: God created land animals and humans\n",
      "- God surveyed His completed work and saw that it was good.\n",
      "Human: Can you give me bible verses that talk in detail about the creation?\n",
      "AI: Psalm 19:1-3 - \"The heavens declare the glory of God; and the firmament sheweth his handiwork. Day unto day uttereth speech, and night unto night sheweth knowledge. There is no speech nor language, where their voice is not heard.\"\n",
      "\n",
      "2 Peter 3:5 - \"For this they willingly are ignorant of, that by the word of God the heavens were of old, and the earth standing out of the water and in the water.\"\n",
      "\n",
      "Genesis 1:1-31 - This chapter provides a detailed account of the creation story, including the creation of the earth, light, firmament, plants, animals, and humans.\n",
      "</hs>\n",
      "------\n",
      "Can you give me bible verses that talk in detail about the creation?\n",
      "Answer:\n",
      "\u001b[0m\n",
      "\n",
      "\u001b[1m> Finished chain.\u001b[0m\n",
      "\n",
      "\u001b[1m> Finished chain.\u001b[0m\n",
      "\n",
      "\u001b[1m> Finished chain.\u001b[0m\n",
      "Psalm 19:1-3, 2 Peter 3:5, and Genesis 1:1-31 all provide details about the creation story in the Bible. Psalm 19:1-3 describes how the heavens and the earth declare the glory of God, while 2 Peter 3:5 explains that the heavens were created by the word of God. Genesis 1:1-31 provides a detailed account of the creation story, including the creation of the earth, light, firmament, plants, animals, and humans.\n"
     ]
    }
   ],
   "source": [
    "query = \"Can you give me bible verses that talk in detail about the creation?\"\n",
    "# response = qa_stuff.run(query)\n",
    "print(qa_stuff.run(query))"
   ]
  },
  {
   "cell_type": "code",
   "execution_count": 32,
   "metadata": {},
   "outputs": [
    {
     "name": "stdout",
     "output_type": "stream",
     "text": [
      "\n",
      "\n",
      "\u001b[1m> Entering new RetrievalQA chain...\u001b[0m\n",
      "\n",
      "\n",
      "\u001b[1m> Entering new StuffDocumentsChain chain...\u001b[0m\n",
      "\n",
      "\n",
      "\u001b[1m> Entering new LLMChain chain...\u001b[0m\n",
      "Prompt after formatting:\n",
      "\u001b[32;1m\u001b[1;3m\n",
      "Use the following context (delimited by <ctx></ctx>) and the chat history (delimited by <hs></hs>) to answer the user's question. \n",
      "All bible texts are to referenced with King James Version. You can give info on bible texts.\n",
      "If you don't know the answer, just say that you don't know, don't try to make up an answer.\n",
      "------\n",
      "<ctx>\n",
      "1. Who wrote the Book of Genesis?\n",
      "\n",
      "2. What other Books of the Bible did he write?\n",
      "\n",
      "3. What is the meaning of the name Genesis?\n",
      "\n",
      "Cross References\"Through faith we understand that the worlds were framed by the word of God, so that things which are seen were not made of things which do appear\"  (Hebrews 11:3).\n",
      "\n",
      "The first verse of the inspired Word declares, \"In the beginning God created the heaven and the earth.\" These words thus pronounce God the Creator of the universe; and for him who believes the Bible this statement settles the issue -- God is the Creator of the universe and all that is in it.\n",
      "\n",
      "There are three ways that this information could have reached Moses: namely, writing, word of mouth, and Divine revelation.\n",
      "</ctx>\n",
      "------\n",
      "<hs>\n",
      "Human: What are the steps to creation? Answer in bullet form\n",
      "AI: - God created the earth, which was without form and void, and darkness was upon the face of the deep.\n",
      "- God commanded light.\n",
      "- God created the firmament -- the expanse above the earth, modifying the temperature and separating the vaporous waters above (the clouds) from the condensed waters below (the seas).\n",
      "- God created grass, fruits, and herbs, each with seed after its kind.\n",
      "- God created the sun to rule by day, and the moon to rule by night, besides the planets of our solar system, and the innumerable stars. \n",
      "- God surveyed His completed work and saw that it was good.\n",
      "Human: Can you give me bible verses that talk in detail about the creation?\n",
      "AI: Yes, there are several bible verses that talk in detail about the creation. One of them is Genesis 1, which describes the creation in seven days. Another one is Psalm 19:1-3, which talks about how the heavens and the earth declare the glory of God. Additionally, 2 Peter 3:5 mentions that \"By the word of God the heavens were of old, and the earth standing out of the water and in the water.\"\n",
      "</hs>\n",
      "------\n",
      "What do those verses say? Write it out\n",
      "Answer:\n",
      "\u001b[0m\n",
      "\n",
      "\u001b[1m> Finished chain.\u001b[0m\n",
      "\n",
      "\u001b[1m> Finished chain.\u001b[0m\n",
      "\n",
      "\u001b[1m> Finished chain.\u001b[0m\n"
     ]
    },
    {
     "data": {
      "text/plain": [
       "\"Sorry, there are no specific verses mentioned in the user's question. Can you please provide more context or clarify your question?\""
      ]
     },
     "execution_count": 32,
     "metadata": {},
     "output_type": "execute_result"
    }
   ],
   "source": [
    "query = \"What do those verses say? Write it out\"\n",
    "# response = qa_stuff.run(query)\n",
    "print(qa_stuff.run(query))"
   ]
  },
  {
   "cell_type": "code",
   "execution_count": 40,
   "metadata": {},
   "outputs": [
    {
     "name": "stdout",
     "output_type": "stream",
     "text": [
      "\n",
      "\n",
      "\u001b[1m> Entering new RetrievalQA chain...\u001b[0m\n",
      "\n",
      "\n",
      "\u001b[1m> Entering new StuffDocumentsChain chain...\u001b[0m\n",
      "\n",
      "\n",
      "\u001b[1m> Entering new LLMChain chain...\u001b[0m\n",
      "Prompt after formatting:\n",
      "\u001b[32;1m\u001b[1;3m\n",
      "Use the following context (delimited by <ctx></ctx>) and the chat history (delimited by <hs></hs>) to answer the user's question. \n",
      "All bible texts are to referenced with King James Version. You can give info on bible texts.\n",
      "If you don't know the answer, just say that you don't know, don't try to make up an answer.\n",
      "------\n",
      "<ctx>\n",
      "The first verse of the inspired Word declares, \"In the beginning God created the heaven and the earth.\" These words thus pronounce God the Creator of the universe; and for him who believes the Bible this statement settles the issue -- God is the Creator of the universe and all that is in it.\n",
      "\n",
      "While no declaration that God makes needs to be substantiated by evidence or argument, yet other portions of His wonderful Book, touching upon the subject of creation, serve greatly to strengthen one's faith in what here is declared -- as, for example, the words of the Psalmist: \"The heavens declare the glory of God; and the firmament sheweth his handiwork. Day unto day uttereth speech, and night unto night sheweth knowledge. There is no speech nor language, where their voice is not heard\" [PS:19:1-3]). The heavens, and the earth too, are declaring to man by innumerable evidences -- by the stars, by the seas, by the mountains, by the trees -- that God is the Creator of all that is.\n",
      "\n",
      "Of the Son it is written: \"All things were made by him; and without him was not any thing made that was made\" [JHN:1:3]); and in another passage: \"For by him were all things created, that are in heaven, and that are in earth, visible and invisible\" [COL:1:16]).\n",
      "\n",
      "Bible Text: [GEN:1:1-25].\n",
      "\n",
      "Lesson 1 - Senior\n",
      "\n",
      "Memory Verse: [GEN:1:1-25].\n",
      "</ctx>\n",
      "------\n",
      "<hs>\n",
      "Human: Can you give me bible verses that talk in detail about the creation?\n",
      "AI: Psalm 19:1-3, 2 Peter 3:5, and Genesis 1:1-31 all provide details about the creation story in the Bible. Psalm 19:1-3 describes how the heavens and the earth declare the glory of God, while 2 Peter 3:5 explains that the heavens were created by the word of God. Genesis 1:1-31 provides a detailed account of the creation story, including the creation of the earth, light, firmament, plants, animals, and humans.\n",
      "Human: The verses about the creation you gave out, can you give me what they are in KJV.\n",
      "AI: Sure! Here are the verses in King James Version:\n",
      "\n",
      "Psalm 19:1-3 - \"The heavens declare the glory of God; and the firmament sheweth his handywork. Day unto day uttereth speech, and night unto night sheweth knowledge. There is no speech nor language, where their voice is not heard.\"\n",
      "\n",
      "2 Peter 3:5 - \"For this they willingly are ignorant of, that by the word of God the heavens were of old, and the earth standing out of the water and in the water.\"\n",
      "\n",
      "Genesis 1:1-31 - This chapter provides a detailed account of the creation story, including the creation of the earth, light, firmament, plants, animals, and humans.\n",
      "</hs>\n",
      "------\n",
      "The verses about the creation you gave out, can you give me what they are in KJV.\n",
      "Answer:\n",
      "\u001b[0m\n",
      "\n",
      "\u001b[1m> Finished chain.\u001b[0m\n",
      "\n",
      "\u001b[1m> Finished chain.\u001b[0m\n",
      "\n",
      "\u001b[1m> Finished chain.\u001b[0m\n",
      "Sure! Here are the verses in King James Version:\n",
      "\n",
      "Psalm 19:1-3 - \"The heavens declare the glory of God; and the firmament sheweth his handywork. Day unto day uttereth speech, and night unto night sheweth knowledge. There is no speech nor language, where their voice is not heard.\"\n",
      "\n",
      "2 Peter 3:5 - \"For this they willingly are ignorant of, that by the word of God the heavens were of old, and the earth standing out of the water and in the water.\"\n",
      "\n",
      "Genesis 1:1-31 - This chapter provides a detailed account of the creation story, including the creation of the earth, light, firmament, plants, animals, and humans.\n"
     ]
    }
   ],
   "source": [
    "query = \"The verses about the creation you gave out, can you give me what they are in KJV.\"\n",
    "# response = qa_stuff.run(query)\n",
    "print(qa_stuff.run(query))"
   ]
  },
  {
   "cell_type": "code",
   "execution_count": 42,
   "metadata": {},
   "outputs": [
    {
     "name": "stdout",
     "output_type": "stream",
     "text": [
      "\n",
      "\n",
      "\u001b[1m> Entering new RetrievalQA chain...\u001b[0m\n",
      "\n",
      "\n",
      "\u001b[1m> Entering new StuffDocumentsChain chain...\u001b[0m\n",
      "\n",
      "\n",
      "\u001b[1m> Entering new LLMChain chain...\u001b[0m\n",
      "Prompt after formatting:\n",
      "\u001b[32;1m\u001b[1;3m\n",
      "Use the following context (delimited by <ctx></ctx>) and the chat history (delimited by <hs></hs>) to answer the user's question. \n",
      "All bible texts are to referenced with King James Version. You can give info on bible texts.\n",
      "If you don't know the answer, just say that you don't know, don't try to make up an answer.\n",
      "------\n",
      "<ctx>\n",
      "Bible Text: [GEN:1:1-25].\n",
      "\n",
      "Lesson 1 - Senior\n",
      "\n",
      "Memory Verse: [GEN:1:1-25].\n",
      "\n",
      "1. Who wrote the Book of Genesis?\n",
      "\n",
      "2. What other Books of the Bible did he write?\n",
      "\n",
      "3. What is the meaning of the name Genesis?\n",
      "\n",
      "3. What is the meaning of the name Genesis?\n",
      "\n",
      "4. What is the opening account of this Book?\n",
      "\n",
      "5. How many days did God devote to the work of creation?\n",
      "\n",
      "The first verse of the inspired Word declares, \"In the beginning God created the heaven and the earth.\" These words thus pronounce God the Creator of the universe; and for him who believes the Bible this statement settles the issue -- God is the Creator of the universe and all that is in it.\n",
      "</ctx>\n",
      "------\n",
      "<hs>\n",
      "Human: The verses about the creation you gave out, can you give me what they are in KJV.\n",
      "AI: Sure! Here are the verses in King James Version:\n",
      "\n",
      "Psalm 19:1-3 - \"The heavens declare the glory of God; and the firmament sheweth his handywork. Day unto day uttereth speech, and night unto night sheweth knowledge. There is no speech nor language, where their voice is not heard.\"\n",
      "\n",
      "2 Peter 3:5 - \"For this they willingly are ignorant of, that by the word of God the heavens were of old, and the earth standing out of the water and in the water.\"\n",
      "\n",
      "Genesis 1:1-31 - This chapter provides a detailed account of the creation story, including the creation of the earth, light, firmament, plants, animals, and humans.\n",
      "Human: Can you tell me what is in Genesis 1:1-31 according to KJV. Write it out in verses.\n",
      "AI: Sure! Here are the verses in King James Version for Genesis 1:1-31:\n",
      "\n",
      "1 In the beginning God created the heaven and the earth.\n",
      "2 And the earth was without form, and void; and darkness was upon the face of the deep. And the Spirit of God moved upon the face of the waters.\n",
      "3 And God said, Let there be light: and there was light.\n",
      "4 And God saw the light, that it was good: and God divided the light from the darkness.\n",
      "5 And God called the light Day, and the darkness he called Night. And the evening and the morning were the first day.\n",
      "6 And God said, Let there be a firmament in the midst of the waters, and let it divide the waters from the waters.\n",
      "7 And God made the firmament, and divided the waters which were under the firmament from the waters which were above the firmament: and it was so.\n",
      "8 And God called the firmament Heaven. And the evening and the morning were the second day.\n",
      "9 And God said, Let the waters under the heaven be gathered together unto one place, and let the dry land appear: and it was so.\n",
      "10 And God called the dry land Earth; and the gathering together of the waters called he Seas: and God saw that it was good.\n",
      "11 And God said, Let the earth bring forth grass, the herb yielding seed, and the fruit tree yielding fruit after his kind, whose seed is in itself, upon the earth: and it was so.\n",
      "12 And the earth brought forth grass, and herb yielding seed after his kind, and the tree yielding fruit, whose seed was in itself, after his kind: and God saw that it was good.\n",
      "13 And the evening and the morning were the third day.\n",
      "14 And God said, Let there be lights in the firmament of the heaven to divide the day from the night; and let them be for signs, and for seasons, and for days, and years:\n",
      "15 And let them be for lights in the firmament of the heaven to give light upon the earth: and it was so.\n",
      "16 And God made two great lights; the greater light to rule the day, and the lesser light to rule the night: he made the stars also.\n",
      "17 And God set them in the firmament of the heaven to give light upon the earth,\n",
      "18 And to rule over the day and over the night, and to divide the light from the darkness: and God saw that it was good.\n",
      "19 And the evening and the morning were the fourth day.\n",
      "20 And God said, Let the waters bring forth abundantly the moving creature that hath life, and fowl that may fly above the earth in the open firmament of heaven.\n",
      "21 And God created great whales, and every living creature that moveth, which the waters brought forth abundantly, after their kind, and every winged fowl after his kind: and God saw that it was good.\n",
      "22 And God blessed them, saying, Be fruitful, and multiply, and fill the waters in the seas, and let fowl multiply in the earth.\n",
      "23 And the evening and the morning were the fifth day.\n",
      "24 And God said, Let the earth bring forth the living creature after his kind, cattle, and creeping thing, and beast of the earth after his kind: and it was so.\n",
      "25 And God made the beast of the earth after his kind, and cattle after their kind, and every thing that creepeth upon the earth after his kind: and God saw that it was good.\n",
      "26 And God said, Let us make man in our image, after our likeness: and let them have dominion over the fish of the sea, and over the fowl of the air, and over the cattle, and over all the earth, and over every creeping thing that creepeth upon the earth.\n",
      "27 So God created man in his own image, in the image of God created he him; male and female created he them.\n",
      "28 And God blessed them, and God said unto them, Be fruitful, and multiply, and replenish the earth, and subdue it: and have dominion over the fish of the sea, and over the fowl of the air, and over every living thing that moveth upon the earth.\n",
      "29 And God said, Behold, I have given you every herb bearing seed, which is upon the face of all the earth, and every tree, in the which is the fruit of a tree yielding seed; to you it shall be for meat.\n",
      "30 And to every beast of the earth, and to every fowl of the air, and to every thing that creepeth upon the earth, wherein there is life, I have given every green herb for meat: and it was so.\n",
      "31 And God saw every thing that he had made, and, behold, it was very good. And the evening and the morning were the sixth day.\n",
      "</hs>\n",
      "------\n",
      "Can you tell me what is in Genesis 1:1-31 according to KJV. Write it out in verses.\n",
      "Answer:\n",
      "\u001b[0m\n",
      "\n",
      "\u001b[1m> Finished chain.\u001b[0m\n",
      "\n",
      "\u001b[1m> Finished chain.\u001b[0m\n",
      "\n",
      "\u001b[1m> Finished chain.\u001b[0m\n",
      "Sure! Here are the verses in King James Version for Genesis 1:1-31:\n",
      "\n",
      "1 In the beginning God created the heaven and the earth.\n",
      "2 And the earth was without form, and void; and darkness was upon the face of the deep. And the Spirit of God moved upon the face of the waters.\n",
      "3 And God said, Let there be light: and there was light.\n",
      "4 And God saw the light, that it was good: and God divided the light from the darkness.\n",
      "5 And God called the light Day, and the darkness he called Night. And the evening and the morning were the first day.\n",
      "6 And God said, Let there be a firmament in the midst of the waters, and let it divide the waters from the waters.\n",
      "7 And God made the firmament, and divided the waters which were under the firmament from the waters which were above the firmament: and it was so.\n",
      "8 And God called the firmament Heaven. And the evening and the morning were the second day.\n",
      "9 And God said, Let the waters under the heaven be gathered together unto one place, and let the dry land appear: and it was so.\n",
      "10 And God called the dry land Earth; and the gathering together of the waters called he Seas: and God saw that it was good.\n",
      "11 And God said, Let the earth bring forth grass, the herb yielding seed, and the fruit tree yielding fruit after his kind, whose seed is in itself, upon the earth: and it was so.\n",
      "12 And the earth brought forth grass, and herb yielding seed after his kind, and the tree yielding fruit, whose seed was in itself, after his kind: and God saw that it was good.\n",
      "13 And the evening and the morning were the third day.\n",
      "14 And God said, Let there be lights in the firmament of the heaven to divide the day from the night; and let them be for signs, and for seasons, and for days, and years:\n",
      "15 And let them be for lights in the firmament of the heaven to give light upon the earth: and it was so.\n",
      "16 And God made two great lights; the greater light to rule the day, and the lesser light to rule the night: he made the stars also.\n",
      "17 And God set them in the firmament of the heaven to give light upon the earth,\n",
      "18 And to rule over the day and over the night, and to divide the light from the darkness: and God saw that it was good.\n",
      "19 And the evening and the morning were the fourth day.\n",
      "20 And God said, Let the waters bring forth abundantly the moving creature that hath life, and fowl that may fly above the earth in the open firmament of heaven.\n",
      "21 And God created great whales, and every living creature that moveth, which the waters brought forth abundantly, after their kind, and every winged fowl after his kind: and God saw that it was good.\n",
      "22 And God blessed them, saying, Be fruitful, and multiply, and fill the waters in the seas, and let fowl multiply in the earth.\n",
      "23 And the evening and the morning were the fifth day.\n",
      "24 And God said, Let the earth bring forth the living creature after his kind, cattle, and creeping thing, and beast of the earth after his kind: and it was so.\n",
      "25 And God made the beast of the earth after his kind, and cattle after their kind, and every thing that creepeth upon the earth after his kind: and God saw that it was good.\n",
      "26 And God said, Let us make man in our image, after our likeness: and let them have dominion over the fish of the sea, and over the fowl of the air, and over the cattle, and over all the earth, and over every creeping thing that creepeth upon the earth.\n",
      "27 So God created man in his own image, in the image of God created he him; male and female created he them.\n",
      "28 And God blessed them, and God said unto them, Be fruitful, and multiply, and replenish the earth, and subdue it: and have dominion over the fish of the sea, and over the fowl of the air, and over every living thing that moveth upon the earth.\n",
      "29 And God said, Behold, I have given you every herb bearing seed, which is upon the face of all the earth, and every tree, in the which is the fruit of a tree yielding seed; to you it shall be for meat.\n",
      "30 And to every beast of the earth, and to every fowl of the air, and to every thing that creepeth upon the earth, wherein there is life, I have given every green herb for meat: and it was so.\n",
      "31 And God saw every thing that he had made, and, behold, it was very good. And the evening and the morning were the sixth day.\n"
     ]
    }
   ],
   "source": [
    "query = \"Can you tell me what is in Genesis 1:1-31 according to KJV. Write it out in verses.\"\n",
    "# response = qa_stuff.run(query)\n",
    "print(qa_stuff.run(query))"
   ]
  },
  {
   "cell_type": "code",
   "execution_count": null,
   "metadata": {},
   "outputs": [
    {
     "data": {
      "text/plain": [
       "ConversationBufferMemory(chat_memory=InMemoryChatMessageHistory(messages=[HumanMessage(content='Can you give me bible verses that talk in detail about the creation?'), AIMessage(content='Yes, Psalm 19:1-3 and Genesis 1:1-31 are two examples of Bible verses that talk about the creation in detail. However, if you\\'re looking for a more comprehensive list, I suggest doing a search for \"Bible verses about creation\" online or in a Bible concordance.')]), input_key='question')"
      ]
     },
     "execution_count": 59,
     "metadata": {},
     "output_type": "execute_result"
    }
   ],
   "source": [
    "qa_stuff.combine_documents_chain.memory"
   ]
  },
  {
   "cell_type": "code",
   "execution_count": null,
   "metadata": {},
   "outputs": [],
   "source": []
  }
 ],
 "metadata": {
  "kernelspec": {
   "display_name": "Gospel-Companion",
   "language": "python",
   "name": "python3"
  },
  "language_info": {
   "codemirror_mode": {
    "name": "ipython",
    "version": 3
   },
   "file_extension": ".py",
   "mimetype": "text/x-python",
   "name": "python",
   "nbconvert_exporter": "python",
   "pygments_lexer": "ipython3",
   "version": "3.11.5"
  },
  "orig_nbformat": 4
 },
 "nbformat": 4,
 "nbformat_minor": 2
}
