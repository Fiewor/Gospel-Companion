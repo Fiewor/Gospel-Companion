{
 "cells": [
  {
   "cell_type": "code",
   "execution_count": 1,
   "metadata": {},
   "outputs": [],
   "source": [
    "import os\n",
    "\n",
    "from langchain.chains import RetrievalQA\n",
    "from langchain.chat_models import ChatOpenAI\n",
    "from langchain.chains import LLMChain\n",
    "from langchain.llms import OpenAI"
   ]
  },
  {
   "cell_type": "code",
   "execution_count": 2,
   "metadata": {},
   "outputs": [],
   "source": [
    "import langchain\n",
    "langchain.verbose = True"
   ]
  },
  {
   "cell_type": "code",
   "execution_count": 3,
   "metadata": {},
   "outputs": [],
   "source": [
    "# Add OpenAI library\n",
    "import openai"
   ]
  },
  {
   "cell_type": "code",
   "execution_count": 4,
   "metadata": {},
   "outputs": [
    {
     "data": {
      "text/plain": [
       "True"
      ]
     },
     "execution_count": 4,
     "metadata": {},
     "output_type": "execute_result"
    }
   ],
   "source": [
    "# Get Configuration Settings\n",
    "from dotenv import load_dotenv\n",
    "load_dotenv()"
   ]
  },
  {
   "cell_type": "code",
   "execution_count": 5,
   "metadata": {},
   "outputs": [],
   "source": [
    "# Configure OpenAI API using Azure OpenAI\n",
    "openai.api_key = os.getenv(\"API_KEY\")\n",
    "openai.api_base = os.getenv(\"ENDPOINT\")\n",
    "openai.api_type = \"azure\"  # Necessary for using the OpenAI library with Azure OpenAI\n",
    "openai.api_version = \"2024-02-01\"  # Latest / target version of the API"
   ]
  },
  {
   "cell_type": "markdown",
   "metadata": {},
   "source": [
    "## Initial tests without a Cloud Vector Store"
   ]
  },
  {
   "cell_type": "code",
   "execution_count": 6,
   "metadata": {},
   "outputs": [],
   "source": [
    "from langchain.vectorstores import DocArrayInMemorySearch\n",
    "from langchain.embeddings import OpenAIEmbeddings\n",
    "from langchain.text_splitter import RecursiveCharacterTextSplitter, CharacterTextSplitter\n",
    "from langchain.document_loaders import TextLoader"
   ]
  },
  {
   "cell_type": "code",
   "execution_count": 7,
   "metadata": {},
   "outputs": [],
   "source": [
    "SOURCE_FILE_NAME = \"/Users/mac/Documents/Gospel-Companion/data/Senior/Lesson1_Senior.txt\""
   ]
  },
  {
   "cell_type": "code",
   "execution_count": 8,
   "metadata": {},
   "outputs": [
    {
     "name": "stderr",
     "output_type": "stream",
     "text": [
      "Created a chunk of size 180, which is longer than the specified 150\n",
      "Created a chunk of size 292, which is longer than the specified 150\n",
      "Created a chunk of size 690, which is longer than the specified 150\n",
      "Created a chunk of size 534, which is longer than the specified 150\n",
      "Created a chunk of size 747, which is longer than the specified 150\n",
      "Created a chunk of size 782, which is longer than the specified 150\n",
      "Created a chunk of size 645, which is longer than the specified 150\n",
      "Created a chunk of size 643, which is longer than the specified 150\n",
      "Created a chunk of size 644, which is longer than the specified 150\n",
      "Created a chunk of size 726, which is longer than the specified 150\n",
      "Created a chunk of size 261, which is longer than the specified 150\n",
      "Created a chunk of size 309, which is longer than the specified 150\n",
      "Created a chunk of size 1478, which is longer than the specified 150\n",
      "Created a chunk of size 302, which is longer than the specified 150\n",
      "Created a chunk of size 447, which is longer than the specified 150\n"
     ]
    }
   ],
   "source": [
    "loader = TextLoader(SOURCE_FILE_NAME)\n",
    "documents = loader.load()\n",
    "text_splitter = CharacterTextSplitter(chunk_size=150, chunk_overlap=50)\n",
    "docs = text_splitter.split_documents(documents)"
   ]
  },
  {
   "cell_type": "code",
   "execution_count": 9,
   "metadata": {},
   "outputs": [
    {
     "data": {
      "text/plain": [
       "[Document(page_content='Bible Text: [GEN:1:1-25].\\n\\nLesson 1 - Senior\\n\\nMemory Verse: [GEN:1:1-25].', metadata={'source': '/Users/mac/Documents/Gospel-Companion/data/Senior/Lesson1_Senior.txt'}),\n",
       " Document(page_content='Cross References\"Through faith we understand that the worlds were framed by the word of God, so that things which are seen were not made of things which do appear\" \\xa0(Hebrews 11:3).', metadata={'source': '/Users/mac/Documents/Gospel-Companion/data/Senior/Lesson1_Senior.txt'}),\n",
       " Document(page_content='I The Work of Creation on the First and Second Days\\n\\n1. God is the Creator of Heaven and earth (the universe), [GEN:1:1].', metadata={'source': '/Users/mac/Documents/Gospel-Companion/data/Senior/Lesson1_Senior.txt'}),\n",
       " Document(page_content='2. In the first creative act the earth was without form, without light, and void -- all a shapeless mass, [GEN:1:2].', metadata={'source': '/Users/mac/Documents/Gospel-Companion/data/Senior/Lesson1_Senior.txt'}),\n",
       " Document(page_content='3. \"God said, Let there be light: and there was light\"; and night and day were ordained, [GEN:1:3-5].', metadata={'source': '/Users/mac/Documents/Gospel-Companion/data/Senior/Lesson1_Senior.txt'}),\n",
       " Document(page_content='4. The third creative act was the making of the firmament (an expanse above the earth) to divide the waters, [GEN:1:6].', metadata={'source': '/Users/mac/Documents/Gospel-Companion/data/Senior/Lesson1_Senior.txt'}),\n",
       " Document(page_content='5. The waters below were divided from the waters above, [GEN:1:7].\\n\\n6. The firmament God called Heaven, [GEN:1:8].', metadata={'source': '/Users/mac/Documents/Gospel-Companion/data/Senior/Lesson1_Senior.txt'}),\n",
       " Document(page_content='6. The firmament God called Heaven, [GEN:1:8].\\n\\nII The Work of Creation on the Third and Fourth Days', metadata={'source': '/Users/mac/Documents/Gospel-Companion/data/Senior/Lesson1_Senior.txt'}),\n",
       " Document(page_content='1. The waters below were gathered into one place, and the dry land appeared, [GEN:1:9].', metadata={'source': '/Users/mac/Documents/Gospel-Companion/data/Senior/Lesson1_Senior.txt'}),\n",
       " Document(page_content='2. The land God called Earth, and the gathering together of the waters, Seas, [GEN:1:10].', metadata={'source': '/Users/mac/Documents/Gospel-Companion/data/Senior/Lesson1_Senior.txt'}),\n",
       " Document(page_content='3. Grass and fruits were brought forth on the earth, [GEN:1:11-13].\\n\\n4. God placed lights in the firmament, [GEN:1:14].', metadata={'source': '/Users/mac/Documents/Gospel-Companion/data/Senior/Lesson1_Senior.txt'}),\n",
       " Document(page_content='5. God ordained the greater light to rule the day, and the lesser light to rule the night; He made the stars also, [GEN:1:15-19].', metadata={'source': '/Users/mac/Documents/Gospel-Companion/data/Senior/Lesson1_Senior.txt'}),\n",
       " Document(page_content='III The Work of Creation on the Fifth and Sixth Days', metadata={'source': '/Users/mac/Documents/Gospel-Companion/data/Senior/Lesson1_Senior.txt'}),\n",
       " Document(page_content='1. God created moving creatures to inhabit the waters, and fowls to inhabit the firmament, [GEN:1:20].', metadata={'source': '/Users/mac/Documents/Gospel-Companion/data/Senior/Lesson1_Senior.txt'}),\n",
       " Document(page_content='2. God made every living creature and every winged fowl after its kind, [GEN:1:21-23].', metadata={'source': '/Users/mac/Documents/Gospel-Companion/data/Senior/Lesson1_Senior.txt'}),\n",
       " Document(page_content='3. Every beast, all cattle and creeping things, each after its kind, were brought forth on the earth, [GEN:1:24-25].', metadata={'source': '/Users/mac/Documents/Gospel-Companion/data/Senior/Lesson1_Senior.txt'}),\n",
       " Document(page_content='The first verse of the inspired Word declares, \"In the beginning God created the heaven and the earth.\" These words thus pronounce God the Creator of the universe; and for him who believes the Bible this statement settles the issue -- God is the Creator of the universe and all that is in it.', metadata={'source': '/Users/mac/Documents/Gospel-Companion/data/Senior/Lesson1_Senior.txt'}),\n",
       " Document(page_content='While no declaration that God makes needs to be substantiated by evidence or argument, yet other portions of His wonderful Book, touching upon the subject of creation, serve greatly to strengthen one\\'s faith in what here is declared -- as, for example, the words of the Psalmist: \"The heavens declare the glory of God; and the firmament sheweth his handiwork. Day unto day uttereth speech, and night unto night sheweth knowledge. There is no speech nor language, where their voice is not heard\" [PS:19:1-3]). The heavens, and the earth too, are declaring to man by innumerable evidences -- by the stars, by the seas, by the mountains, by the trees -- that God is the Creator of all that is.', metadata={'source': '/Users/mac/Documents/Gospel-Companion/data/Senior/Lesson1_Senior.txt'}),\n",
       " Document(page_content='Spirit Inspired', metadata={'source': '/Users/mac/Documents/Gospel-Companion/data/Senior/Lesson1_Senior.txt'}),\n",
       " Document(page_content='There is general agreement among students of the Bible that Moses was the man whom God used to write the Pentateuch, or the first five books of the Bible. One might wonder how it could be possible for Moses to set forth this wonderful account of the creation of all things. Moses lived well over 2,000 years after the creation; yet the Genesis account is written with absolute detail and beautiful description, imparting to an idolatrous world with their thousands of false deities the revolutionizing revelation of only one true God.', metadata={'source': '/Users/mac/Documents/Gospel-Companion/data/Senior/Lesson1_Senior.txt'}),\n",
       " Document(page_content='There are three ways that this information could have reached Moses: namely, writing, word of mouth, and Divine revelation.', metadata={'source': '/Users/mac/Documents/Gospel-Companion/data/Senior/Lesson1_Senior.txt'}),\n",
       " Document(page_content=\"No doubt Moses received a portion of fact and history by word of mouth. This is especially understandable when one considers that, two men bridged the span of 1656 years from Adam to the Flood. God related the story of creation to Adam, in the first place, and Methuselah could easily have been the man who retold the story to Noah. Adam lived 930 years and Methuselah lived 969 years; thus Noah was 600 years of age when Methuselah died. It is possible that Shem brought the history from Noah to Abraham; Isaac then lived to see Joseph; and Amram, the father of Moses, could have brought the sacred message from Joseph to Moses. Thus, nine persons' lives spanned the long period of time between the creation and the writing of the sacred account.\", metadata={'source': '/Users/mac/Documents/Gospel-Companion/data/Senior/Lesson1_Senior.txt'}),\n",
       " Document(page_content='One historian, speaking on these matters, wrote: \"Supposing, then, all the curious facts recorded in the book of Genesis had no other authority than tradition, . . . they would stand upon a foundation of credibility superior to any that the most reputable of the ancient Greek and Latin historians can boast. Yet to preclude all possibility of mistake, the unerring Spirit of God directed Moses in the selection of his facts and the ascertaining of his dates. Indeed, the narrative is so simple, so much like truth, so consistent everywhere with itself, so correct in its dates, so impartial in its biography, so accurate in its philosophical details, so pure in its morality, and so benevolent in its design, as amply to demonstrate that it never could have had an earthly origin.\"', metadata={'source': '/Users/mac/Documents/Gospel-Companion/data/Senior/Lesson1_Senior.txt'}),\n",
       " Document(page_content='Not a Textbook on Science', metadata={'source': '/Users/mac/Documents/Gospel-Companion/data/Senior/Lesson1_Senior.txt'}),\n",
       " Document(page_content='The Bible is not written in the language of the modern scientist, and for that reason some people are led to believe that the Bible is not scientifically accurate; however, the Bible does contain scientific truth, and Scripture and true science are in agreement. Science is largely a method of ascertaining truth through the means of trial and error: each generation revises many of the theories and accepted facts of the previous generation; so it seems unreasonable to dispute the authority of the unchanging Word of God and the revelation of the all-wise Creator on the basis of the changing theories of men, however wise in their generation.', metadata={'source': '/Users/mac/Documents/Gospel-Companion/data/Senior/Lesson1_Senior.txt'}),\n",
       " Document(page_content='The opinions of scientists change so rapidly that it is reported that the library of the Louvre, in Paris, contains three and one half miles of bookshelves, holding volumes of science that have become obsolete in fifty years. In 1861 the French Academy of Science put out a list of 51 recognised scientific facts, all of which contradicted some statement of Scripture. In the years that have come and gone, not one word of the Bible has been changed; yet the knowledge of science has so vastly increased that not one of those 51 so called facts are recognised today that were at that time advanced in challenge to the inspiration of Scripture.', metadata={'source': '/Users/mac/Documents/Gospel-Companion/data/Senior/Lesson1_Senior.txt'}),\n",
       " Document(page_content='Science has made some remarkable discoveries, but science still falls short of a satisfactory explanation of the creation, outside of God. The scientist sees the handiwork of God, but too often he overlooks or denies God as the Creator. No, the universe with all its intricate designs and precision did not evolve out of some nebulous mass, any more than a fine watch could evolve itself out of the dust of the earth. \"By the word of God the heavens were of old, and the earth standing out of the water and in the water\" [2PE:3:5]). Happy is the man who has faith in God, for in Him are the answers to questions that otherwise are unanswerable.', metadata={'source': '/Users/mac/Documents/Gospel-Companion/data/Senior/Lesson1_Senior.txt'}),\n",
       " Document(page_content='The Holy Trinity in Creation', metadata={'source': '/Users/mac/Documents/Gospel-Companion/data/Senior/Lesson1_Senior.txt'}),\n",
       " Document(page_content='The Hebrew word translated God is in the plural Elohim; a form, with few exceptions, used throughout the Old Testament. This use of the plural is believed by many devout students of the Bible to express a plurality in the Godhead, confirming the teaching in the Bible of three Persons. Thus from the beginning the plurality of the Godhead is implied. The three Persons of the Holy Trinity are expressly named in the Scriptures as having part in the work of creation. Of the Father it is said: \"But now, O LORD, thou art our father; we are the clay, and thou our potter; and we all are the work of thy hand\" [ISA:64:8]); and again, \"But to us there is but one God, the Father, of whom are all things, and we in him\" [1CO:8:6]).', metadata={'source': '/Users/mac/Documents/Gospel-Companion/data/Senior/Lesson1_Senior.txt'}),\n",
       " Document(page_content='Of the Son it is written: \"All things were made by him; and without him was not any thing made that was made\" [JHN:1:3]); and in another passage: \"For by him were all things created, that are in heaven, and that are in earth, visible and invisible\" [COL:1:16]).', metadata={'source': '/Users/mac/Documents/Gospel-Companion/data/Senior/Lesson1_Senior.txt'}),\n",
       " Document(page_content='Concerning the Holy Spirit we read in the text, \"And the Spirit of God moved upon the face of the waters\" [GEN:1:2]); and again it is written: \"By his spirit he hath garnished the heavens; his hand hath formed the crooked serpent\" [JOB:26:13]). The worlds were thus created by the Father, Son, and Holy Ghost.', metadata={'source': '/Users/mac/Documents/Gospel-Companion/data/Senior/Lesson1_Senior.txt'}),\n",
       " Document(page_content='Steps of Creation', metadata={'source': '/Users/mac/Documents/Gospel-Companion/data/Senior/Lesson1_Senior.txt'}),\n",
       " Document(page_content='The steps of creation day by day are most wonderful. God\\'s great purpose was to provide this world for man. In order that man should be sustained here in life, it was necessary that the earth be prepared for the creating of life. The successive creative acts reveal great wisdom and order. God first brought into being the earth, which was without form and void, and darkness was upon the face of the deep. His next act was to command light; for light and the heat, which attends it are essential to human life. He then created the firmament -- the expanse above the earth, modifying the temperature and separating the vaporous waters above (the clouds) from the condensed waters below (the seas). Thus the seas, the atmosphere, and the clouds made perfect provision for life upon the land. Grass, fruits, and herbs were then the next creative act, each with seed after its kind. The geographers tell us that the surface of the earth consists of two thirds water and one third land. At the regular rate of evaporation of the seas, which has been carefully measured, it is found that this proportion is a perfect balance essential to provide moisture for life upon the land. Such is the wisdom of our God. He added to this the sun to rule by day, and the moon to rule by night, besides the planets of our solar system, and the innumerable stars, which sparkle like diamonds in the heavens. \"Through faith we understand that the worlds were framed by the word of God\" [HEB:11:3]).', metadata={'source': '/Users/mac/Documents/Gospel-Companion/data/Senior/Lesson1_Senior.txt'}),\n",
       " Document(page_content='The next step in order was animal life; for the grass, fruits, and herbs provided the food. Moving creatures therefore filled the waters; winged fowl took to the air; and the beasts, cattle, and creeping things populated the lands. God had left no steps untaken to prepare perfectly this earth for man.', metadata={'source': '/Users/mac/Documents/Gospel-Companion/data/Senior/Lesson1_Senior.txt'}),\n",
       " Document(page_content='The aquariums, the aviaries, and zoological gardens which man has provided tell us something of the endless wonders of God\\'s handiwork. Not only has He made abundant provision for food, raiment, and shelter, but He has added to this the beauty of His handiwork to delight the eye of man -- the flowers, the trees, the rocks, the rivers, the majestic mountains, and many other things. \"Let every thing that hath breath praise the LORD\" [PS:150:6]).', metadata={'source': '/Users/mac/Documents/Gospel-Companion/data/Senior/Lesson1_Senior.txt'}),\n",
       " Document(page_content='1. Who wrote the Book of Genesis?\\n\\n2. What other Books of the Bible did he write?\\n\\n3. What is the meaning of the name Genesis?', metadata={'source': '/Users/mac/Documents/Gospel-Companion/data/Senior/Lesson1_Senior.txt'}),\n",
       " Document(page_content='3. What is the meaning of the name Genesis?\\n\\n4. What is the opening account of this Book?\\n\\n5. How many days did God devote to the work of creation?', metadata={'source': '/Users/mac/Documents/Gospel-Companion/data/Senior/Lesson1_Senior.txt'}),\n",
       " Document(page_content=\"6. Name what He created each successive day.\\n\\n7. What was God's comment as He surveyed His completed work?\", metadata={'source': '/Users/mac/Documents/Gospel-Companion/data/Senior/Lesson1_Senior.txt'}),\n",
       " Document(page_content='8. What school of so-called scientists denies in these days the Biblical account of the creation?', metadata={'source': '/Users/mac/Documents/Gospel-Companion/data/Senior/Lesson1_Senior.txt'})]"
      ]
     },
     "execution_count": 9,
     "metadata": {},
     "output_type": "execute_result"
    }
   ],
   "source": [
    "docs"
   ]
  },
  {
   "cell_type": "code",
   "execution_count": 10,
   "metadata": {},
   "outputs": [],
   "source": [
    "# OpenAI Settings\n",
    "model_deployment = \"text-embedding-ada-002\"\n",
    "# SDK calls this \"engine\", but naming it \"deployment_name\" for clarity\n",
    "\n",
    "model_name = \"text-embedding-ada-002\""
   ]
  },
  {
   "cell_type": "code",
   "execution_count": 11,
   "metadata": {},
   "outputs": [
    {
     "name": "stderr",
     "output_type": "stream",
     "text": [
      "/Users/mac/Documents/Gospel-Companion/lib/python3.11/site-packages/langchain_core/_api/deprecation.py:139: LangChainDeprecationWarning: The class `OpenAIEmbeddings` was deprecated in LangChain 0.0.9 and will be removed in 0.3.0. An updated version of the class exists in the langchain-openai package and should be used instead. To use it run `pip install -U langchain-openai` and import as `from langchain_openai import OpenAIEmbeddings`.\n",
      "  warn_deprecated(\n"
     ]
    }
   ],
   "source": [
    "openai_embeddings: OpenAIEmbeddings = OpenAIEmbeddings(\n",
    "    openai_api_version = \"2024-02-01\", openai_api_key = os.getenv(\"API_KEY\"),\n",
    "    openai_api_base = os.getenv(\"ENDPOINT\"), openai_api_type = \"azure\"\n",
    ")"
   ]
  },
  {
   "cell_type": "code",
   "execution_count": 12,
   "metadata": {},
   "outputs": [
    {
     "name": "stderr",
     "output_type": "stream",
     "text": [
      "/Users/mac/Documents/Gospel-Companion/lib/python3.11/site-packages/pydantic/_migration.py:283: UserWarning: `pydantic.error_wrappers:ValidationError` has been moved to `pydantic:ValidationError`.\n",
      "  warnings.warn(f'`{import_path}` has been moved to `{new_location}`.')\n"
     ]
    }
   ],
   "source": [
    "db = DocArrayInMemorySearch.from_documents(\n",
    "    docs, \n",
    "    openai_embeddings\n",
    ")"
   ]
  },
  {
   "cell_type": "code",
   "execution_count": 13,
   "metadata": {},
   "outputs": [],
   "source": [
    "query = \"What are the steps to creation?\"\n",
    "docs = db.similarity_search(query)"
   ]
  },
  {
   "cell_type": "code",
   "execution_count": 14,
   "metadata": {},
   "outputs": [
    {
     "data": {
      "text/plain": [
       "[Document(page_content='Steps of Creation', metadata={'source': '/Users/mac/Documents/Gospel-Companion/data/Senior/Lesson1_Senior.txt'}),\n",
       " Document(page_content='The steps of creation day by day are most wonderful. God\\'s great purpose was to provide this world for man. In order that man should be sustained here in life, it was necessary that the earth be prepared for the creating of life. The successive creative acts reveal great wisdom and order. God first brought into being the earth, which was without form and void, and darkness was upon the face of the deep. His next act was to command light; for light and the heat, which attends it are essential to human life. He then created the firmament -- the expanse above the earth, modifying the temperature and separating the vaporous waters above (the clouds) from the condensed waters below (the seas). Thus the seas, the atmosphere, and the clouds made perfect provision for life upon the land. Grass, fruits, and herbs were then the next creative act, each with seed after its kind. The geographers tell us that the surface of the earth consists of two thirds water and one third land. At the regular rate of evaporation of the seas, which has been carefully measured, it is found that this proportion is a perfect balance essential to provide moisture for life upon the land. Such is the wisdom of our God. He added to this the sun to rule by day, and the moon to rule by night, besides the planets of our solar system, and the innumerable stars, which sparkle like diamonds in the heavens. \"Through faith we understand that the worlds were framed by the word of God\" [HEB:11:3]).', metadata={'source': '/Users/mac/Documents/Gospel-Companion/data/Senior/Lesson1_Senior.txt'}),\n",
       " Document(page_content='The Holy Trinity in Creation', metadata={'source': '/Users/mac/Documents/Gospel-Companion/data/Senior/Lesson1_Senior.txt'}),\n",
       " Document(page_content='The next step in order was animal life; for the grass, fruits, and herbs provided the food. Moving creatures therefore filled the waters; winged fowl took to the air; and the beasts, cattle, and creeping things populated the lands. God had left no steps untaken to prepare perfectly this earth for man.', metadata={'source': '/Users/mac/Documents/Gospel-Companion/data/Senior/Lesson1_Senior.txt'})]"
      ]
     },
     "execution_count": 14,
     "metadata": {},
     "output_type": "execute_result"
    }
   ],
   "source": [
    "docs"
   ]
  },
  {
   "cell_type": "code",
   "execution_count": 15,
   "metadata": {},
   "outputs": [],
   "source": [
    "retriever = db.as_retriever()"
   ]
  },
  {
   "cell_type": "code",
   "execution_count": 16,
   "metadata": {},
   "outputs": [
    {
     "name": "stderr",
     "output_type": "stream",
     "text": [
      "/Users/mac/Documents/Gospel-Companion/lib/python3.11/site-packages/langchain_core/_api/deprecation.py:139: LangChainDeprecationWarning: The class `ChatOpenAI` was deprecated in LangChain 0.0.10 and will be removed in 0.3.0. An updated version of the class exists in the langchain-openai package and should be used instead. To use it run `pip install -U langchain-openai` and import as `from langchain_openai import ChatOpenAI`.\n",
      "  warn_deprecated(\n",
      "WARNING! engine is not default parameter.\n",
      "                    engine was transferred to model_kwargs.\n",
      "                    Please confirm that engine is what you intended.\n"
     ]
    }
   ],
   "source": [
    "llm = ChatOpenAI(temperature = 0.6, openai_api_key = os.getenv(\"API_KEY\"), openai_api_base = os.getenv(\"ENDPOINT\"), model_name=\"gpt-35-turbo\", engine=\"gpt-35-turbo\")"
   ]
  },
  {
   "cell_type": "markdown",
   "metadata": {},
   "source": [
    "## Usnig ConversationBufferMemory"
   ]
  },
  {
   "cell_type": "code",
   "execution_count": 25,
   "metadata": {},
   "outputs": [],
   "source": [
    "from langchain.memory import ConversationBufferMemory, ConversationSummaryBufferMemory, ConversationBufferWindowMemory\n",
    "from langchain import PromptTemplate"
   ]
  },
  {
   "cell_type": "code",
   "execution_count": 26,
   "metadata": {},
   "outputs": [],
   "source": [
    "template = \"\"\"\n",
    "Use the following context (delimited by <ctx></ctx>) and the chat history (delimited by <hs></hs>) to answer the user's question. \n",
    "All bible texts are to referenced with King James Version. You can give info on bible texts.\n",
    "If you don't know the answer, just say that you don't know, don't try to make up an answer.\n",
    "------\n",
    "<ctx>\n",
    "{context}\n",
    "</ctx>\n",
    "------\n",
    "<hs>\n",
    "{history}\n",
    "</hs>\n",
    "------\n",
    "{question}\n",
    "Answer:\n",
    "\"\"\"\n",
    "prompt = PromptTemplate(\n",
    "    input_variables=[\"history\", \"context\", \"question\"],\n",
    "    template=template,\n",
    ")"
   ]
  },
  {
   "cell_type": "code",
   "execution_count": 30,
   "metadata": {},
   "outputs": [],
   "source": [
    "qa_stuff = RetrievalQA.from_chain_type(\n",
    "    llm=llm, \n",
    "    chain_type=\"stuff\", \n",
    "    retriever=retriever, \n",
    "    verbose=True,\n",
    "    chain_type_kwargs={\n",
    "        \"verbose\": True,\n",
    "        \"prompt\": prompt,\n",
    "        \"memory\": ConversationBufferWindowMemory(\n",
    "            k = 2,\n",
    "            memory_key=\"history\",\n",
    "            input_key=\"question\"),\n",
    "            }\n",
    "    )"
   ]
  },
  {
   "cell_type": "code",
   "execution_count": 31,
   "metadata": {},
   "outputs": [
    {
     "data": {
      "text/plain": [
       "[]"
      ]
     },
     "execution_count": 31,
     "metadata": {},
     "output_type": "execute_result"
    }
   ],
   "source": [
    "qa_stuff.get_prompts()"
   ]
  },
  {
   "cell_type": "code",
   "execution_count": 35,
   "metadata": {},
   "outputs": [
    {
     "name": "stdout",
     "output_type": "stream",
     "text": [
      "\n",
      "\n",
      "\u001b[1m> Entering new RetrievalQA chain...\u001b[0m\n",
      "\n",
      "\n",
      "\u001b[1m> Entering new StuffDocumentsChain chain...\u001b[0m\n",
      "\n",
      "\n",
      "\u001b[1m> Entering new LLMChain chain...\u001b[0m\n",
      "Prompt after formatting:\n",
      "\u001b[32;1m\u001b[1;3m\n",
      "Use the following context (delimited by <ctx></ctx>) and the chat history (delimited by <hs></hs>) to answer the user's question. \n",
      "All bible texts are to referenced with King James Version. You can give info on bible texts.\n",
      "If you don't know the answer, just say that you don't know, don't try to make up an answer.\n",
      "------\n",
      "<ctx>\n",
      "Steps of Creation\n",
      "\n",
      "III The Work of Creation on the Fifth and Sixth Days\n",
      "\n",
      "6. Name what He created each successive day.\n",
      "\n",
      "7. What was God's comment as He surveyed His completed work?\n",
      "\n",
      "The steps of creation day by day are most wonderful. God's great purpose was to provide this world for man. In order that man should be sustained here in life, it was necessary that the earth be prepared for the creating of life. The successive creative acts reveal great wisdom and order. God first brought into being the earth, which was without form and void, and darkness was upon the face of the deep. His next act was to command light; for light and the heat, which attends it are essential to human life. He then created the firmament -- the expanse above the earth, modifying the temperature and separating the vaporous waters above (the clouds) from the condensed waters below (the seas). Thus the seas, the atmosphere, and the clouds made perfect provision for life upon the land. Grass, fruits, and herbs were then the next creative act, each with seed after its kind. The geographers tell us that the surface of the earth consists of two thirds water and one third land. At the regular rate of evaporation of the seas, which has been carefully measured, it is found that this proportion is a perfect balance essential to provide moisture for life upon the land. Such is the wisdom of our God. He added to this the sun to rule by day, and the moon to rule by night, besides the planets of our solar system, and the innumerable stars, which sparkle like diamonds in the heavens. \"Through faith we understand that the worlds were framed by the word of God\" [HEB:11:3]).\n",
      "</ctx>\n",
      "------\n",
      "<hs>\n",
      "Human: What are the steps to creation? Answer in bullet form\n",
      "AI: - God created the earth, which was without form and void\n",
      "- God commanded light into existence\n",
      "- God created the firmament, separating the vaporous waters above from the condensed waters below\n",
      "- God created grass, fruits, and herbs with seed after their kind\n",
      "- God created the sun to rule by day and the moon to rule by night, along with the planets and stars\n",
      "- God surveyed His completed work and saw that it was good\n",
      "Human: What are the steps to creation? Answer in bullet form using the days and the creation\n",
      "AI: - Day 1: God created the earth, which was without form and void\n",
      "- Day 2: God commanded light into existence\n",
      "- Day 3: God created the firmament, separating the vaporous waters above from the condensed waters below, and created grass, fruits, and herbs with seed after their kind\n",
      "- Day 4: God created the sun to rule by day and the moon to rule by night, along with the planets and stars\n",
      "- Day 5: God created sea creatures and birds\n",
      "- Day 6: God created land animals and humans\n",
      "- God surveyed His completed work and saw that it was good.\n",
      "</hs>\n",
      "------\n",
      "What are the steps to creation? Answer in bullet form using the days and the creation\n",
      "Answer:\n",
      "\u001b[0m\n",
      "\n",
      "\u001b[1m> Finished chain.\u001b[0m\n",
      "\n",
      "\u001b[1m> Finished chain.\u001b[0m\n",
      "\n",
      "\u001b[1m> Finished chain.\u001b[0m\n",
      "- Day 1: God created the earth, which was without form and void\n",
      "- Day 2: God commanded light into existence\n",
      "- Day 3: God created the firmament, separating the vaporous waters above from the condensed waters below, and created grass, fruits, and herbs with seed after their kind\n",
      "- Day 4: God created the sun to rule by day and the moon to rule by night, along with the planets and stars\n",
      "- Day 5: God created sea creatures and birds\n",
      "- Day 6: God created land animals and humans\n",
      "- God surveyed His completed work and saw that it was good.\n"
     ]
    }
   ],
   "source": [
    "query = \"What are the steps to creation? Answer in bullet form using the days and the creation\"\n",
    "# response = qa_stuff.run(query)\n",
    "print(qa_stuff.run(query))"
   ]
  },
  {
   "cell_type": "code",
   "execution_count": 36,
   "metadata": {},
   "outputs": [],
   "source": [
    "# print(response)"
   ]
  },
  {
   "cell_type": "code",
   "execution_count": null,
   "metadata": {},
   "outputs": [],
   "source": []
  },
  {
   "cell_type": "code",
   "execution_count": 38,
   "metadata": {},
   "outputs": [
    {
     "name": "stdout",
     "output_type": "stream",
     "text": [
      "\n",
      "\n",
      "\u001b[1m> Entering new RetrievalQA chain...\u001b[0m\n",
      "\n",
      "\n",
      "\u001b[1m> Entering new StuffDocumentsChain chain...\u001b[0m\n",
      "\n",
      "\n",
      "\u001b[1m> Entering new LLMChain chain...\u001b[0m\n",
      "Prompt after formatting:\n",
      "\u001b[32;1m\u001b[1;3m\n",
      "Use the following context (delimited by <ctx></ctx>) and the chat history (delimited by <hs></hs>) to answer the user's question. \n",
      "All bible texts are to referenced with King James Version. You can give info on bible texts.\n",
      "If you don't know the answer, just say that you don't know, don't try to make up an answer.\n",
      "------\n",
      "<ctx>\n",
      "While no declaration that God makes needs to be substantiated by evidence or argument, yet other portions of His wonderful Book, touching upon the subject of creation, serve greatly to strengthen one's faith in what here is declared -- as, for example, the words of the Psalmist: \"The heavens declare the glory of God; and the firmament sheweth his handiwork. Day unto day uttereth speech, and night unto night sheweth knowledge. There is no speech nor language, where their voice is not heard\" [PS:19:1-3]). The heavens, and the earth too, are declaring to man by innumerable evidences -- by the stars, by the seas, by the mountains, by the trees -- that God is the Creator of all that is.\n",
      "\n",
      "The first verse of the inspired Word declares, \"In the beginning God created the heaven and the earth.\" These words thus pronounce God the Creator of the universe; and for him who believes the Bible this statement settles the issue -- God is the Creator of the universe and all that is in it.\n",
      "\n",
      "Science has made some remarkable discoveries, but science still falls short of a satisfactory explanation of the creation, outside of God. The scientist sees the handiwork of God, but too often he overlooks or denies God as the Creator. No, the universe with all its intricate designs and precision did not evolve out of some nebulous mass, any more than a fine watch could evolve itself out of the dust of the earth. \"By the word of God the heavens were of old, and the earth standing out of the water and in the water\" [2PE:3:5]). Happy is the man who has faith in God, for in Him are the answers to questions that otherwise are unanswerable.\n",
      "\n",
      "6. Name what He created each successive day.\n",
      "\n",
      "7. What was God's comment as He surveyed His completed work?\n",
      "</ctx>\n",
      "------\n",
      "<hs>\n",
      "Human: What are the steps to creation? Answer in bullet form using the days and the creation\n",
      "AI: - Day 1: God created the earth, which was without form and void\n",
      "- Day 2: God commanded light into existence\n",
      "- Day 3: God created the firmament, separating the vaporous waters above from the condensed waters below, and created grass, fruits, and herbs with seed after their kind\n",
      "- Day 4: God created the sun to rule by day and the moon to rule by night, along with the planets and stars\n",
      "- Day 5: God created sea creatures and birds\n",
      "- Day 6: God created land animals and humans\n",
      "- God surveyed His completed work and saw that it was good.\n",
      "Human: Can you give me bible verses that talk in detail about the creation?\n",
      "AI: Psalm 19:1-3 - \"The heavens declare the glory of God; and the firmament sheweth his handiwork. Day unto day uttereth speech, and night unto night sheweth knowledge. There is no speech nor language, where their voice is not heard.\"\n",
      "\n",
      "2 Peter 3:5 - \"For this they willingly are ignorant of, that by the word of God the heavens were of old, and the earth standing out of the water and in the water.\"\n",
      "\n",
      "Genesis 1:1-31 - This chapter provides a detailed account of the creation story, including the creation of the earth, light, firmament, plants, animals, and humans.\n",
      "</hs>\n",
      "------\n",
      "Can you give me bible verses that talk in detail about the creation?\n",
      "Answer:\n",
      "\u001b[0m\n",
      "\n",
      "\u001b[1m> Finished chain.\u001b[0m\n",
      "\n",
      "\u001b[1m> Finished chain.\u001b[0m\n",
      "\n",
      "\u001b[1m> Finished chain.\u001b[0m\n",
      "Psalm 19:1-3, 2 Peter 3:5, and Genesis 1:1-31 all provide details about the creation story in the Bible. Psalm 19:1-3 describes how the heavens and the earth declare the glory of God, while 2 Peter 3:5 explains that the heavens were created by the word of God. Genesis 1:1-31 provides a detailed account of the creation story, including the creation of the earth, light, firmament, plants, animals, and humans.\n"
     ]
    }
   ],
   "source": [
    "query = \"Can you give me bible verses that talk in detail about the creation?\"\n",
    "# response = qa_stuff.run(query)\n",
    "print(qa_stuff.run(query))"
   ]
  },
  {
   "cell_type": "code",
   "execution_count": 32,
   "metadata": {},
   "outputs": [
    {
     "name": "stdout",
     "output_type": "stream",
     "text": [
      "\n",
      "\n",
      "\u001b[1m> Entering new RetrievalQA chain...\u001b[0m\n",
      "\n",
      "\n",
      "\u001b[1m> Entering new StuffDocumentsChain chain...\u001b[0m\n",
      "\n",
      "\n",
      "\u001b[1m> Entering new LLMChain chain...\u001b[0m\n",
      "Prompt after formatting:\n",
      "\u001b[32;1m\u001b[1;3m\n",
      "Use the following context (delimited by <ctx></ctx>) and the chat history (delimited by <hs></hs>) to answer the user's question. \n",
      "All bible texts are to referenced with King James Version. You can give info on bible texts.\n",
      "If you don't know the answer, just say that you don't know, don't try to make up an answer.\n",
      "------\n",
      "<ctx>\n",
      "1. Who wrote the Book of Genesis?\n",
      "\n",
      "2. What other Books of the Bible did he write?\n",
      "\n",
      "3. What is the meaning of the name Genesis?\n",
      "\n",
      "Cross References\"Through faith we understand that the worlds were framed by the word of God, so that things which are seen were not made of things which do appear\"  (Hebrews 11:3).\n",
      "\n",
      "The first verse of the inspired Word declares, \"In the beginning God created the heaven and the earth.\" These words thus pronounce God the Creator of the universe; and for him who believes the Bible this statement settles the issue -- God is the Creator of the universe and all that is in it.\n",
      "\n",
      "There are three ways that this information could have reached Moses: namely, writing, word of mouth, and Divine revelation.\n",
      "</ctx>\n",
      "------\n",
      "<hs>\n",
      "Human: What are the steps to creation? Answer in bullet form\n",
      "AI: - God created the earth, which was without form and void, and darkness was upon the face of the deep.\n",
      "- God commanded light.\n",
      "- God created the firmament -- the expanse above the earth, modifying the temperature and separating the vaporous waters above (the clouds) from the condensed waters below (the seas).\n",
      "- God created grass, fruits, and herbs, each with seed after its kind.\n",
      "- God created the sun to rule by day, and the moon to rule by night, besides the planets of our solar system, and the innumerable stars. \n",
      "- God surveyed His completed work and saw that it was good.\n",
      "Human: Can you give me bible verses that talk in detail about the creation?\n",
      "AI: Yes, there are several bible verses that talk in detail about the creation. One of them is Genesis 1, which describes the creation in seven days. Another one is Psalm 19:1-3, which talks about how the heavens and the earth declare the glory of God. Additionally, 2 Peter 3:5 mentions that \"By the word of God the heavens were of old, and the earth standing out of the water and in the water.\"\n",
      "</hs>\n",
      "------\n",
      "What do those verses say? Write it out\n",
      "Answer:\n",
      "\u001b[0m\n",
      "\n",
      "\u001b[1m> Finished chain.\u001b[0m\n",
      "\n",
      "\u001b[1m> Finished chain.\u001b[0m\n",
      "\n",
      "\u001b[1m> Finished chain.\u001b[0m\n"
     ]
    },
    {
     "data": {
      "text/plain": [
       "\"Sorry, there are no specific verses mentioned in the user's question. Can you please provide more context or clarify your question?\""
      ]
     },
     "execution_count": 32,
     "metadata": {},
     "output_type": "execute_result"
    }
   ],
   "source": [
    "query = \"What do those verses say? Write it out\"\n",
    "# response = qa_stuff.run(query)\n",
    "print(qa_stuff.run(query))"
   ]
  },
  {
   "cell_type": "code",
   "execution_count": 40,
   "metadata": {},
   "outputs": [
    {
     "name": "stdout",
     "output_type": "stream",
     "text": [
      "\n",
      "\n",
      "\u001b[1m> Entering new RetrievalQA chain...\u001b[0m\n",
      "\n",
      "\n",
      "\u001b[1m> Entering new StuffDocumentsChain chain...\u001b[0m\n",
      "\n",
      "\n",
      "\u001b[1m> Entering new LLMChain chain...\u001b[0m\n",
      "Prompt after formatting:\n",
      "\u001b[32;1m\u001b[1;3m\n",
      "Use the following context (delimited by <ctx></ctx>) and the chat history (delimited by <hs></hs>) to answer the user's question. \n",
      "All bible texts are to referenced with King James Version. You can give info on bible texts.\n",
      "If you don't know the answer, just say that you don't know, don't try to make up an answer.\n",
      "------\n",
      "<ctx>\n",
      "The first verse of the inspired Word declares, \"In the beginning God created the heaven and the earth.\" These words thus pronounce God the Creator of the universe; and for him who believes the Bible this statement settles the issue -- God is the Creator of the universe and all that is in it.\n",
      "\n",
      "While no declaration that God makes needs to be substantiated by evidence or argument, yet other portions of His wonderful Book, touching upon the subject of creation, serve greatly to strengthen one's faith in what here is declared -- as, for example, the words of the Psalmist: \"The heavens declare the glory of God; and the firmament sheweth his handiwork. Day unto day uttereth speech, and night unto night sheweth knowledge. There is no speech nor language, where their voice is not heard\" [PS:19:1-3]). The heavens, and the earth too, are declaring to man by innumerable evidences -- by the stars, by the seas, by the mountains, by the trees -- that God is the Creator of all that is.\n",
      "\n",
      "Of the Son it is written: \"All things were made by him; and without him was not any thing made that was made\" [JHN:1:3]); and in another passage: \"For by him were all things created, that are in heaven, and that are in earth, visible and invisible\" [COL:1:16]).\n",
      "\n",
      "Bible Text: [GEN:1:1-25].\n",
      "\n",
      "Lesson 1 - Senior\n",
      "\n",
      "Memory Verse: [GEN:1:1-25].\n",
      "</ctx>\n",
      "------\n",
      "<hs>\n",
      "Human: Can you give me bible verses that talk in detail about the creation?\n",
      "AI: Psalm 19:1-3, 2 Peter 3:5, and Genesis 1:1-31 all provide details about the creation story in the Bible. Psalm 19:1-3 describes how the heavens and the earth declare the glory of God, while 2 Peter 3:5 explains that the heavens were created by the word of God. Genesis 1:1-31 provides a detailed account of the creation story, including the creation of the earth, light, firmament, plants, animals, and humans.\n",
      "Human: The verses about the creation you gave out, can you give me what they are in KJV.\n",
      "AI: Sure! Here are the verses in King James Version:\n",
      "\n",
      "Psalm 19:1-3 - \"The heavens declare the glory of God; and the firmament sheweth his handywork. Day unto day uttereth speech, and night unto night sheweth knowledge. There is no speech nor language, where their voice is not heard.\"\n",
      "\n",
      "2 Peter 3:5 - \"For this they willingly are ignorant of, that by the word of God the heavens were of old, and the earth standing out of the water and in the water.\"\n",
      "\n",
      "Genesis 1:1-31 - This chapter provides a detailed account of the creation story, including the creation of the earth, light, firmament, plants, animals, and humans.\n",
      "</hs>\n",
      "------\n",
      "The verses about the creation you gave out, can you give me what they are in KJV.\n",
      "Answer:\n",
      "\u001b[0m\n",
      "\n",
      "\u001b[1m> Finished chain.\u001b[0m\n",
      "\n",
      "\u001b[1m> Finished chain.\u001b[0m\n",
      "\n",
      "\u001b[1m> Finished chain.\u001b[0m\n",
      "Sure! Here are the verses in King James Version:\n",
      "\n",
      "Psalm 19:1-3 - \"The heavens declare the glory of God; and the firmament sheweth his handywork. Day unto day uttereth speech, and night unto night sheweth knowledge. There is no speech nor language, where their voice is not heard.\"\n",
      "\n",
      "2 Peter 3:5 - \"For this they willingly are ignorant of, that by the word of God the heavens were of old, and the earth standing out of the water and in the water.\"\n",
      "\n",
      "Genesis 1:1-31 - This chapter provides a detailed account of the creation story, including the creation of the earth, light, firmament, plants, animals, and humans.\n"
     ]
    }
   ],
   "source": [
    "query = \"The verses about the creation you gave out, can you give me what they are in KJV.\"\n",
    "# response = qa_stuff.run(query)\n",
    "print(qa_stuff.run(query))"
   ]
  },
  {
   "cell_type": "code",
   "execution_count": 42,
   "metadata": {},
   "outputs": [
    {
     "name": "stdout",
     "output_type": "stream",
     "text": [
      "\n",
      "\n",
      "\u001b[1m> Entering new RetrievalQA chain...\u001b[0m\n",
      "\n",
      "\n",
      "\u001b[1m> Entering new StuffDocumentsChain chain...\u001b[0m\n",
      "\n",
      "\n",
      "\u001b[1m> Entering new LLMChain chain...\u001b[0m\n",
      "Prompt after formatting:\n",
      "\u001b[32;1m\u001b[1;3m\n",
      "Use the following context (delimited by <ctx></ctx>) and the chat history (delimited by <hs></hs>) to answer the user's question. \n",
      "All bible texts are to referenced with King James Version. You can give info on bible texts.\n",
      "If you don't know the answer, just say that you don't know, don't try to make up an answer.\n",
      "------\n",
      "<ctx>\n",
      "Bible Text: [GEN:1:1-25].\n",
      "\n",
      "Lesson 1 - Senior\n",
      "\n",
      "Memory Verse: [GEN:1:1-25].\n",
      "\n",
      "1. Who wrote the Book of Genesis?\n",
      "\n",
      "2. What other Books of the Bible did he write?\n",
      "\n",
      "3. What is the meaning of the name Genesis?\n",
      "\n",
      "3. What is the meaning of the name Genesis?\n",
      "\n",
      "4. What is the opening account of this Book?\n",
      "\n",
      "5. How many days did God devote to the work of creation?\n",
      "\n",
      "The first verse of the inspired Word declares, \"In the beginning God created the heaven and the earth.\" These words thus pronounce God the Creator of the universe; and for him who believes the Bible this statement settles the issue -- God is the Creator of the universe and all that is in it.\n",
      "</ctx>\n",
      "------\n",
      "<hs>\n",
      "Human: The verses about the creation you gave out, can you give me what they are in KJV.\n",
      "AI: Sure! Here are the verses in King James Version:\n",
      "\n",
      "Psalm 19:1-3 - \"The heavens declare the glory of God; and the firmament sheweth his handywork. Day unto day uttereth speech, and night unto night sheweth knowledge. There is no speech nor language, where their voice is not heard.\"\n",
      "\n",
      "2 Peter 3:5 - \"For this they willingly are ignorant of, that by the word of God the heavens were of old, and the earth standing out of the water and in the water.\"\n",
      "\n",
      "Genesis 1:1-31 - This chapter provides a detailed account of the creation story, including the creation of the earth, light, firmament, plants, animals, and humans.\n",
      "Human: Can you tell me what is in Genesis 1:1-31 according to KJV. Write it out in verses.\n",
      "AI: Sure! Here are the verses in King James Version for Genesis 1:1-31:\n",
      "\n",
      "1 In the beginning God created the heaven and the earth.\n",
      "2 And the earth was without form, and void; and darkness was upon the face of the deep. And the Spirit of God moved upon the face of the waters.\n",
      "3 And God said, Let there be light: and there was light.\n",
      "4 And God saw the light, that it was good: and God divided the light from the darkness.\n",
      "5 And God called the light Day, and the darkness he called Night. And the evening and the morning were the first day.\n",
      "6 And God said, Let there be a firmament in the midst of the waters, and let it divide the waters from the waters.\n",
      "7 And God made the firmament, and divided the waters which were under the firmament from the waters which were above the firmament: and it was so.\n",
      "8 And God called the firmament Heaven. And the evening and the morning were the second day.\n",
      "9 And God said, Let the waters under the heaven be gathered together unto one place, and let the dry land appear: and it was so.\n",
      "10 And God called the dry land Earth; and the gathering together of the waters called he Seas: and God saw that it was good.\n",
      "11 And God said, Let the earth bring forth grass, the herb yielding seed, and the fruit tree yielding fruit after his kind, whose seed is in itself, upon the earth: and it was so.\n",
      "12 And the earth brought forth grass, and herb yielding seed after his kind, and the tree yielding fruit, whose seed was in itself, after his kind: and God saw that it was good.\n",
      "13 And the evening and the morning were the third day.\n",
      "14 And God said, Let there be lights in the firmament of the heaven to divide the day from the night; and let them be for signs, and for seasons, and for days, and years:\n",
      "15 And let them be for lights in the firmament of the heaven to give light upon the earth: and it was so.\n",
      "16 And God made two great lights; the greater light to rule the day, and the lesser light to rule the night: he made the stars also.\n",
      "17 And God set them in the firmament of the heaven to give light upon the earth,\n",
      "18 And to rule over the day and over the night, and to divide the light from the darkness: and God saw that it was good.\n",
      "19 And the evening and the morning were the fourth day.\n",
      "20 And God said, Let the waters bring forth abundantly the moving creature that hath life, and fowl that may fly above the earth in the open firmament of heaven.\n",
      "21 And God created great whales, and every living creature that moveth, which the waters brought forth abundantly, after their kind, and every winged fowl after his kind: and God saw that it was good.\n",
      "22 And God blessed them, saying, Be fruitful, and multiply, and fill the waters in the seas, and let fowl multiply in the earth.\n",
      "23 And the evening and the morning were the fifth day.\n",
      "24 And God said, Let the earth bring forth the living creature after his kind, cattle, and creeping thing, and beast of the earth after his kind: and it was so.\n",
      "25 And God made the beast of the earth after his kind, and cattle after their kind, and every thing that creepeth upon the earth after his kind: and God saw that it was good.\n",
      "26 And God said, Let us make man in our image, after our likeness: and let them have dominion over the fish of the sea, and over the fowl of the air, and over the cattle, and over all the earth, and over every creeping thing that creepeth upon the earth.\n",
      "27 So God created man in his own image, in the image of God created he him; male and female created he them.\n",
      "28 And God blessed them, and God said unto them, Be fruitful, and multiply, and replenish the earth, and subdue it: and have dominion over the fish of the sea, and over the fowl of the air, and over every living thing that moveth upon the earth.\n",
      "29 And God said, Behold, I have given you every herb bearing seed, which is upon the face of all the earth, and every tree, in the which is the fruit of a tree yielding seed; to you it shall be for meat.\n",
      "30 And to every beast of the earth, and to every fowl of the air, and to every thing that creepeth upon the earth, wherein there is life, I have given every green herb for meat: and it was so.\n",
      "31 And God saw every thing that he had made, and, behold, it was very good. And the evening and the morning were the sixth day.\n",
      "</hs>\n",
      "------\n",
      "Can you tell me what is in Genesis 1:1-31 according to KJV. Write it out in verses.\n",
      "Answer:\n",
      "\u001b[0m\n",
      "\n",
      "\u001b[1m> Finished chain.\u001b[0m\n",
      "\n",
      "\u001b[1m> Finished chain.\u001b[0m\n",
      "\n",
      "\u001b[1m> Finished chain.\u001b[0m\n",
      "Sure! Here are the verses in King James Version for Genesis 1:1-31:\n",
      "\n",
      "1 In the beginning God created the heaven and the earth.\n",
      "2 And the earth was without form, and void; and darkness was upon the face of the deep. And the Spirit of God moved upon the face of the waters.\n",
      "3 And God said, Let there be light: and there was light.\n",
      "4 And God saw the light, that it was good: and God divided the light from the darkness.\n",
      "5 And God called the light Day, and the darkness he called Night. And the evening and the morning were the first day.\n",
      "6 And God said, Let there be a firmament in the midst of the waters, and let it divide the waters from the waters.\n",
      "7 And God made the firmament, and divided the waters which were under the firmament from the waters which were above the firmament: and it was so.\n",
      "8 And God called the firmament Heaven. And the evening and the morning were the second day.\n",
      "9 And God said, Let the waters under the heaven be gathered together unto one place, and let the dry land appear: and it was so.\n",
      "10 And God called the dry land Earth; and the gathering together of the waters called he Seas: and God saw that it was good.\n",
      "11 And God said, Let the earth bring forth grass, the herb yielding seed, and the fruit tree yielding fruit after his kind, whose seed is in itself, upon the earth: and it was so.\n",
      "12 And the earth brought forth grass, and herb yielding seed after his kind, and the tree yielding fruit, whose seed was in itself, after his kind: and God saw that it was good.\n",
      "13 And the evening and the morning were the third day.\n",
      "14 And God said, Let there be lights in the firmament of the heaven to divide the day from the night; and let them be for signs, and for seasons, and for days, and years:\n",
      "15 And let them be for lights in the firmament of the heaven to give light upon the earth: and it was so.\n",
      "16 And God made two great lights; the greater light to rule the day, and the lesser light to rule the night: he made the stars also.\n",
      "17 And God set them in the firmament of the heaven to give light upon the earth,\n",
      "18 And to rule over the day and over the night, and to divide the light from the darkness: and God saw that it was good.\n",
      "19 And the evening and the morning were the fourth day.\n",
      "20 And God said, Let the waters bring forth abundantly the moving creature that hath life, and fowl that may fly above the earth in the open firmament of heaven.\n",
      "21 And God created great whales, and every living creature that moveth, which the waters brought forth abundantly, after their kind, and every winged fowl after his kind: and God saw that it was good.\n",
      "22 And God blessed them, saying, Be fruitful, and multiply, and fill the waters in the seas, and let fowl multiply in the earth.\n",
      "23 And the evening and the morning were the fifth day.\n",
      "24 And God said, Let the earth bring forth the living creature after his kind, cattle, and creeping thing, and beast of the earth after his kind: and it was so.\n",
      "25 And God made the beast of the earth after his kind, and cattle after their kind, and every thing that creepeth upon the earth after his kind: and God saw that it was good.\n",
      "26 And God said, Let us make man in our image, after our likeness: and let them have dominion over the fish of the sea, and over the fowl of the air, and over the cattle, and over all the earth, and over every creeping thing that creepeth upon the earth.\n",
      "27 So God created man in his own image, in the image of God created he him; male and female created he them.\n",
      "28 And God blessed them, and God said unto them, Be fruitful, and multiply, and replenish the earth, and subdue it: and have dominion over the fish of the sea, and over the fowl of the air, and over every living thing that moveth upon the earth.\n",
      "29 And God said, Behold, I have given you every herb bearing seed, which is upon the face of all the earth, and every tree, in the which is the fruit of a tree yielding seed; to you it shall be for meat.\n",
      "30 And to every beast of the earth, and to every fowl of the air, and to every thing that creepeth upon the earth, wherein there is life, I have given every green herb for meat: and it was so.\n",
      "31 And God saw every thing that he had made, and, behold, it was very good. And the evening and the morning were the sixth day.\n"
     ]
    }
   ],
   "source": [
    "query = \"Can you tell me what is in Genesis 1:1-31 according to KJV. Write it out in verses.\"\n",
    "# response = qa_stuff.run(query)\n",
    "print(qa_stuff.run(query))"
   ]
  },
  {
   "cell_type": "code",
   "execution_count": null,
   "metadata": {},
   "outputs": [
    {
     "data": {
      "text/plain": [
       "ConversationBufferMemory(chat_memory=InMemoryChatMessageHistory(messages=[HumanMessage(content='Can you give me bible verses that talk in detail about the creation?'), AIMessage(content='Yes, Psalm 19:1-3 and Genesis 1:1-31 are two examples of Bible verses that talk about the creation in detail. However, if you\\'re looking for a more comprehensive list, I suggest doing a search for \"Bible verses about creation\" online or in a Bible concordance.')]), input_key='question')"
      ]
     },
     "execution_count": 59,
     "metadata": {},
     "output_type": "execute_result"
    }
   ],
   "source": [
    "qa_stuff.combine_documents_chain.memory"
   ]
  },
  {
   "cell_type": "code",
   "execution_count": null,
   "metadata": {},
   "outputs": [],
   "source": []
  }
 ],
 "metadata": {
  "kernelspec": {
   "display_name": "Gospel-Companion",
   "language": "python",
   "name": "python3"
  },
  "language_info": {
   "codemirror_mode": {
    "name": "ipython",
    "version": 3
   },
   "file_extension": ".py",
   "mimetype": "text/x-python",
   "name": "python",
   "nbconvert_exporter": "python",
   "pygments_lexer": "ipython3",
   "version": "3.11.5"
  },
  "orig_nbformat": 4
 },
 "nbformat": 4,
 "nbformat_minor": 2
}
