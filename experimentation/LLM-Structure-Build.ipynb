{
 "cells": [
  {
   "cell_type": "code",
   "execution_count": 4,
   "metadata": {},
   "outputs": [],
   "source": [
    "# pydantic==1.10.9"
   ]
  },
  {
   "cell_type": "code",
   "execution_count": 1,
   "metadata": {},
   "outputs": [],
   "source": [
    "import langchain\n",
    "import pandas"
   ]
  },
  {
   "cell_type": "code",
   "execution_count": 2,
   "metadata": {},
   "outputs": [
    {
     "ename": "ImportError",
     "evalue": "cannot import name 'RetreiveChain' from 'langchain.chains' (/Users/samuelbamgbola/Documents/Gospel-Companion/lib/python3.7/site-packages/langchain/chains/__init__.py)",
     "output_type": "error",
     "traceback": [
      "\u001b[0;31m---------------------------------------------------------------------------\u001b[0m",
      "\u001b[0;31mImportError\u001b[0m                               Traceback (most recent call last)",
      "\u001b[0;32m/var/folders/qn/bxn3gpq553nf7p7sly6btd7c0000gn/T/ipykernel_38609/2081789945.py\u001b[0m in \u001b[0;36m<module>\u001b[0;34m\u001b[0m\n\u001b[0;32m----> 1\u001b[0;31m \u001b[0;32mfrom\u001b[0m \u001b[0mlangchain\u001b[0m\u001b[0;34m.\u001b[0m\u001b[0mchains\u001b[0m \u001b[0;32mimport\u001b[0m \u001b[0mRetreiveChain\u001b[0m\u001b[0;34m\u001b[0m\u001b[0;34m\u001b[0m\u001b[0m\n\u001b[0m",
      "\u001b[0;31mImportError\u001b[0m: cannot import name 'RetreiveChain' from 'langchain.chains' (/Users/samuelbamgbola/Documents/Gospel-Companion/lib/python3.7/site-packages/langchain/chains/__init__.py)"
     ]
    }
   ],
   "source": [
    "from langchain.chains import RetreiveChain"
   ]
  },
  {
   "cell_type": "code",
   "execution_count": 4,
   "metadata": {},
   "outputs": [
    {
     "name": "stdout",
     "output_type": "stream",
     "text": [
      "zsh:1: no matches found: langchain[all]\n",
      "Note: you may need to restart the kernel to use updated packages.\n"
     ]
    }
   ],
   "source": [
    "# pip install langchain[all]"
   ]
  },
  {
   "cell_type": "code",
   "execution_count": 6,
   "metadata": {},
   "outputs": [
    {
     "name": "stdout",
     "output_type": "stream",
     "text": [
      "Requirement already up-to-date: langchain in /Users/samuelbamgbola/Documents/Gospel-Companion/lib/python3.7/site-packages (0.0.27)\n",
      "Requirement already satisfied, skipping upgrade: requests in /Users/samuelbamgbola/Documents/Gospel-Companion/lib/python3.7/site-packages (from langchain) (2.31.0)\n",
      "Requirement already satisfied, skipping upgrade: pydantic in /Users/samuelbamgbola/Documents/Gospel-Companion/lib/python3.7/site-packages (from langchain) (1.10.9)\n",
      "Requirement already satisfied, skipping upgrade: sqlalchemy in /Users/samuelbamgbola/Documents/Gospel-Companion/lib/python3.7/site-packages (from langchain) (2.0.20)\n",
      "Requirement already satisfied, skipping upgrade: pyyaml in /Users/samuelbamgbola/Documents/Gospel-Companion/lib/python3.7/site-packages (from langchain) (6.0.1)\n",
      "Requirement already satisfied, skipping upgrade: numpy in /Users/samuelbamgbola/Documents/Gospel-Companion/lib/python3.7/site-packages (from langchain) (1.21.6)\n",
      "Requirement already satisfied, skipping upgrade: idna<4,>=2.5 in /Users/samuelbamgbola/Documents/Gospel-Companion/lib/python3.7/site-packages (from requests->langchain) (3.4)\n",
      "Requirement already satisfied, skipping upgrade: certifi>=2017.4.17 in /Users/samuelbamgbola/Documents/Gospel-Companion/lib/python3.7/site-packages (from requests->langchain) (2023.7.22)\n",
      "Requirement already satisfied, skipping upgrade: urllib3<3,>=1.21.1 in /Users/samuelbamgbola/Documents/Gospel-Companion/lib/python3.7/site-packages (from requests->langchain) (2.0.4)\n",
      "Requirement already satisfied, skipping upgrade: charset-normalizer<4,>=2 in /Users/samuelbamgbola/Documents/Gospel-Companion/lib/python3.7/site-packages (from requests->langchain) (3.2.0)\n",
      "Requirement already satisfied, skipping upgrade: typing-extensions>=4.2.0 in /Users/samuelbamgbola/Documents/Gospel-Companion/lib/python3.7/site-packages (from pydantic->langchain) (4.7.1)\n",
      "Requirement already satisfied, skipping upgrade: greenlet!=0.4.17; platform_machine == \"aarch64\" or (platform_machine == \"ppc64le\" or (platform_machine == \"x86_64\" or (platform_machine == \"amd64\" or (platform_machine == \"AMD64\" or (platform_machine == \"win32\" or platform_machine == \"WIN32\"))))) in /Users/samuelbamgbola/Documents/Gospel-Companion/lib/python3.7/site-packages (from sqlalchemy->langchain) (2.0.2)\n",
      "Requirement already satisfied, skipping upgrade: importlib-metadata; python_version < \"3.8\" in /Users/samuelbamgbola/Documents/Gospel-Companion/lib/python3.7/site-packages (from sqlalchemy->langchain) (6.7.0)\n",
      "Requirement already satisfied, skipping upgrade: zipp>=0.5 in /Users/samuelbamgbola/Documents/Gospel-Companion/lib/python3.7/site-packages (from importlib-metadata; python_version < \"3.8\"->sqlalchemy->langchain) (3.15.0)\n",
      "\u001b[33mWARNING: You are using pip version 19.2.3, however version 23.2.1 is available.\n",
      "You should consider upgrading via the 'pip install --upgrade pip' command.\u001b[0m\n",
      "Note: you may need to restart the kernel to use updated packages.\n"
     ]
    }
   ],
   "source": [
    "# pip install langchain --upgrade"
   ]
  },
  {
   "cell_type": "code",
   "execution_count": 5,
   "metadata": {},
   "outputs": [],
   "source": [
    "# import llama 2 from langchain\n",
    "llama = langchain.llms"
   ]
  },
  {
   "cell_type": "code",
   "execution_count": null,
   "metadata": {},
   "outputs": [],
   "source": [
    "# Create a prompt template using langchain for a query of sunday school lesson teacher\n",
    "# The prompt is a template for a query of sunday school lesson teacher\n",
    "\n",
    "def answer(query):\n",
    "    \"\"\"\n",
    "    Function housing prompt template\n",
    "    \"\"\"\n",
    "\n",
    "    # Create a prompt template using langchain for a query of sunday school lesson teacher\n",
    "    # The prompt is a template for a query of sunday school lesson teacher\n",
    "    prompt = langchain.PromptTemplate()\n",
    "        # T = teacher, L = lesson, S = scripture, \n",
    "\n"
   ]
  }
 ],
 "metadata": {
  "kernelspec": {
   "display_name": "Gospel-Companion",
   "language": "python",
   "name": "gospel-companion"
  },
  "language_info": {
   "codemirror_mode": {
    "name": "ipython",
    "version": 3
   },
   "file_extension": ".py",
   "mimetype": "text/x-python",
   "name": "python",
   "nbconvert_exporter": "python",
   "pygments_lexer": "ipython3",
   "version": "3.7.6"
  },
  "orig_nbformat": 4
 },
 "nbformat": 4,
 "nbformat_minor": 2
}
