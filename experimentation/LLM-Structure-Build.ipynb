{
 "cells": [
  {
   "cell_type": "code",
   "execution_count": 1,
   "metadata": {},
   "outputs": [],
   "source": [
    "import os\n",
    "\n",
    "from langchain.chains import RetrievalQA\n",
    "from langchain.chat_models import ChatOpenAI\n",
    "from langchain.chains import LLMChain\n",
    "from langchain.llms import OpenAI"
   ]
  },
  {
   "cell_type": "code",
   "execution_count": null,
   "metadata": {},
   "outputs": [],
   "source": [
    "import langchain\n",
    "langchain.verbose = True"
   ]
  },
  {
   "cell_type": "code",
   "execution_count": 2,
   "metadata": {},
   "outputs": [],
   "source": [
    "# Add OpenAI library\n",
    "import openai"
   ]
  },
  {
   "cell_type": "code",
   "execution_count": 3,
   "metadata": {},
   "outputs": [
    {
     "data": {
      "text/plain": [
       "True"
      ]
     },
     "execution_count": 3,
     "metadata": {},
     "output_type": "execute_result"
    }
   ],
   "source": [
    "# Get Configuration Settings\n",
    "from dotenv import load_dotenv\n",
    "load_dotenv()"
   ]
  },
  {
   "cell_type": "code",
   "execution_count": 4,
   "metadata": {},
   "outputs": [],
   "source": [
    "# Configure OpenAI API using Azure OpenAI\n",
    "openai.api_key = os.getenv(\"API_KEY\")\n",
    "openai.api_base = os.getenv(\"ENDPOINT\")\n",
    "openai.api_type = \"azure\"  # Necessary for using the OpenAI library with Azure OpenAI\n",
    "openai.api_version = \"2024-02-01\"  # Latest / target version of the API"
   ]
  },
  {
   "cell_type": "markdown",
   "metadata": {},
   "source": [
    "## Initial tests without a Cloud Vector Store"
   ]
  },
  {
   "cell_type": "code",
   "execution_count": 5,
   "metadata": {},
   "outputs": [],
   "source": [
    "from langchain.vectorstores import DocArrayInMemorySearch\n",
    "from langchain.embeddings import OpenAIEmbeddings\n",
    "from langchain.text_splitter import RecursiveCharacterTextSplitter, CharacterTextSplitter\n",
    "from langchain.document_loaders import TextLoader"
   ]
  },
  {
   "cell_type": "code",
   "execution_count": 6,
   "metadata": {},
   "outputs": [],
   "source": [
    "SOURCE_FILE_NAME = \"/Users/mac/Documents/Gospel-Companion/data/Senior/Lesson1_Senior.txt\""
   ]
  },
  {
   "cell_type": "code",
   "execution_count": 7,
   "metadata": {},
   "outputs": [
    {
     "name": "stderr",
     "output_type": "stream",
     "text": [
      "Created a chunk of size 180, which is longer than the specified 150\n",
      "Created a chunk of size 292, which is longer than the specified 150\n",
      "Created a chunk of size 690, which is longer than the specified 150\n",
      "Created a chunk of size 534, which is longer than the specified 150\n",
      "Created a chunk of size 747, which is longer than the specified 150\n",
      "Created a chunk of size 782, which is longer than the specified 150\n",
      "Created a chunk of size 645, which is longer than the specified 150\n",
      "Created a chunk of size 643, which is longer than the specified 150\n",
      "Created a chunk of size 644, which is longer than the specified 150\n",
      "Created a chunk of size 726, which is longer than the specified 150\n",
      "Created a chunk of size 261, which is longer than the specified 150\n",
      "Created a chunk of size 309, which is longer than the specified 150\n",
      "Created a chunk of size 1478, which is longer than the specified 150\n",
      "Created a chunk of size 302, which is longer than the specified 150\n",
      "Created a chunk of size 447, which is longer than the specified 150\n"
     ]
    }
   ],
   "source": [
    "loader = TextLoader(SOURCE_FILE_NAME)\n",
    "documents = loader.load()\n",
    "text_splitter = CharacterTextSplitter(chunk_size=150, chunk_overlap=50)\n",
    "docs = text_splitter.split_documents(documents)"
   ]
  },
  {
   "cell_type": "code",
   "execution_count": 8,
   "metadata": {},
   "outputs": [
    {
     "data": {
      "text/plain": [
       "[Document(page_content='Bible Text: [GEN:1:1-25].\\n\\nLesson 1 - Senior\\n\\nMemory Verse: [GEN:1:1-25].', metadata={'source': '/Users/mac/Documents/Gospel-Companion/data/Senior/Lesson1_Senior.txt'}),\n",
       " Document(page_content='Cross References\"Through faith we understand that the worlds were framed by the word of God, so that things which are seen were not made of things which do appear\" \\xa0(Hebrews 11:3).', metadata={'source': '/Users/mac/Documents/Gospel-Companion/data/Senior/Lesson1_Senior.txt'}),\n",
       " Document(page_content='I The Work of Creation on the First and Second Days\\n\\n1. God is the Creator of Heaven and earth (the universe), [GEN:1:1].', metadata={'source': '/Users/mac/Documents/Gospel-Companion/data/Senior/Lesson1_Senior.txt'}),\n",
       " Document(page_content='2. In the first creative act the earth was without form, without light, and void -- all a shapeless mass, [GEN:1:2].', metadata={'source': '/Users/mac/Documents/Gospel-Companion/data/Senior/Lesson1_Senior.txt'}),\n",
       " Document(page_content='3. \"God said, Let there be light: and there was light\"; and night and day were ordained, [GEN:1:3-5].', metadata={'source': '/Users/mac/Documents/Gospel-Companion/data/Senior/Lesson1_Senior.txt'}),\n",
       " Document(page_content='4. The third creative act was the making of the firmament (an expanse above the earth) to divide the waters, [GEN:1:6].', metadata={'source': '/Users/mac/Documents/Gospel-Companion/data/Senior/Lesson1_Senior.txt'}),\n",
       " Document(page_content='5. The waters below were divided from the waters above, [GEN:1:7].\\n\\n6. The firmament God called Heaven, [GEN:1:8].', metadata={'source': '/Users/mac/Documents/Gospel-Companion/data/Senior/Lesson1_Senior.txt'}),\n",
       " Document(page_content='6. The firmament God called Heaven, [GEN:1:8].\\n\\nII The Work of Creation on the Third and Fourth Days', metadata={'source': '/Users/mac/Documents/Gospel-Companion/data/Senior/Lesson1_Senior.txt'}),\n",
       " Document(page_content='1. The waters below were gathered into one place, and the dry land appeared, [GEN:1:9].', metadata={'source': '/Users/mac/Documents/Gospel-Companion/data/Senior/Lesson1_Senior.txt'}),\n",
       " Document(page_content='2. The land God called Earth, and the gathering together of the waters, Seas, [GEN:1:10].', metadata={'source': '/Users/mac/Documents/Gospel-Companion/data/Senior/Lesson1_Senior.txt'}),\n",
       " Document(page_content='3. Grass and fruits were brought forth on the earth, [GEN:1:11-13].\\n\\n4. God placed lights in the firmament, [GEN:1:14].', metadata={'source': '/Users/mac/Documents/Gospel-Companion/data/Senior/Lesson1_Senior.txt'}),\n",
       " Document(page_content='5. God ordained the greater light to rule the day, and the lesser light to rule the night; He made the stars also, [GEN:1:15-19].', metadata={'source': '/Users/mac/Documents/Gospel-Companion/data/Senior/Lesson1_Senior.txt'}),\n",
       " Document(page_content='III The Work of Creation on the Fifth and Sixth Days', metadata={'source': '/Users/mac/Documents/Gospel-Companion/data/Senior/Lesson1_Senior.txt'}),\n",
       " Document(page_content='1. God created moving creatures to inhabit the waters, and fowls to inhabit the firmament, [GEN:1:20].', metadata={'source': '/Users/mac/Documents/Gospel-Companion/data/Senior/Lesson1_Senior.txt'}),\n",
       " Document(page_content='2. God made every living creature and every winged fowl after its kind, [GEN:1:21-23].', metadata={'source': '/Users/mac/Documents/Gospel-Companion/data/Senior/Lesson1_Senior.txt'}),\n",
       " Document(page_content='3. Every beast, all cattle and creeping things, each after its kind, were brought forth on the earth, [GEN:1:24-25].', metadata={'source': '/Users/mac/Documents/Gospel-Companion/data/Senior/Lesson1_Senior.txt'}),\n",
       " Document(page_content='The first verse of the inspired Word declares, \"In the beginning God created the heaven and the earth.\" These words thus pronounce God the Creator of the universe; and for him who believes the Bible this statement settles the issue -- God is the Creator of the universe and all that is in it.', metadata={'source': '/Users/mac/Documents/Gospel-Companion/data/Senior/Lesson1_Senior.txt'}),\n",
       " Document(page_content='While no declaration that God makes needs to be substantiated by evidence or argument, yet other portions of His wonderful Book, touching upon the subject of creation, serve greatly to strengthen one\\'s faith in what here is declared -- as, for example, the words of the Psalmist: \"The heavens declare the glory of God; and the firmament sheweth his handiwork. Day unto day uttereth speech, and night unto night sheweth knowledge. There is no speech nor language, where their voice is not heard\" [PS:19:1-3]). The heavens, and the earth too, are declaring to man by innumerable evidences -- by the stars, by the seas, by the mountains, by the trees -- that God is the Creator of all that is.', metadata={'source': '/Users/mac/Documents/Gospel-Companion/data/Senior/Lesson1_Senior.txt'}),\n",
       " Document(page_content='Spirit Inspired', metadata={'source': '/Users/mac/Documents/Gospel-Companion/data/Senior/Lesson1_Senior.txt'}),\n",
       " Document(page_content='There is general agreement among students of the Bible that Moses was the man whom God used to write the Pentateuch, or the first five books of the Bible. One might wonder how it could be possible for Moses to set forth this wonderful account of the creation of all things. Moses lived well over 2,000 years after the creation; yet the Genesis account is written with absolute detail and beautiful description, imparting to an idolatrous world with their thousands of false deities the revolutionizing revelation of only one true God.', metadata={'source': '/Users/mac/Documents/Gospel-Companion/data/Senior/Lesson1_Senior.txt'}),\n",
       " Document(page_content='There are three ways that this information could have reached Moses: namely, writing, word of mouth, and Divine revelation.', metadata={'source': '/Users/mac/Documents/Gospel-Companion/data/Senior/Lesson1_Senior.txt'}),\n",
       " Document(page_content=\"No doubt Moses received a portion of fact and history by word of mouth. This is especially understandable when one considers that, two men bridged the span of 1656 years from Adam to the Flood. God related the story of creation to Adam, in the first place, and Methuselah could easily have been the man who retold the story to Noah. Adam lived 930 years and Methuselah lived 969 years; thus Noah was 600 years of age when Methuselah died. It is possible that Shem brought the history from Noah to Abraham; Isaac then lived to see Joseph; and Amram, the father of Moses, could have brought the sacred message from Joseph to Moses. Thus, nine persons' lives spanned the long period of time between the creation and the writing of the sacred account.\", metadata={'source': '/Users/mac/Documents/Gospel-Companion/data/Senior/Lesson1_Senior.txt'}),\n",
       " Document(page_content='One historian, speaking on these matters, wrote: \"Supposing, then, all the curious facts recorded in the book of Genesis had no other authority than tradition, . . . they would stand upon a foundation of credibility superior to any that the most reputable of the ancient Greek and Latin historians can boast. Yet to preclude all possibility of mistake, the unerring Spirit of God directed Moses in the selection of his facts and the ascertaining of his dates. Indeed, the narrative is so simple, so much like truth, so consistent everywhere with itself, so correct in its dates, so impartial in its biography, so accurate in its philosophical details, so pure in its morality, and so benevolent in its design, as amply to demonstrate that it never could have had an earthly origin.\"', metadata={'source': '/Users/mac/Documents/Gospel-Companion/data/Senior/Lesson1_Senior.txt'}),\n",
       " Document(page_content='Not a Textbook on Science', metadata={'source': '/Users/mac/Documents/Gospel-Companion/data/Senior/Lesson1_Senior.txt'}),\n",
       " Document(page_content='The Bible is not written in the language of the modern scientist, and for that reason some people are led to believe that the Bible is not scientifically accurate; however, the Bible does contain scientific truth, and Scripture and true science are in agreement. Science is largely a method of ascertaining truth through the means of trial and error: each generation revises many of the theories and accepted facts of the previous generation; so it seems unreasonable to dispute the authority of the unchanging Word of God and the revelation of the all-wise Creator on the basis of the changing theories of men, however wise in their generation.', metadata={'source': '/Users/mac/Documents/Gospel-Companion/data/Senior/Lesson1_Senior.txt'}),\n",
       " Document(page_content='The opinions of scientists change so rapidly that it is reported that the library of the Louvre, in Paris, contains three and one half miles of bookshelves, holding volumes of science that have become obsolete in fifty years. In 1861 the French Academy of Science put out a list of 51 recognised scientific facts, all of which contradicted some statement of Scripture. In the years that have come and gone, not one word of the Bible has been changed; yet the knowledge of science has so vastly increased that not one of those 51 so called facts are recognised today that were at that time advanced in challenge to the inspiration of Scripture.', metadata={'source': '/Users/mac/Documents/Gospel-Companion/data/Senior/Lesson1_Senior.txt'}),\n",
       " Document(page_content='Science has made some remarkable discoveries, but science still falls short of a satisfactory explanation of the creation, outside of God. The scientist sees the handiwork of God, but too often he overlooks or denies God as the Creator. No, the universe with all its intricate designs and precision did not evolve out of some nebulous mass, any more than a fine watch could evolve itself out of the dust of the earth. \"By the word of God the heavens were of old, and the earth standing out of the water and in the water\" [2PE:3:5]). Happy is the man who has faith in God, for in Him are the answers to questions that otherwise are unanswerable.', metadata={'source': '/Users/mac/Documents/Gospel-Companion/data/Senior/Lesson1_Senior.txt'}),\n",
       " Document(page_content='The Holy Trinity in Creation', metadata={'source': '/Users/mac/Documents/Gospel-Companion/data/Senior/Lesson1_Senior.txt'}),\n",
       " Document(page_content='The Hebrew word translated God is in the plural Elohim; a form, with few exceptions, used throughout the Old Testament. This use of the plural is believed by many devout students of the Bible to express a plurality in the Godhead, confirming the teaching in the Bible of three Persons. Thus from the beginning the plurality of the Godhead is implied. The three Persons of the Holy Trinity are expressly named in the Scriptures as having part in the work of creation. Of the Father it is said: \"But now, O LORD, thou art our father; we are the clay, and thou our potter; and we all are the work of thy hand\" [ISA:64:8]); and again, \"But to us there is but one God, the Father, of whom are all things, and we in him\" [1CO:8:6]).', metadata={'source': '/Users/mac/Documents/Gospel-Companion/data/Senior/Lesson1_Senior.txt'}),\n",
       " Document(page_content='Of the Son it is written: \"All things were made by him; and without him was not any thing made that was made\" [JHN:1:3]); and in another passage: \"For by him were all things created, that are in heaven, and that are in earth, visible and invisible\" [COL:1:16]).', metadata={'source': '/Users/mac/Documents/Gospel-Companion/data/Senior/Lesson1_Senior.txt'}),\n",
       " Document(page_content='Concerning the Holy Spirit we read in the text, \"And the Spirit of God moved upon the face of the waters\" [GEN:1:2]); and again it is written: \"By his spirit he hath garnished the heavens; his hand hath formed the crooked serpent\" [JOB:26:13]). The worlds were thus created by the Father, Son, and Holy Ghost.', metadata={'source': '/Users/mac/Documents/Gospel-Companion/data/Senior/Lesson1_Senior.txt'}),\n",
       " Document(page_content='Steps of Creation', metadata={'source': '/Users/mac/Documents/Gospel-Companion/data/Senior/Lesson1_Senior.txt'}),\n",
       " Document(page_content='The steps of creation day by day are most wonderful. God\\'s great purpose was to provide this world for man. In order that man should be sustained here in life, it was necessary that the earth be prepared for the creating of life. The successive creative acts reveal great wisdom and order. God first brought into being the earth, which was without form and void, and darkness was upon the face of the deep. His next act was to command light; for light and the heat, which attends it are essential to human life. He then created the firmament -- the expanse above the earth, modifying the temperature and separating the vaporous waters above (the clouds) from the condensed waters below (the seas). Thus the seas, the atmosphere, and the clouds made perfect provision for life upon the land. Grass, fruits, and herbs were then the next creative act, each with seed after its kind. The geographers tell us that the surface of the earth consists of two thirds water and one third land. At the regular rate of evaporation of the seas, which has been carefully measured, it is found that this proportion is a perfect balance essential to provide moisture for life upon the land. Such is the wisdom of our God. He added to this the sun to rule by day, and the moon to rule by night, besides the planets of our solar system, and the innumerable stars, which sparkle like diamonds in the heavens. \"Through faith we understand that the worlds were framed by the word of God\" [HEB:11:3]).', metadata={'source': '/Users/mac/Documents/Gospel-Companion/data/Senior/Lesson1_Senior.txt'}),\n",
       " Document(page_content='The next step in order was animal life; for the grass, fruits, and herbs provided the food. Moving creatures therefore filled the waters; winged fowl took to the air; and the beasts, cattle, and creeping things populated the lands. God had left no steps untaken to prepare perfectly this earth for man.', metadata={'source': '/Users/mac/Documents/Gospel-Companion/data/Senior/Lesson1_Senior.txt'}),\n",
       " Document(page_content='The aquariums, the aviaries, and zoological gardens which man has provided tell us something of the endless wonders of God\\'s handiwork. Not only has He made abundant provision for food, raiment, and shelter, but He has added to this the beauty of His handiwork to delight the eye of man -- the flowers, the trees, the rocks, the rivers, the majestic mountains, and many other things. \"Let every thing that hath breath praise the LORD\" [PS:150:6]).', metadata={'source': '/Users/mac/Documents/Gospel-Companion/data/Senior/Lesson1_Senior.txt'}),\n",
       " Document(page_content='1. Who wrote the Book of Genesis?\\n\\n2. What other Books of the Bible did he write?\\n\\n3. What is the meaning of the name Genesis?', metadata={'source': '/Users/mac/Documents/Gospel-Companion/data/Senior/Lesson1_Senior.txt'}),\n",
       " Document(page_content='3. What is the meaning of the name Genesis?\\n\\n4. What is the opening account of this Book?\\n\\n5. How many days did God devote to the work of creation?', metadata={'source': '/Users/mac/Documents/Gospel-Companion/data/Senior/Lesson1_Senior.txt'}),\n",
       " Document(page_content=\"6. Name what He created each successive day.\\n\\n7. What was God's comment as He surveyed His completed work?\", metadata={'source': '/Users/mac/Documents/Gospel-Companion/data/Senior/Lesson1_Senior.txt'}),\n",
       " Document(page_content='8. What school of so-called scientists denies in these days the Biblical account of the creation?', metadata={'source': '/Users/mac/Documents/Gospel-Companion/data/Senior/Lesson1_Senior.txt'})]"
      ]
     },
     "execution_count": 8,
     "metadata": {},
     "output_type": "execute_result"
    }
   ],
   "source": [
    "docs"
   ]
  },
  {
   "cell_type": "code",
   "execution_count": 9,
   "metadata": {},
   "outputs": [],
   "source": [
    "# OpenAI Settings\n",
    "model_deployment = \"text-embedding-ada-002\"\n",
    "# SDK calls this \"engine\", but naming it \"deployment_name\" for clarity\n",
    "\n",
    "model_name = \"text-embedding-ada-002\""
   ]
  },
  {
   "cell_type": "code",
   "execution_count": 37,
   "metadata": {},
   "outputs": [],
   "source": [
    "openai_embeddings: OpenAIEmbeddings = OpenAIEmbeddings(\n",
    "    openai_api_version = \"2024-02-01\", openai_api_key = os.getenv(\"API_KEY\"),\n",
    "    openai_api_base = os.getenv(\"ENDPOINT\"), openai_api_type = \"azure\"\n",
    ")"
   ]
  },
  {
   "cell_type": "code",
   "execution_count": 38,
   "metadata": {},
   "outputs": [],
   "source": [
    "db = DocArrayInMemorySearch.from_documents(\n",
    "    docs, \n",
    "    openai_embeddings\n",
    ")"
   ]
  },
  {
   "cell_type": "code",
   "execution_count": 22,
   "metadata": {},
   "outputs": [],
   "source": [
    "query = \"What are the steps to creation?\"\n",
    "docs = db.similarity_search(query)"
   ]
  },
  {
   "cell_type": "code",
   "execution_count": 24,
   "metadata": {},
   "outputs": [
    {
     "data": {
      "text/plain": [
       "[Document(page_content='Steps of Creation', metadata={'source': '/Users/mac/Documents/Gospel-Companion/data/Senior/Lesson1_Senior.txt'}),\n",
       " Document(page_content='The steps of creation day by day are most wonderful. God\\'s great purpose was to provide this world for man. In order that man should be sustained here in life, it was necessary that the earth be prepared for the creating of life. The successive creative acts reveal great wisdom and order. God first brought into being the earth, which was without form and void, and darkness was upon the face of the deep. His next act was to command light; for light and the heat, which attends it are essential to human life. He then created the firmament -- the expanse above the earth, modifying the temperature and separating the vaporous waters above (the clouds) from the condensed waters below (the seas). Thus the seas, the atmosphere, and the clouds made perfect provision for life upon the land. Grass, fruits, and herbs were then the next creative act, each with seed after its kind. The geographers tell us that the surface of the earth consists of two thirds water and one third land. At the regular rate of evaporation of the seas, which has been carefully measured, it is found that this proportion is a perfect balance essential to provide moisture for life upon the land. Such is the wisdom of our God. He added to this the sun to rule by day, and the moon to rule by night, besides the planets of our solar system, and the innumerable stars, which sparkle like diamonds in the heavens. \"Through faith we understand that the worlds were framed by the word of God\" [HEB:11:3]).', metadata={'source': '/Users/mac/Documents/Gospel-Companion/data/Senior/Lesson1_Senior.txt'}),\n",
       " Document(page_content='The Holy Trinity in Creation', metadata={'source': '/Users/mac/Documents/Gospel-Companion/data/Senior/Lesson1_Senior.txt'}),\n",
       " Document(page_content='The next step in order was animal life; for the grass, fruits, and herbs provided the food. Moving creatures therefore filled the waters; winged fowl took to the air; and the beasts, cattle, and creeping things populated the lands. God had left no steps untaken to prepare perfectly this earth for man.', metadata={'source': '/Users/mac/Documents/Gospel-Companion/data/Senior/Lesson1_Senior.txt'})]"
      ]
     },
     "execution_count": 24,
     "metadata": {},
     "output_type": "execute_result"
    }
   ],
   "source": [
    "docs"
   ]
  },
  {
   "cell_type": "code",
   "execution_count": 14,
   "metadata": {},
   "outputs": [],
   "source": [
    "retriever = db.as_retriever()"
   ]
  },
  {
   "cell_type": "code",
   "execution_count": 43,
   "metadata": {},
   "outputs": [
    {
     "name": "stderr",
     "output_type": "stream",
     "text": [
      "WARNING! engine is not default parameter.\n",
      "                    engine was transferred to model_kwargs.\n",
      "                    Please confirm that engine is what you intended.\n"
     ]
    }
   ],
   "source": [
    "llm = ChatOpenAI(temperature = 0.0, openai_api_key = os.getenv(\"API_KEY\"), openai_api_base = os.getenv(\"ENDPOINT\"), model_name=\"gpt-35-turbo\", engine=\"gpt-35-turbo\")"
   ]
  },
  {
   "cell_type": "code",
   "execution_count": 44,
   "metadata": {},
   "outputs": [],
   "source": [
    "qa_stuff = RetrievalQA.from_chain_type(\n",
    "    llm=llm, \n",
    "    chain_type=\"stuff\", \n",
    "    retriever=retriever, \n",
    "    verbose=True\n",
    "    )"
   ]
  },
  {
   "cell_type": "code",
   "execution_count": 45,
   "metadata": {},
   "outputs": [
    {
     "data": {
      "text/plain": [
       "[]"
      ]
     },
     "execution_count": 45,
     "metadata": {},
     "output_type": "execute_result"
    }
   ],
   "source": [
    "qa_stuff.get_prompts()"
   ]
  },
  {
   "cell_type": "code",
   "execution_count": 48,
   "metadata": {},
   "outputs": [
    {
     "name": "stdout",
     "output_type": "stream",
     "text": [
      "\n",
      "\n",
      "\u001b[1m> Entering new RetrievalQA chain...\u001b[0m\n",
      "\n",
      "\n",
      "\u001b[1m> Entering new StuffDocumentsChain chain...\u001b[0m\n",
      "\n",
      "\n",
      "\u001b[1m> Entering new LLMChain chain...\u001b[0m\n",
      "Prompt after formatting:\n",
      "\u001b[32;1m\u001b[1;3mSystem: Use the following pieces of context to answer the user's question. \n",
      "If you don't know the answer, just say that you don't know, don't try to make up an answer.\n",
      "----------------\n",
      "Steps of Creation\n",
      "\n",
      "The steps of creation day by day are most wonderful. God's great purpose was to provide this world for man. In order that man should be sustained here in life, it was necessary that the earth be prepared for the creating of life. The successive creative acts reveal great wisdom and order. God first brought into being the earth, which was without form and void, and darkness was upon the face of the deep. His next act was to command light; for light and the heat, which attends it are essential to human life. He then created the firmament -- the expanse above the earth, modifying the temperature and separating the vaporous waters above (the clouds) from the condensed waters below (the seas). Thus the seas, the atmosphere, and the clouds made perfect provision for life upon the land. Grass, fruits, and herbs were then the next creative act, each with seed after its kind. The geographers tell us that the surface of the earth consists of two thirds water and one third land. At the regular rate of evaporation of the seas, which has been carefully measured, it is found that this proportion is a perfect balance essential to provide moisture for life upon the land. Such is the wisdom of our God. He added to this the sun to rule by day, and the moon to rule by night, besides the planets of our solar system, and the innumerable stars, which sparkle like diamonds in the heavens. \"Through faith we understand that the worlds were framed by the word of God\" [HEB:11:3]).\n",
      "\n",
      "6. Name what He created each successive day.\n",
      "\n",
      "7. What was God's comment as He surveyed His completed work?\n",
      "\n",
      "The Holy Trinity in Creation\n",
      "Human: What are the steps to creation? Answer in bullet form\u001b[0m\n",
      "\n",
      "\u001b[1m> Finished chain.\u001b[0m\n",
      "\n",
      "\u001b[1m> Finished chain.\u001b[0m\n",
      "\n",
      "\u001b[1m> Finished chain.\u001b[0m\n"
     ]
    }
   ],
   "source": [
    "query = \"What are the steps to creation? Answer in bullet form\"\n",
    "response = qa_stuff.run(query)"
   ]
  },
  {
   "cell_type": "code",
   "execution_count": 49,
   "metadata": {},
   "outputs": [
    {
     "name": "stdout",
     "output_type": "stream",
     "text": [
      "- God created the earth, which was without form and void, and darkness was upon the face of the deep.\n",
      "- God commanded light to exist.\n",
      "- God created the firmament, which is the expanse above the earth, modifying the temperature and separating the vaporous waters above (the clouds) from the condensed waters below (the seas).\n",
      "- God created grass, fruits, and herbs, each with seed after its kind.\n",
      "- God created the sun to rule by day, and the moon to rule by night, besides the planets of our solar system, and the innumerable stars, which sparkle like diamonds in the heavens.\n",
      "- On the seventh day, God rested from all His work.\n"
     ]
    }
   ],
   "source": [
    "print(response)"
   ]
  },
  {
   "cell_type": "code",
   "execution_count": null,
   "metadata": {},
   "outputs": [],
   "source": []
  }
 ],
 "metadata": {
  "kernelspec": {
   "display_name": "Gospel-Companion",
   "language": "python",
   "name": "python3"
  },
  "language_info": {
   "codemirror_mode": {
    "name": "ipython",
    "version": 3
   },
   "file_extension": ".py",
   "mimetype": "text/x-python",
   "name": "python",
   "nbconvert_exporter": "python",
   "pygments_lexer": "ipython3",
   "version": "3.11.5"
  },
  "orig_nbformat": 4
 },
 "nbformat": 4,
 "nbformat_minor": 2
}
